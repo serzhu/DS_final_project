{
 "cells": [
  {
   "cell_type": "code",
   "execution_count": 33,
   "metadata": {},
   "outputs": [],
   "source": [
    "import pandas as pd\n",
    "import numpy as np\n",
    "import matplotlib.pyplot as plt\n",
    "import seaborn as sns\n",
    "\n",
    "import tensorflow as tf\n",
    "from tensorflow.keras.models import Sequential\n",
    "from tensorflow.keras.layers import Dense, Dropout, BatchNormalization\n",
    "from tensorflow.keras.callbacks import EarlyStopping\n",
    "\n",
    "from sklearn.svm import LinearSVC\n",
    "from sklearn.linear_model import LogisticRegression\n",
    "from sklearn.preprocessing import StandardScaler, MinMaxScaler\n",
    "from sklearn.model_selection import GridSearchCV, train_test_split\n",
    "from sklearn.metrics import make_scorer, classification_report, confusion_matrix, precision_score, recall_score\n",
    "from sklearn.ensemble import RandomForestClassifier\n",
    "\n",
    "from imblearn.over_sampling import SMOTE\n",
    "\n",
    "import joblib\n",
    "import time\n",
    "from pathlib import Path\n",
    "\n",
    "sns.set_style('darkgrid')\n",
    "data_folder = Path('../data')"
   ]
  },
  {
   "cell_type": "code",
   "execution_count": 148,
   "metadata": {},
   "outputs": [],
   "source": [
    "df_final_test = pd.read_csv(data_folder / 'test_data_100_clients.csv')\n",
    "df = pd.read_csv(data_folder / 'train_test_data.csv')\n",
    "df.rename(columns = {'is_movie_package_subscriber':'is_vod_subscriber', 'reamining_contract':'remaining_contract'}, inplace = True)"
   ]
  },
  {
   "cell_type": "code",
   "execution_count": 28,
   "metadata": {},
   "outputs": [
    {
     "data": {
      "text/html": [
       "<div>\n",
       "<style scoped>\n",
       "    .dataframe tbody tr th:only-of-type {\n",
       "        vertical-align: middle;\n",
       "    }\n",
       "\n",
       "    .dataframe tbody tr th {\n",
       "        vertical-align: top;\n",
       "    }\n",
       "\n",
       "    .dataframe thead th {\n",
       "        text-align: right;\n",
       "    }\n",
       "</style>\n",
       "<table border=\"1\" class=\"dataframe\">\n",
       "  <thead>\n",
       "    <tr style=\"text-align: right;\">\n",
       "      <th></th>\n",
       "      <th>id</th>\n",
       "      <th>is_tv_subscriber</th>\n",
       "      <th>is_movie_package_subscriber</th>\n",
       "      <th>subscription_age</th>\n",
       "      <th>bill_avg</th>\n",
       "      <th>reamining_contract</th>\n",
       "      <th>service_failure_count</th>\n",
       "      <th>download_avg</th>\n",
       "      <th>upload_avg</th>\n",
       "      <th>download_over_limit</th>\n",
       "      <th>churn</th>\n",
       "    </tr>\n",
       "  </thead>\n",
       "  <tbody>\n",
       "    <tr>\n",
       "      <th>0</th>\n",
       "      <td>15</td>\n",
       "      <td>1</td>\n",
       "      <td>0</td>\n",
       "      <td>11.95</td>\n",
       "      <td>25</td>\n",
       "      <td>0.14</td>\n",
       "      <td>0</td>\n",
       "      <td>8.4</td>\n",
       "      <td>2.3</td>\n",
       "      <td>0</td>\n",
       "      <td>0</td>\n",
       "    </tr>\n",
       "    <tr>\n",
       "      <th>1</th>\n",
       "      <td>18</td>\n",
       "      <td>0</td>\n",
       "      <td>0</td>\n",
       "      <td>8.22</td>\n",
       "      <td>0</td>\n",
       "      <td>NaN</td>\n",
       "      <td>0</td>\n",
       "      <td>0.0</td>\n",
       "      <td>0.0</td>\n",
       "      <td>0</td>\n",
       "      <td>1</td>\n",
       "    </tr>\n",
       "    <tr>\n",
       "      <th>2</th>\n",
       "      <td>23</td>\n",
       "      <td>1</td>\n",
       "      <td>0</td>\n",
       "      <td>8.91</td>\n",
       "      <td>16</td>\n",
       "      <td>0.00</td>\n",
       "      <td>0</td>\n",
       "      <td>13.7</td>\n",
       "      <td>0.9</td>\n",
       "      <td>0</td>\n",
       "      <td>1</td>\n",
       "    </tr>\n",
       "    <tr>\n",
       "      <th>3</th>\n",
       "      <td>27</td>\n",
       "      <td>0</td>\n",
       "      <td>0</td>\n",
       "      <td>6.87</td>\n",
       "      <td>21</td>\n",
       "      <td>NaN</td>\n",
       "      <td>1</td>\n",
       "      <td>0.0</td>\n",
       "      <td>0.0</td>\n",
       "      <td>0</td>\n",
       "      <td>1</td>\n",
       "    </tr>\n",
       "    <tr>\n",
       "      <th>4</th>\n",
       "      <td>34</td>\n",
       "      <td>0</td>\n",
       "      <td>0</td>\n",
       "      <td>6.39</td>\n",
       "      <td>0</td>\n",
       "      <td>NaN</td>\n",
       "      <td>0</td>\n",
       "      <td>0.0</td>\n",
       "      <td>0.0</td>\n",
       "      <td>0</td>\n",
       "      <td>1</td>\n",
       "    </tr>\n",
       "    <tr>\n",
       "      <th>...</th>\n",
       "      <td>...</td>\n",
       "      <td>...</td>\n",
       "      <td>...</td>\n",
       "      <td>...</td>\n",
       "      <td>...</td>\n",
       "      <td>...</td>\n",
       "      <td>...</td>\n",
       "      <td>...</td>\n",
       "      <td>...</td>\n",
       "      <td>...</td>\n",
       "      <td>...</td>\n",
       "    </tr>\n",
       "    <tr>\n",
       "      <th>72269</th>\n",
       "      <td>1689648</td>\n",
       "      <td>1</td>\n",
       "      <td>1</td>\n",
       "      <td>0.09</td>\n",
       "      <td>0</td>\n",
       "      <td>1.25</td>\n",
       "      <td>0</td>\n",
       "      <td>0.0</td>\n",
       "      <td>0.0</td>\n",
       "      <td>0</td>\n",
       "      <td>1</td>\n",
       "    </tr>\n",
       "    <tr>\n",
       "      <th>72270</th>\n",
       "      <td>1689676</td>\n",
       "      <td>1</td>\n",
       "      <td>0</td>\n",
       "      <td>0.06</td>\n",
       "      <td>1</td>\n",
       "      <td>1.63</td>\n",
       "      <td>0</td>\n",
       "      <td>0.8</td>\n",
       "      <td>0.0</td>\n",
       "      <td>0</td>\n",
       "      <td>1</td>\n",
       "    </tr>\n",
       "    <tr>\n",
       "      <th>72271</th>\n",
       "      <td>1689679</td>\n",
       "      <td>1</td>\n",
       "      <td>0</td>\n",
       "      <td>0.02</td>\n",
       "      <td>0</td>\n",
       "      <td>2.19</td>\n",
       "      <td>0</td>\n",
       "      <td>1.5</td>\n",
       "      <td>0.2</td>\n",
       "      <td>0</td>\n",
       "      <td>1</td>\n",
       "    </tr>\n",
       "    <tr>\n",
       "      <th>72272</th>\n",
       "      <td>1689733</td>\n",
       "      <td>0</td>\n",
       "      <td>0</td>\n",
       "      <td>0.01</td>\n",
       "      <td>0</td>\n",
       "      <td>0.72</td>\n",
       "      <td>0</td>\n",
       "      <td>0.0</td>\n",
       "      <td>0.0</td>\n",
       "      <td>0</td>\n",
       "      <td>1</td>\n",
       "    </tr>\n",
       "    <tr>\n",
       "      <th>72273</th>\n",
       "      <td>1689744</td>\n",
       "      <td>1</td>\n",
       "      <td>1</td>\n",
       "      <td>0.01</td>\n",
       "      <td>0</td>\n",
       "      <td>0.82</td>\n",
       "      <td>0</td>\n",
       "      <td>0.0</td>\n",
       "      <td>0.0</td>\n",
       "      <td>0</td>\n",
       "      <td>1</td>\n",
       "    </tr>\n",
       "  </tbody>\n",
       "</table>\n",
       "<p>72274 rows × 11 columns</p>\n",
       "</div>"
      ],
      "text/plain": [
       "            id  is_tv_subscriber  is_movie_package_subscriber  \\\n",
       "0           15                 1                            0   \n",
       "1           18                 0                            0   \n",
       "2           23                 1                            0   \n",
       "3           27                 0                            0   \n",
       "4           34                 0                            0   \n",
       "...        ...               ...                          ...   \n",
       "72269  1689648                 1                            1   \n",
       "72270  1689676                 1                            0   \n",
       "72271  1689679                 1                            0   \n",
       "72272  1689733                 0                            0   \n",
       "72273  1689744                 1                            1   \n",
       "\n",
       "       subscription_age  bill_avg  reamining_contract  service_failure_count  \\\n",
       "0                 11.95        25                0.14                      0   \n",
       "1                  8.22         0                 NaN                      0   \n",
       "2                  8.91        16                0.00                      0   \n",
       "3                  6.87        21                 NaN                      1   \n",
       "4                  6.39         0                 NaN                      0   \n",
       "...                 ...       ...                 ...                    ...   \n",
       "72269              0.09         0                1.25                      0   \n",
       "72270              0.06         1                1.63                      0   \n",
       "72271              0.02         0                2.19                      0   \n",
       "72272              0.01         0                0.72                      0   \n",
       "72273              0.01         0                0.82                      0   \n",
       "\n",
       "       download_avg  upload_avg  download_over_limit  churn  \n",
       "0               8.4         2.3                    0      0  \n",
       "1               0.0         0.0                    0      1  \n",
       "2              13.7         0.9                    0      1  \n",
       "3               0.0         0.0                    0      1  \n",
       "4               0.0         0.0                    0      1  \n",
       "...             ...         ...                  ...    ...  \n",
       "72269           0.0         0.0                    0      1  \n",
       "72270           0.8         0.0                    0      1  \n",
       "72271           1.5         0.2                    0      1  \n",
       "72272           0.0         0.0                    0      1  \n",
       "72273           0.0         0.0                    0      1  \n",
       "\n",
       "[72274 rows x 11 columns]"
      ]
     },
     "execution_count": 28,
     "metadata": {},
     "output_type": "execute_result"
    }
   ],
   "source": [
    "df_orig = pd.read_csv(data_folder / 'internet_service_churn.csv')\n",
    "df_orig"
   ]
  },
  {
   "cell_type": "markdown",
   "metadata": {},
   "source": [
    "##### Розділемо датасет на 2 частини:  \n",
    "* одна для фінального тстування та завантаження в Streamlit - випадкові 100 рядків \n",
    "* друга (без попередніх рядків) буде використовуватися для аналізу та тренування моделей\n",
    "  \n",
    "Виправимо назви колонок."
   ]
  },
  {
   "cell_type": "code",
   "execution_count": 5,
   "metadata": {},
   "outputs": [],
   "source": [
    "df_final_test = df_orig.sample(n=100, random_state=42)\n",
    "df = df_orig.drop(df_final_test.index)\n",
    "df.to_csv(data_folder / 'train_test_data.csv', index=False)\n",
    "df_final_test.to_csv(data_folder / 'test_data_100_clients.csv', index=False)\n",
    "\n",
    "df.rename(columns = {'is_movie_package_subscriber':'is_vod_subscriber', 'reamining_contract':'remaining_contract'}, inplace = True)"
   ]
  },
  {
   "cell_type": "code",
   "execution_count": 149,
   "metadata": {},
   "outputs": [
    {
     "data": {
      "text/plain": [
       "(72074, 11)"
      ]
     },
     "execution_count": 149,
     "metadata": {},
     "output_type": "execute_result"
    }
   ],
   "source": [
    "df.shape"
   ]
  },
  {
   "cell_type": "markdown",
   "metadata": {},
   "source": [
    "##### Загальна інформація  по датасету"
   ]
  },
  {
   "cell_type": "code",
   "execution_count": 150,
   "metadata": {},
   "outputs": [
    {
     "name": "stdout",
     "output_type": "stream",
     "text": [
      "<class 'pandas.core.frame.DataFrame'>\n",
      "RangeIndex: 72074 entries, 0 to 72073\n",
      "Data columns (total 11 columns):\n",
      " #   Column                 Non-Null Count  Dtype  \n",
      "---  ------                 --------------  -----  \n",
      " 0   id                     72074 non-null  int64  \n",
      " 1   is_tv_subscriber       72074 non-null  int64  \n",
      " 2   is_vod_subscriber      72074 non-null  int64  \n",
      " 3   subscription_age       72074 non-null  float64\n",
      " 4   bill_avg               72074 non-null  int64  \n",
      " 5   remaining_contract     50597 non-null  float64\n",
      " 6   service_failure_count  72074 non-null  int64  \n",
      " 7   download_avg           71699 non-null  float64\n",
      " 8   upload_avg             71699 non-null  float64\n",
      " 9   download_over_limit    72074 non-null  int64  \n",
      " 10  churn                  72074 non-null  int64  \n",
      "dtypes: float64(4), int64(7)\n",
      "memory usage: 6.0 MB\n"
     ]
    }
   ],
   "source": [
    "df.info()"
   ]
  },
  {
   "cell_type": "markdown",
   "metadata": {},
   "source": [
    "Бачимо що в деякіх колонках відсутні значення.   \n",
    "5 ствбчик, та 7 і 8 стовбчики  - містить NaN значення."
   ]
  },
  {
   "cell_type": "markdown",
   "metadata": {},
   "source": [
    "Подивимось на іх кількість"
   ]
  },
  {
   "cell_type": "code",
   "execution_count": 151,
   "metadata": {},
   "outputs": [
    {
     "data": {
      "text/plain": [
       "id                           0\n",
       "is_tv_subscriber             0\n",
       "is_vod_subscriber            0\n",
       "subscription_age             0\n",
       "bill_avg                     0\n",
       "remaining_contract       21477\n",
       "service_failure_count        0\n",
       "download_avg               375\n",
       "upload_avg                 375\n",
       "download_over_limit          0\n",
       "churn                        0\n",
       "dtype: int64"
      ]
     },
     "execution_count": 151,
     "metadata": {},
     "output_type": "execute_result"
    }
   ],
   "source": [
    "df.isna().sum()"
   ]
  },
  {
   "cell_type": "markdown",
   "metadata": {},
   "source": [
    "Кількість значень NaN в стовбчиках 'download_avg' та 'upload_avg' становить менш ніж 0,5% від усіх значень.  \n",
    "Видалимо  рядки з NaN значеннями - це не вплине суттєво на  загальні данні "
   ]
  },
  {
   "cell_type": "code",
   "execution_count": 152,
   "metadata": {},
   "outputs": [],
   "source": [
    "df.dropna(subset=['download_avg', 'upload_avg'], inplace=True, ignore_index=True)"
   ]
  },
  {
   "cell_type": "markdown",
   "metadata": {},
   "source": [
    "##### Перевіримо данні на наявність дублікатів"
   ]
  },
  {
   "cell_type": "code",
   "execution_count": 153,
   "metadata": {},
   "outputs": [
    {
     "name": "stdout",
     "output_type": "stream",
     "text": [
      "1941\n",
      "0\n"
     ]
    }
   ],
   "source": [
    "print(df.iloc[:, 1:-1].duplicated(keep='first').sum())\n",
    "print(df_final_test.iloc[:, 1:-1].duplicated(keep='first').sum())"
   ]
  },
  {
   "cell_type": "code",
   "execution_count": 154,
   "metadata": {},
   "outputs": [
    {
     "data": {
      "text/plain": [
       "(69758, 11)"
      ]
     },
     "execution_count": 154,
     "metadata": {},
     "output_type": "execute_result"
    }
   ],
   "source": [
    "df= df.drop_duplicates(subset=df.iloc[:, 1:-1])\n",
    "df.shape"
   ]
  },
  {
   "cell_type": "markdown",
   "metadata": {},
   "source": [
    "##### Проведемо аналіз данних в 5 стовбчику  \n",
    "У опису до датасету на Kaggle написано: \"how many year remaining for customer contract. if null; customer hasnt have a contract. the customer who has a contract time have to use their service until contract end.\"  \n",
    "Колонка містить значення: <b>Non-zero, 0, NaN</b>  \n",
    "<b>NaN</b> - клієнт не має контракту  \n",
    "<b>Non-zero</b> - контрактний клієнт  \n",
    "<b>0</b> - незрозуміло , спробуємо розібратись.  \n",
    "Побудуємо діаграмму:"
   ]
  },
  {
   "cell_type": "code",
   "execution_count": 155,
   "metadata": {},
   "outputs": [
    {
     "data": {
      "image/png": "[encoded data removed]",
      "text/plain": [
       "<Figure size 600x400 with 1 Axes>"
      ]
     },
     "metadata": {},
     "output_type": "display_data"
    }
   ],
   "source": [
    "df_results = df['remaining_contract'].apply(lambda x: '0' if x == 0 else ('NaN' if pd.isna(x) else 'Non-zero'))\n",
    "f,ax = plt.subplots(figsize=(6,4))\n",
    "sns.countplot(hue=df_results, x='churn', data=df, palette=['r', 'b', 'g'], ax=ax)\n",
    "plt.title('Distribution Non-zero, 0, NaN values in \"remaining_contract\" by client status')\n",
    "for p in ax.patches:\n",
    "    ax.annotate(f'{int(p.get_height())}', (p.get_x() + p.get_width() / 2., p.get_height()), \n",
    "                ha='center', va='bottom')"
   ]
  },
  {
   "cell_type": "markdown",
   "metadata": {},
   "source": [
    "Бачимо що є лише 72 <b>активних</b> клієнта в яких 'reamining_contract' == 0, та 15415 клієнт які відмовились від послуг.  \n",
    "Можна припустити що 0 означає що <b>контракт закінчився</b>.  \n",
    "Таким чином маємо: \n",
    "* 15415 клієнта які не продовжили контракт та пішли   \n",
    "* 72 клієнта в яких контракт закінчується сьогодні, тобто на момент генерації початкових данних"
   ]
  },
  {
   "cell_type": "markdown",
   "metadata": {},
   "source": [
    "Подивимось також скількі клієнтів мають менше місяця до завршення контракту"
   ]
  },
  {
   "cell_type": "code",
   "execution_count": 156,
   "metadata": {},
   "outputs": [
    {
     "data": {
      "text/plain": [
       "1533"
      ]
     },
     "execution_count": 156,
     "metadata": {},
     "output_type": "execute_result"
    }
   ],
   "source": [
    "cond = (df['remaining_contract']>=0)&(df['remaining_contract']<0.1)&(df['churn']==0)\n",
    "df[cond]['id'].count()"
   ]
  },
  {
   "cell_type": "markdown",
   "metadata": {},
   "source": [
    "Вважаю що для тренування моделі цілком розумно буде зробити наступне:  \n",
    "Вибрати всіх <b>активних</b> клієнтів, у яких контракт закінчується через певний проміжок часу (~1 місяць) та змінити їх статус на <b>втрачений</b>.  \n",
    "Таким чином ми змусимо модель <b>заздалегіть</b> виявляти потенційно втрачених клієнтів. "
   ]
  },
  {
   "cell_type": "code",
   "execution_count": 157,
   "metadata": {},
   "outputs": [],
   "source": [
    "df.loc[cond, 'churn'] = 1"
   ]
  },
  {
   "cell_type": "markdown",
   "metadata": {},
   "source": [
    "Перевіримо - так, ці всі клієнти переведені у \"втрачені\""
   ]
  },
  {
   "cell_type": "code",
   "execution_count": 158,
   "metadata": {},
   "outputs": [
    {
     "data": {
      "text/plain": [
       "0"
      ]
     },
     "execution_count": 158,
     "metadata": {},
     "output_type": "execute_result"
    }
   ],
   "source": [
    "df[(df['churn']==0)&(df['remaining_contract']>=0)&(df['remaining_contract']<0.1)]['id'].count()"
   ]
  },
  {
   "cell_type": "markdown",
   "metadata": {},
   "source": [
    "Додамо новий стовбчик 'contract', в якому позначимо - мав\\має клієнт контракт (1) чи ні (0).  \n",
    "Можна сказати, що ми додали нову feature для дослідження та прогнозування."
   ]
  },
  {
   "cell_type": "code",
   "execution_count": 159,
   "metadata": {},
   "outputs": [],
   "source": [
    "df['contract'] = df['remaining_contract'].apply(lambda x: 0 if pd.isna(x) else 1)\n",
    "df.insert(5, 'contract', df.pop('contract'))\n",
    "df['remaining_contract'] = df['remaining_contract'].fillna(0)"
   ]
  },
  {
   "cell_type": "markdown",
   "metadata": {},
   "source": [
    "##### Датасет виглядяє наступним чином:"
   ]
  },
  {
   "cell_type": "code",
   "execution_count": 164,
   "metadata": {},
   "outputs": [
    {
     "data": {
      "text/html": [
       "<div>\n",
       "<style scoped>\n",
       "    .dataframe tbody tr th:only-of-type {\n",
       "        vertical-align: middle;\n",
       "    }\n",
       "\n",
       "    .dataframe tbody tr th {\n",
       "        vertical-align: top;\n",
       "    }\n",
       "\n",
       "    .dataframe thead th {\n",
       "        text-align: right;\n",
       "    }\n",
       "</style>\n",
       "<table border=\"1\" class=\"dataframe\">\n",
       "  <thead>\n",
       "    <tr style=\"text-align: right;\">\n",
       "      <th></th>\n",
       "      <th>id</th>\n",
       "      <th>contract</th>\n",
       "      <th>remaining_contract</th>\n",
       "      <th>churn</th>\n",
       "    </tr>\n",
       "  </thead>\n",
       "  <tbody>\n",
       "    <tr>\n",
       "      <th>44462</th>\n",
       "      <td>1047250</td>\n",
       "      <td>1</td>\n",
       "      <td>0.00</td>\n",
       "      <td>1</td>\n",
       "    </tr>\n",
       "    <tr>\n",
       "      <th>66022</th>\n",
       "      <td>1552344</td>\n",
       "      <td>1</td>\n",
       "      <td>1.72</td>\n",
       "      <td>0</td>\n",
       "    </tr>\n",
       "    <tr>\n",
       "      <th>27665</th>\n",
       "      <td>653267</td>\n",
       "      <td>0</td>\n",
       "      <td>0.00</td>\n",
       "      <td>0</td>\n",
       "    </tr>\n",
       "    <tr>\n",
       "      <th>55051</th>\n",
       "      <td>1294976</td>\n",
       "      <td>1</td>\n",
       "      <td>0.00</td>\n",
       "      <td>1</td>\n",
       "    </tr>\n",
       "    <tr>\n",
       "      <th>37336</th>\n",
       "      <td>880180</td>\n",
       "      <td>1</td>\n",
       "      <td>0.28</td>\n",
       "      <td>0</td>\n",
       "    </tr>\n",
       "    <tr>\n",
       "      <th>28015</th>\n",
       "      <td>661045</td>\n",
       "      <td>0</td>\n",
       "      <td>0.00</td>\n",
       "      <td>1</td>\n",
       "    </tr>\n",
       "    <tr>\n",
       "      <th>54763</th>\n",
       "      <td>1287969</td>\n",
       "      <td>1</td>\n",
       "      <td>0.01</td>\n",
       "      <td>1</td>\n",
       "    </tr>\n",
       "    <tr>\n",
       "      <th>19054</th>\n",
       "      <td>449591</td>\n",
       "      <td>1</td>\n",
       "      <td>0.00</td>\n",
       "      <td>1</td>\n",
       "    </tr>\n",
       "    <tr>\n",
       "      <th>32535</th>\n",
       "      <td>768433</td>\n",
       "      <td>0</td>\n",
       "      <td>0.00</td>\n",
       "      <td>1</td>\n",
       "    </tr>\n",
       "    <tr>\n",
       "      <th>52524</th>\n",
       "      <td>1237190</td>\n",
       "      <td>1</td>\n",
       "      <td>0.10</td>\n",
       "      <td>0</td>\n",
       "    </tr>\n",
       "  </tbody>\n",
       "</table>\n",
       "</div>"
      ],
      "text/plain": [
       "            id  contract  remaining_contract  churn\n",
       "44462  1047250         1                0.00      1\n",
       "66022  1552344         1                1.72      0\n",
       "27665   653267         0                0.00      0\n",
       "55051  1294976         1                0.00      1\n",
       "37336   880180         1                0.28      0\n",
       "28015   661045         0                0.00      1\n",
       "54763  1287969         1                0.01      1\n",
       "19054   449591         1                0.00      1\n",
       "32535   768433         0                0.00      1\n",
       "52524  1237190         1                0.10      0"
      ]
     },
     "execution_count": 164,
     "metadata": {},
     "output_type": "execute_result"
    }
   ],
   "source": [
    "df[['id', 'contract', 'remaining_contract', 'churn']].sample(n=10, random_state=43)"
   ]
  },
  {
   "cell_type": "code",
   "execution_count": 165,
   "metadata": {},
   "outputs": [
    {
     "name": "stdout",
     "output_type": "stream",
     "text": [
      "<class 'pandas.core.frame.DataFrame'>\n",
      "Index: 69758 entries, 0 to 71698\n",
      "Data columns (total 12 columns):\n",
      " #   Column                 Non-Null Count  Dtype  \n",
      "---  ------                 --------------  -----  \n",
      " 0   id                     69758 non-null  int64  \n",
      " 1   is_tv_subscriber       69758 non-null  int64  \n",
      " 2   is_vod_subscriber      69758 non-null  int64  \n",
      " 3   subscription_age       69758 non-null  float64\n",
      " 4   bill_avg               69758 non-null  int64  \n",
      " 5   contract               69758 non-null  int64  \n",
      " 6   remaining_contract     69758 non-null  float64\n",
      " 7   service_failure_count  69758 non-null  int64  \n",
      " 8   download_avg           69758 non-null  float64\n",
      " 9   upload_avg             69758 non-null  float64\n",
      " 10  download_over_limit    69758 non-null  int64  \n",
      " 11  churn                  69758 non-null  int64  \n",
      "dtypes: float64(4), int64(8)\n",
      "memory usage: 6.9 MB\n",
      "None\n"
     ]
    },
    {
     "data": {
      "image/png": "[encoded data removed]",
      "text/plain": [
       "<Figure size 600x400 with 1 Axes>"
      ]
     },
     "metadata": {},
     "output_type": "display_data"
    }
   ],
   "source": [
    "print(df.info())\n",
    "\n",
    "df_results = df['remaining_contract'].apply(lambda x: '0' if x == 0 else  'Non-zero')\n",
    "f,ax = plt.subplots(figsize=(6,4))\n",
    "sns.countplot(x=df_results, hue='churn', data=df, palette=['r', 'b'], ax=ax)\n",
    "for p in ax.patches:\n",
    "    ax.annotate(f'{int(p.get_height())}', (p.get_x() + p.get_width() / 2., p.get_height()), \n",
    "                ha='center', va='bottom')"
   ]
  },
  {
   "cell_type": "markdown",
   "metadata": {},
   "source": [
    "##### Подивимось на статистичні данні"
   ]
  },
  {
   "cell_type": "code",
   "execution_count": 166,
   "metadata": {},
   "outputs": [
    {
     "data": {
      "text/html": [
       "<div>\n",
       "<style scoped>\n",
       "    .dataframe tbody tr th:only-of-type {\n",
       "        vertical-align: middle;\n",
       "    }\n",
       "\n",
       "    .dataframe tbody tr th {\n",
       "        vertical-align: top;\n",
       "    }\n",
       "\n",
       "    .dataframe thead th {\n",
       "        text-align: right;\n",
       "    }\n",
       "</style>\n",
       "<table border=\"1\" class=\"dataframe\">\n",
       "  <thead>\n",
       "    <tr style=\"text-align: right;\">\n",
       "      <th></th>\n",
       "      <th>count</th>\n",
       "      <th>mean</th>\n",
       "      <th>std</th>\n",
       "      <th>min</th>\n",
       "      <th>25%</th>\n",
       "      <th>50%</th>\n",
       "      <th>75%</th>\n",
       "      <th>max</th>\n",
       "    </tr>\n",
       "  </thead>\n",
       "  <tbody>\n",
       "    <tr>\n",
       "      <th>is_tv_subscriber</th>\n",
       "      <td>69758.0</td>\n",
       "      <td>0.825081</td>\n",
       "      <td>0.379901</td>\n",
       "      <td>0.00</td>\n",
       "      <td>1.00</td>\n",
       "      <td>1.00</td>\n",
       "      <td>1.00</td>\n",
       "      <td>1.00</td>\n",
       "    </tr>\n",
       "    <tr>\n",
       "      <th>is_vod_subscriber</th>\n",
       "      <td>69758.0</td>\n",
       "      <td>0.340233</td>\n",
       "      <td>0.473791</td>\n",
       "      <td>0.00</td>\n",
       "      <td>0.00</td>\n",
       "      <td>0.00</td>\n",
       "      <td>1.00</td>\n",
       "      <td>1.00</td>\n",
       "    </tr>\n",
       "    <tr>\n",
       "      <th>subscription_age</th>\n",
       "      <td>69758.0</td>\n",
       "      <td>2.476921</td>\n",
       "      <td>2.024732</td>\n",
       "      <td>-0.02</td>\n",
       "      <td>0.95</td>\n",
       "      <td>1.98</td>\n",
       "      <td>3.36</td>\n",
       "      <td>12.80</td>\n",
       "    </tr>\n",
       "    <tr>\n",
       "      <th>bill_avg</th>\n",
       "      <td>69758.0</td>\n",
       "      <td>19.256458</td>\n",
       "      <td>13.168920</td>\n",
       "      <td>0.00</td>\n",
       "      <td>13.00</td>\n",
       "      <td>19.00</td>\n",
       "      <td>23.00</td>\n",
       "      <td>406.00</td>\n",
       "    </tr>\n",
       "    <tr>\n",
       "      <th>contract</th>\n",
       "      <td>69758.0</td>\n",
       "      <td>0.708249</td>\n",
       "      <td>0.454572</td>\n",
       "      <td>0.00</td>\n",
       "      <td>0.00</td>\n",
       "      <td>1.00</td>\n",
       "      <td>1.00</td>\n",
       "      <td>1.00</td>\n",
       "    </tr>\n",
       "    <tr>\n",
       "      <th>remaining_contract</th>\n",
       "      <td>69758.0</td>\n",
       "      <td>0.511486</td>\n",
       "      <td>0.669651</td>\n",
       "      <td>0.00</td>\n",
       "      <td>0.00</td>\n",
       "      <td>0.00</td>\n",
       "      <td>1.05</td>\n",
       "      <td>2.92</td>\n",
       "    </tr>\n",
       "    <tr>\n",
       "      <th>service_failure_count</th>\n",
       "      <td>69758.0</td>\n",
       "      <td>0.282821</td>\n",
       "      <td>0.828389</td>\n",
       "      <td>0.00</td>\n",
       "      <td>0.00</td>\n",
       "      <td>0.00</td>\n",
       "      <td>0.00</td>\n",
       "      <td>19.00</td>\n",
       "    </tr>\n",
       "    <tr>\n",
       "      <th>download_avg</th>\n",
       "      <td>69758.0</td>\n",
       "      <td>44.924258</td>\n",
       "      <td>63.826646</td>\n",
       "      <td>0.00</td>\n",
       "      <td>8.30</td>\n",
       "      <td>29.20</td>\n",
       "      <td>61.80</td>\n",
       "      <td>4415.20</td>\n",
       "    </tr>\n",
       "    <tr>\n",
       "      <th>upload_avg</th>\n",
       "      <td>69758.0</td>\n",
       "      <td>4.310382</td>\n",
       "      <td>9.926757</td>\n",
       "      <td>0.00</td>\n",
       "      <td>0.60</td>\n",
       "      <td>2.20</td>\n",
       "      <td>5.00</td>\n",
       "      <td>453.30</td>\n",
       "    </tr>\n",
       "    <tr>\n",
       "      <th>download_over_limit</th>\n",
       "      <td>69758.0</td>\n",
       "      <td>0.208406</td>\n",
       "      <td>0.998718</td>\n",
       "      <td>0.00</td>\n",
       "      <td>0.00</td>\n",
       "      <td>0.00</td>\n",
       "      <td>0.00</td>\n",
       "      <td>7.00</td>\n",
       "    </tr>\n",
       "    <tr>\n",
       "      <th>churn</th>\n",
       "      <td>69758.0</td>\n",
       "      <td>0.566659</td>\n",
       "      <td>0.495540</td>\n",
       "      <td>0.00</td>\n",
       "      <td>0.00</td>\n",
       "      <td>1.00</td>\n",
       "      <td>1.00</td>\n",
       "      <td>1.00</td>\n",
       "    </tr>\n",
       "  </tbody>\n",
       "</table>\n",
       "</div>"
      ],
      "text/plain": [
       "                         count       mean        std   min    25%    50%  \\\n",
       "is_tv_subscriber       69758.0   0.825081   0.379901  0.00   1.00   1.00   \n",
       "is_vod_subscriber      69758.0   0.340233   0.473791  0.00   0.00   0.00   \n",
       "subscription_age       69758.0   2.476921   2.024732 -0.02   0.95   1.98   \n",
       "bill_avg               69758.0  19.256458  13.168920  0.00  13.00  19.00   \n",
       "contract               69758.0   0.708249   0.454572  0.00   0.00   1.00   \n",
       "remaining_contract     69758.0   0.511486   0.669651  0.00   0.00   0.00   \n",
       "service_failure_count  69758.0   0.282821   0.828389  0.00   0.00   0.00   \n",
       "download_avg           69758.0  44.924258  63.826646  0.00   8.30  29.20   \n",
       "upload_avg             69758.0   4.310382   9.926757  0.00   0.60   2.20   \n",
       "download_over_limit    69758.0   0.208406   0.998718  0.00   0.00   0.00   \n",
       "churn                  69758.0   0.566659   0.495540  0.00   0.00   1.00   \n",
       "\n",
       "                         75%      max  \n",
       "is_tv_subscriber        1.00     1.00  \n",
       "is_vod_subscriber       1.00     1.00  \n",
       "subscription_age        3.36    12.80  \n",
       "bill_avg               23.00   406.00  \n",
       "contract                1.00     1.00  \n",
       "remaining_contract      1.05     2.92  \n",
       "service_failure_count   0.00    19.00  \n",
       "download_avg           61.80  4415.20  \n",
       "upload_avg              5.00   453.30  \n",
       "download_over_limit     0.00     7.00  \n",
       "churn                   1.00     1.00  "
      ]
     },
     "execution_count": 166,
     "metadata": {},
     "output_type": "execute_result"
    }
   ],
   "source": [
    "df.iloc[:, 1:].describe().transpose()"
   ]
  },
  {
   "cell_type": "markdown",
   "metadata": {},
   "source": [
    "##### Бачимо що:\n",
    "* is_tv_subscriber - послугу IPTV  підключали більше 75% клієнтів\n",
    "* subscription_age - 75% клієнтів компанії були підключені за останні 3 роки \n",
    "* bill_avg - 75% клієнтів компанії платять менше 23$\n",
    "* reamining_contract - треба дослідити  \n",
    "\n",
    "##### Подивимось більш детально. Виділимо ативних та неактивних клієнтів"
   ]
  },
  {
   "cell_type": "code",
   "execution_count": 167,
   "metadata": {},
   "outputs": [],
   "source": [
    "alive = df[df['churn'] == 0]\n",
    "die = df[df['churn'] == 1]"
   ]
  },
  {
   "cell_type": "code",
   "execution_count": 168,
   "metadata": {},
   "outputs": [
    {
     "data": {
      "image/png": "[encoded data removed]",
      "text/plain": [
       "<Figure size 1200x300 with 3 Axes>"
      ]
     },
     "metadata": {},
     "output_type": "display_data"
    }
   ],
   "source": [
    "f, axs = plt.subplots(1, 3, figsize=(12, 3))\n",
    "sns.countplot(x='churn', hue='contract', data=df, ax=axs[0], palette=['r','b'])\n",
    "axs[0].set_title(\"Distribution of variable 'contract'\")\n",
    "\n",
    "sns.countplot(x='churn', hue='is_tv_subscriber', data=df, ax=axs[1], palette=['r','b'])\n",
    "axs[1].set_title(\"Distribution of variable 'is_tv_subscriber'\")\n",
    "axs[1].legend(loc=\"upper left\")\n",
    "\n",
    "sns.countplot(x='churn', hue='is_vod_subscriber', data=df, ax=axs[2], palette=['r','b'])\n",
    "axs[2].set_title(\"Distribution of variable'is_vod_subscribere'\")\n",
    "axs[2].legend(loc=\"upper left\")\n",
    "\n",
    "plt.tight_layout()\n",
    "plt.show()"
   ]
  },
  {
   "cell_type": "markdown",
   "metadata": {},
   "source": [
    "##### По графікам можна побачити:\n",
    "1. Майже всі активні клієнти мають контракт, а в неактивних в половини його не було.\n",
    "2. Більшість активних клієнтів підключені до послуг IPTV\n",
    "3. Половина активних клієнтів мають доступ до відеотеки"
   ]
  },
  {
   "cell_type": "code",
   "execution_count": 169,
   "metadata": {},
   "outputs": [
    {
     "data": {
      "image/png": "[encoded data removed]",
      "text/plain": [
       "<Figure size 1300x300 with 3 Axes>"
      ]
     },
     "metadata": {},
     "output_type": "display_data"
    }
   ],
   "source": [
    "fig, axs = plt.subplots(1, 3, figsize=(13, 3))\n",
    "\n",
    "sns.histplot(df[df['subscription_age']<10]['subscription_age'], bins=10, color='r', ax=axs[0], shrink=0.9, label='terminated')\n",
    "sns.histplot(alive[alive['subscription_age']<10]['subscription_age'], bins=10, color='b', ax=axs[0], shrink=0.9, label='active')\n",
    "axs[0].set_xticks(np.arange(0, 11, 1))\n",
    "axs[0].set_title(\"Distribution of subscription_age variable\")\n",
    "axs[0].legend(loc=\"upper right\")\n",
    "\n",
    "sns.histplot(df[df['bill_avg'] < 50]['bill_avg'], bins=10, color='r', ax=axs[1], label='terminated')\n",
    "sns.histplot(alive[alive['bill_avg'] < 50]['bill_avg'], bins=10, color='b', ax=axs[1], label='active')\n",
    "axs[1].set_xticks(np.arange(0, 51, 5))\n",
    "axs[1].set_title(\"Distribution of bill_avg variable\")\n",
    "axs[1].legend(loc=\"upper right\")\n",
    "\n",
    "\n",
    "corp_client = len(alive[alive['bill_avg'] >= 200]['bill_avg'])\n",
    "sns.histplot(df[df['bill_avg'] >= 200]['bill_avg'], bins=10, color='r', ax=axs[2], label='terminated')\n",
    "sns.histplot(alive[alive['bill_avg'] >= 200]['bill_avg'], bins=10, color='b', ax=axs[2], label='active')\n",
    "axs[2].set_title(f\"bill_avg of {corp_client} corporative clients\")\n",
    "axs[2].legend(loc=\"best\", bbox_to_anchor=(0.5, 0.5, 0.5, 0.5))\n",
    "\n",
    "plt.tight_layout()\n",
    "plt.show()"
   ]
  },
  {
   "cell_type": "markdown",
   "metadata": {},
   "source": [
    "##### По графікам можна побачити:\n",
    "1.  За останні 2 роки поступово зменшувалась кількість нових клієнтів. До цього спостерігався значний приріст.  \n",
    "Червоним позначено клієнтів які починали працювати {subscription_age} років назад і припинили користування\n",
    "2.  Більшість клієнтів (~55 000) сплачують в середньому від 10 до 25 $ за послуги, з них 26 000 активних\n",
    "3.  З цікавого - компанія має 22 клієнти які сплачують більше 200$, скоріш за все це корпоративні клієнти  "
   ]
  },
  {
   "cell_type": "markdown",
   "metadata": {},
   "source": [
    "##### Подивимось як корелюють ознаки(features) та цільова ознака(target)"
   ]
  },
  {
   "cell_type": "code",
   "execution_count": 170,
   "metadata": {},
   "outputs": [
    {
     "data": {
      "text/html": [
       "<style type=\"text/css\">\n",
       "#T_047d8_row0_col0 {\n",
       "  background-color: #aec9fc;\n",
       "  color: #000000;\n",
       "}\n",
       "#T_047d8_row1_col0 {\n",
       "  background-color: #b1cbfc;\n",
       "  color: #000000;\n",
       "}\n",
       "#T_047d8_row2_col0 {\n",
       "  background-color: #d1dae9;\n",
       "  color: #000000;\n",
       "}\n",
       "#T_047d8_row3_col0 {\n",
       "  background-color: #dcdddd;\n",
       "  color: #000000;\n",
       "}\n",
       "#T_047d8_row4_col0 {\n",
       "  background-color: #96b7ff;\n",
       "  color: #000000;\n",
       "}\n",
       "#T_047d8_row5_col0 {\n",
       "  background-color: #688aef;\n",
       "  color: #f1f1f1;\n",
       "}\n",
       "#T_047d8_row6_col0 {\n",
       "  background-color: #e0dbd8;\n",
       "  color: #000000;\n",
       "}\n",
       "#T_047d8_row7_col0 {\n",
       "  background-color: #b5cdfa;\n",
       "  color: #000000;\n",
       "}\n",
       "#T_047d8_row8_col0 {\n",
       "  background-color: #c9d7f0;\n",
       "  color: #000000;\n",
       "}\n",
       "#T_047d8_row9_col0 {\n",
       "  background-color: #eed0c0;\n",
       "  color: #000000;\n",
       "}\n",
       "</style>\n",
       "<table id=\"T_047d8\">\n",
       "  <thead>\n",
       "    <tr>\n",
       "      <th class=\"blank level0\" >&nbsp;</th>\n",
       "      <th id=\"T_047d8_level0_col0\" class=\"col_heading level0 col0\" >churn</th>\n",
       "    </tr>\n",
       "  </thead>\n",
       "  <tbody>\n",
       "    <tr>\n",
       "      <th id=\"T_047d8_level0_row0\" class=\"row_heading level0 row0\" >is_tv_subscriber</th>\n",
       "      <td id=\"T_047d8_row0_col0\" class=\"data row0 col0\" >-0.31</td>\n",
       "    </tr>\n",
       "    <tr>\n",
       "      <th id=\"T_047d8_level0_row1\" class=\"row_heading level0 row1\" >is_vod_subscriber</th>\n",
       "      <td id=\"T_047d8_row1_col0\" class=\"data row1 col0\" >-0.29</td>\n",
       "    </tr>\n",
       "    <tr>\n",
       "      <th id=\"T_047d8_level0_row2\" class=\"row_heading level0 row2\" >subscription_age</th>\n",
       "      <td id=\"T_047d8_row2_col0\" class=\"data row2 col0\" >-0.092</td>\n",
       "    </tr>\n",
       "    <tr>\n",
       "      <th id=\"T_047d8_level0_row3\" class=\"row_heading level0 row3\" >bill_avg</th>\n",
       "      <td id=\"T_047d8_row3_col0\" class=\"data row3 col0\" >-0.0025</td>\n",
       "    </tr>\n",
       "    <tr>\n",
       "      <th id=\"T_047d8_level0_row4\" class=\"row_heading level0 row4\" >contract</th>\n",
       "      <td id=\"T_047d8_row4_col0\" class=\"data row4 col0\" >-0.45</td>\n",
       "    </tr>\n",
       "    <tr>\n",
       "      <th id=\"T_047d8_level0_row5\" class=\"row_heading level0 row5\" >remaining_contract</th>\n",
       "      <td id=\"T_047d8_row5_col0\" class=\"data row5 col0\" >-0.71</td>\n",
       "    </tr>\n",
       "    <tr>\n",
       "      <th id=\"T_047d8_level0_row6\" class=\"row_heading level0 row6\" >service_failure_count</th>\n",
       "      <td id=\"T_047d8_row6_col0\" class=\"data row6 col0\" >0.025</td>\n",
       "    </tr>\n",
       "    <tr>\n",
       "      <th id=\"T_047d8_level0_row7\" class=\"row_heading level0 row7\" >download_avg</th>\n",
       "      <td id=\"T_047d8_row7_col0\" class=\"data row7 col0\" >-0.27</td>\n",
       "    </tr>\n",
       "    <tr>\n",
       "      <th id=\"T_047d8_level0_row8\" class=\"row_heading level0 row8\" >upload_avg</th>\n",
       "      <td id=\"T_047d8_row8_col0\" class=\"data row8 col0\" >-0.15</td>\n",
       "    </tr>\n",
       "    <tr>\n",
       "      <th id=\"T_047d8_level0_row9\" class=\"row_heading level0 row9\" >download_over_limit</th>\n",
       "      <td id=\"T_047d8_row9_col0\" class=\"data row9 col0\" >0.15</td>\n",
       "    </tr>\n",
       "  </tbody>\n",
       "</table>\n"
      ],
      "text/plain": [
       "<pandas.io.formats.style.Styler at 0x17a0e20b650>"
      ]
     },
     "execution_count": 170,
     "metadata": {},
     "output_type": "execute_result"
    }
   ],
   "source": [
    "# styles = [dict(selector=\"th\", props=[('width', '40px')]),\n",
    "#             dict(selector=\"th.col_heading\",\n",
    "#                 props=[(\"writing-mode\", \"vertical-rl\"),\n",
    "#                         ('transform', 'rotateZ(180deg)'),\n",
    "#                         ('vertical-align', 'middle'),\n",
    "#                         ('text-align', 'left')\n",
    "#                         ])]\n",
    "# df_corr_styled = df_corr.set_table_styles(styles)\n",
    "\n",
    "df_corr = df.iloc[:, 1:].corr().iloc[:-1,-1:].style.format(\"{:.2}\")\n",
    "df_corr.background_gradient(cmap=plt.get_cmap('coolwarm'), axis=1, vmin=-1, vmax=1)"
   ]
  },
  {
   "cell_type": "markdown",
   "metadata": {},
   "source": [
    "Бачимо що ознаки \"contract\" та \"remaining_contract\" мають найбільшу кореляцю з цільовою ознакою.  \n",
    "Вона від'ємна, тобто при зменшенні значення  однієї ознаки інша зростає.  \n",
    "Скоріш за все вони будуть найважливіші при прогнозуванні.\n",
    "\n",
    "##### По цим данним можна стверджувати що:\n",
    "* чим менше часу до закінчення контракту [--> 0] тим БІЛЬШЕ вірогідність того що клієнт відмовиться від послуг [1]\n",
    "* якщо нема підписаного контракту [0] то БІЛЬШЕ вірогідність того що клієнт відмовиться від послуг [1]\n",
    "* чим менше вхідна швидкість мережі [--> 0] тим БІЛЬШЕ вірогідність того що клієнт відмовиться від послуг [1]\n",
    "* якщо в клієнта немає підписки на IPTV чи відеотеку тим БІЛЬШЕ вірогідність того що клієнт відмовиться від послуг [1]  \n",
    "\n",
    "Цікаво що довготривалість підиски (subscription_age) не дуже впливає на рішення клієнта припинити користування"
   ]
  },
  {
   "cell_type": "markdown",
   "metadata": {},
   "source": [
    "----"
   ]
  },
  {
   "cell_type": "markdown",
   "metadata": {},
   "source": [
    "##### Виділимо features та target"
   ]
  },
  {
   "cell_type": "code",
   "execution_count": 172,
   "metadata": {},
   "outputs": [],
   "source": [
    "y = df['churn']\n",
    "X = df.drop(columns=['churn','id'])"
   ]
  },
  {
   "cell_type": "markdown",
   "metadata": {},
   "source": [
    "##### Подивимось на збалансованість данних"
   ]
  },
  {
   "cell_type": "code",
   "execution_count": 173,
   "metadata": {},
   "outputs": [
    {
     "name": "stdout",
     "output_type": "stream",
     "text": [
      "churn\n",
      "1    39529\n",
      "0    30229\n",
      "Name: count, dtype: int64\n"
     ]
    }
   ],
   "source": [
    "print(y.value_counts())"
   ]
  },
  {
   "cell_type": "markdown",
   "metadata": {},
   "source": [
    "##### Розділемо данні на тренувальну та тестову вибірки.  \n",
    "Враховуючи що є незбалансованість вирішено примінити oversample метод  SMOTE(Synthetic Minority Oversampling Technique)  \n",
    "Для стандартизації данних будемо використовувати метод StandardScaler"
   ]
  },
  {
   "cell_type": "code",
   "execution_count": 234,
   "metadata": {},
   "outputs": [
    {
     "name": "stdout",
     "output_type": "stream",
     "text": [
      "(array([0, 1], dtype=int64), array([24171, 31635], dtype=int64))\n"
     ]
    }
   ],
   "source": [
    "x_train, x_test, y_train, y_test = train_test_split(X, y, test_size=0.2, random_state=42)\n",
    "print(np.unique(y_train, return_counts=True))"
   ]
  },
  {
   "cell_type": "code",
   "execution_count": 175,
   "metadata": {},
   "outputs": [
    {
     "data": {
      "text/html": [
       "<style>#sk-container-id-4 {\n",
       "  /* Definition of color scheme common for light and dark mode */\n",
       "  --sklearn-color-text: black;\n",
       "  --sklearn-color-line: gray;\n",
       "  /* Definition of color scheme for unfitted estimators */\n",
       "  --sklearn-color-unfitted-level-0: #fff5e6;\n",
       "  --sklearn-color-unfitted-level-1: #f6e4d2;\n",
       "  --sklearn-color-unfitted-level-2: #ffe0b3;\n",
       "  --sklearn-color-unfitted-level-3: chocolate;\n",
       "  /* Definition of color scheme for fitted estimators */\n",
       "  --sklearn-color-fitted-level-0: #f0f8ff;\n",
       "  --sklearn-color-fitted-level-1: #d4ebff;\n",
       "  --sklearn-color-fitted-level-2: #b3dbfd;\n",
       "  --sklearn-color-fitted-level-3: cornflowerblue;\n",
       "\n",
       "  /* Specific color for light theme */\n",
       "  --sklearn-color-text-on-default-background: var(--sg-text-color, var(--theme-code-foreground, var(--jp-content-font-color1, black)));\n",
       "  --sklearn-color-background: var(--sg-background-color, var(--theme-background, var(--jp-layout-color0, white)));\n",
       "  --sklearn-color-border-box: var(--sg-text-color, var(--theme-code-foreground, var(--jp-content-font-color1, black)));\n",
       "  --sklearn-color-icon: #696969;\n",
       "\n",
       "  @media (prefers-color-scheme: dark) {\n",
       "    /* Redefinition of color scheme for dark theme */\n",
       "    --sklearn-color-text-on-default-background: var(--sg-text-color, var(--theme-code-foreground, var(--jp-content-font-color1, white)));\n",
       "    --sklearn-color-background: var(--sg-background-color, var(--theme-background, var(--jp-layout-color0, #111)));\n",
       "    --sklearn-color-border-box: var(--sg-text-color, var(--theme-code-foreground, var(--jp-content-font-color1, white)));\n",
       "    --sklearn-color-icon: #878787;\n",
       "  }\n",
       "}\n",
       "\n",
       "#sk-container-id-4 {\n",
       "  color: var(--sklearn-color-text);\n",
       "}\n",
       "\n",
       "#sk-container-id-4 pre {\n",
       "  padding: 0;\n",
       "}\n",
       "\n",
       "#sk-container-id-4 input.sk-hidden--visually {\n",
       "  border: 0;\n",
       "  clip: rect(1px 1px 1px 1px);\n",
       "  clip: rect(1px, 1px, 1px, 1px);\n",
       "  height: 1px;\n",
       "  margin: -1px;\n",
       "  overflow: hidden;\n",
       "  padding: 0;\n",
       "  position: absolute;\n",
       "  width: 1px;\n",
       "}\n",
       "\n",
       "#sk-container-id-4 div.sk-dashed-wrapped {\n",
       "  border: 1px dashed var(--sklearn-color-line);\n",
       "  margin: 0 0.4em 0.5em 0.4em;\n",
       "  box-sizing: border-box;\n",
       "  padding-bottom: 0.4em;\n",
       "  background-color: var(--sklearn-color-background);\n",
       "}\n",
       "\n",
       "#sk-container-id-4 div.sk-container {\n",
       "  /* jupyter's `normalize.less` sets `[hidden] { display: none; }`\n",
       "     but bootstrap.min.css set `[hidden] { display: none !important; }`\n",
       "     so we also need the `!important` here to be able to override the\n",
       "     default hidden behavior on the sphinx rendered scikit-learn.org.\n",
       "     See: https://github.com/scikit-learn/scikit-learn/issues/21755 */\n",
       "  display: inline-block !important;\n",
       "  position: relative;\n",
       "}\n",
       "\n",
       "#sk-container-id-4 div.sk-text-repr-fallback {\n",
       "  display: none;\n",
       "}\n",
       "\n",
       "div.sk-parallel-item,\n",
       "div.sk-serial,\n",
       "div.sk-item {\n",
       "  /* draw centered vertical line to link estimators */\n",
       "  background-image: linear-gradient(var(--sklearn-color-text-on-default-background), var(--sklearn-color-text-on-default-background));\n",
       "  background-size: 2px 100%;\n",
       "  background-repeat: no-repeat;\n",
       "  background-position: center center;\n",
       "}\n",
       "\n",
       "/* Parallel-specific style estimator block */\n",
       "\n",
       "#sk-container-id-4 div.sk-parallel-item::after {\n",
       "  content: \"\";\n",
       "  width: 100%;\n",
       "  border-bottom: 2px solid var(--sklearn-color-text-on-default-background);\n",
       "  flex-grow: 1;\n",
       "}\n",
       "\n",
       "#sk-container-id-4 div.sk-parallel {\n",
       "  display: flex;\n",
       "  align-items: stretch;\n",
       "  justify-content: center;\n",
       "  background-color: var(--sklearn-color-background);\n",
       "  position: relative;\n",
       "}\n",
       "\n",
       "#sk-container-id-4 div.sk-parallel-item {\n",
       "  display: flex;\n",
       "  flex-direction: column;\n",
       "}\n",
       "\n",
       "#sk-container-id-4 div.sk-parallel-item:first-child::after {\n",
       "  align-self: flex-end;\n",
       "  width: 50%;\n",
       "}\n",
       "\n",
       "#sk-container-id-4 div.sk-parallel-item:last-child::after {\n",
       "  align-self: flex-start;\n",
       "  width: 50%;\n",
       "}\n",
       "\n",
       "#sk-container-id-4 div.sk-parallel-item:only-child::after {\n",
       "  width: 0;\n",
       "}\n",
       "\n",
       "/* Serial-specific style estimator block */\n",
       "\n",
       "#sk-container-id-4 div.sk-serial {\n",
       "  display: flex;\n",
       "  flex-direction: column;\n",
       "  align-items: center;\n",
       "  background-color: var(--sklearn-color-background);\n",
       "  padding-right: 1em;\n",
       "  padding-left: 1em;\n",
       "}\n",
       "\n",
       "\n",
       "/* Toggleable style: style used for estimator/Pipeline/ColumnTransformer box that is\n",
       "clickable and can be expanded/collapsed.\n",
       "- Pipeline and ColumnTransformer use this feature and define the default style\n",
       "- Estimators will overwrite some part of the style using the `sk-estimator` class\n",
       "*/\n",
       "\n",
       "/* Pipeline and ColumnTransformer style (default) */\n",
       "\n",
       "#sk-container-id-4 div.sk-toggleable {\n",
       "  /* Default theme specific background. It is overwritten whether we have a\n",
       "  specific estimator or a Pipeline/ColumnTransformer */\n",
       "  background-color: var(--sklearn-color-background);\n",
       "}\n",
       "\n",
       "/* Toggleable label */\n",
       "#sk-container-id-4 label.sk-toggleable__label {\n",
       "  cursor: pointer;\n",
       "  display: block;\n",
       "  width: 100%;\n",
       "  margin-bottom: 0;\n",
       "  padding: 0.5em;\n",
       "  box-sizing: border-box;\n",
       "  text-align: center;\n",
       "}\n",
       "\n",
       "#sk-container-id-4 label.sk-toggleable__label-arrow:before {\n",
       "  /* Arrow on the left of the label */\n",
       "  content: \"▸\";\n",
       "  float: left;\n",
       "  margin-right: 0.25em;\n",
       "  color: var(--sklearn-color-icon);\n",
       "}\n",
       "\n",
       "#sk-container-id-4 label.sk-toggleable__label-arrow:hover:before {\n",
       "  color: var(--sklearn-color-text);\n",
       "}\n",
       "\n",
       "/* Toggleable content - dropdown */\n",
       "\n",
       "#sk-container-id-4 div.sk-toggleable__content {\n",
       "  max-height: 0;\n",
       "  max-width: 0;\n",
       "  overflow: hidden;\n",
       "  text-align: left;\n",
       "  /* unfitted */\n",
       "  background-color: var(--sklearn-color-unfitted-level-0);\n",
       "}\n",
       "\n",
       "#sk-container-id-4 div.sk-toggleable__content.fitted {\n",
       "  /* fitted */\n",
       "  background-color: var(--sklearn-color-fitted-level-0);\n",
       "}\n",
       "\n",
       "#sk-container-id-4 div.sk-toggleable__content pre {\n",
       "  margin: 0.2em;\n",
       "  border-radius: 0.25em;\n",
       "  color: var(--sklearn-color-text);\n",
       "  /* unfitted */\n",
       "  background-color: var(--sklearn-color-unfitted-level-0);\n",
       "}\n",
       "\n",
       "#sk-container-id-4 div.sk-toggleable__content.fitted pre {\n",
       "  /* unfitted */\n",
       "  background-color: var(--sklearn-color-fitted-level-0);\n",
       "}\n",
       "\n",
       "#sk-container-id-4 input.sk-toggleable__control:checked~div.sk-toggleable__content {\n",
       "  /* Expand drop-down */\n",
       "  max-height: 200px;\n",
       "  max-width: 100%;\n",
       "  overflow: auto;\n",
       "}\n",
       "\n",
       "#sk-container-id-4 input.sk-toggleable__control:checked~label.sk-toggleable__label-arrow:before {\n",
       "  content: \"▾\";\n",
       "}\n",
       "\n",
       "/* Pipeline/ColumnTransformer-specific style */\n",
       "\n",
       "#sk-container-id-4 div.sk-label input.sk-toggleable__control:checked~label.sk-toggleable__label {\n",
       "  color: var(--sklearn-color-text);\n",
       "  background-color: var(--sklearn-color-unfitted-level-2);\n",
       "}\n",
       "\n",
       "#sk-container-id-4 div.sk-label.fitted input.sk-toggleable__control:checked~label.sk-toggleable__label {\n",
       "  background-color: var(--sklearn-color-fitted-level-2);\n",
       "}\n",
       "\n",
       "/* Estimator-specific style */\n",
       "\n",
       "/* Colorize estimator box */\n",
       "#sk-container-id-4 div.sk-estimator input.sk-toggleable__control:checked~label.sk-toggleable__label {\n",
       "  /* unfitted */\n",
       "  background-color: var(--sklearn-color-unfitted-level-2);\n",
       "}\n",
       "\n",
       "#sk-container-id-4 div.sk-estimator.fitted input.sk-toggleable__control:checked~label.sk-toggleable__label {\n",
       "  /* fitted */\n",
       "  background-color: var(--sklearn-color-fitted-level-2);\n",
       "}\n",
       "\n",
       "#sk-container-id-4 div.sk-label label.sk-toggleable__label,\n",
       "#sk-container-id-4 div.sk-label label {\n",
       "  /* The background is the default theme color */\n",
       "  color: var(--sklearn-color-text-on-default-background);\n",
       "}\n",
       "\n",
       "/* On hover, darken the color of the background */\n",
       "#sk-container-id-4 div.sk-label:hover label.sk-toggleable__label {\n",
       "  color: var(--sklearn-color-text);\n",
       "  background-color: var(--sklearn-color-unfitted-level-2);\n",
       "}\n",
       "\n",
       "/* Label box, darken color on hover, fitted */\n",
       "#sk-container-id-4 div.sk-label.fitted:hover label.sk-toggleable__label.fitted {\n",
       "  color: var(--sklearn-color-text);\n",
       "  background-color: var(--sklearn-color-fitted-level-2);\n",
       "}\n",
       "\n",
       "/* Estimator label */\n",
       "\n",
       "#sk-container-id-4 div.sk-label label {\n",
       "  font-family: monospace;\n",
       "  font-weight: bold;\n",
       "  display: inline-block;\n",
       "  line-height: 1.2em;\n",
       "}\n",
       "\n",
       "#sk-container-id-4 div.sk-label-container {\n",
       "  text-align: center;\n",
       "}\n",
       "\n",
       "/* Estimator-specific */\n",
       "#sk-container-id-4 div.sk-estimator {\n",
       "  font-family: monospace;\n",
       "  border: 1px dotted var(--sklearn-color-border-box);\n",
       "  border-radius: 0.25em;\n",
       "  box-sizing: border-box;\n",
       "  margin-bottom: 0.5em;\n",
       "  /* unfitted */\n",
       "  background-color: var(--sklearn-color-unfitted-level-0);\n",
       "}\n",
       "\n",
       "#sk-container-id-4 div.sk-estimator.fitted {\n",
       "  /* fitted */\n",
       "  background-color: var(--sklearn-color-fitted-level-0);\n",
       "}\n",
       "\n",
       "/* on hover */\n",
       "#sk-container-id-4 div.sk-estimator:hover {\n",
       "  /* unfitted */\n",
       "  background-color: var(--sklearn-color-unfitted-level-2);\n",
       "}\n",
       "\n",
       "#sk-container-id-4 div.sk-estimator.fitted:hover {\n",
       "  /* fitted */\n",
       "  background-color: var(--sklearn-color-fitted-level-2);\n",
       "}\n",
       "\n",
       "/* Specification for estimator info (e.g. \"i\" and \"?\") */\n",
       "\n",
       "/* Common style for \"i\" and \"?\" */\n",
       "\n",
       ".sk-estimator-doc-link,\n",
       "a:link.sk-estimator-doc-link,\n",
       "a:visited.sk-estimator-doc-link {\n",
       "  float: right;\n",
       "  font-size: smaller;\n",
       "  line-height: 1em;\n",
       "  font-family: monospace;\n",
       "  background-color: var(--sklearn-color-background);\n",
       "  border-radius: 1em;\n",
       "  height: 1em;\n",
       "  width: 1em;\n",
       "  text-decoration: none !important;\n",
       "  margin-left: 1ex;\n",
       "  /* unfitted */\n",
       "  border: var(--sklearn-color-unfitted-level-1) 1pt solid;\n",
       "  color: var(--sklearn-color-unfitted-level-1);\n",
       "}\n",
       "\n",
       ".sk-estimator-doc-link.fitted,\n",
       "a:link.sk-estimator-doc-link.fitted,\n",
       "a:visited.sk-estimator-doc-link.fitted {\n",
       "  /* fitted */\n",
       "  border: var(--sklearn-color-fitted-level-1) 1pt solid;\n",
       "  color: var(--sklearn-color-fitted-level-1);\n",
       "}\n",
       "\n",
       "/* On hover */\n",
       "div.sk-estimator:hover .sk-estimator-doc-link:hover,\n",
       ".sk-estimator-doc-link:hover,\n",
       "div.sk-label-container:hover .sk-estimator-doc-link:hover,\n",
       ".sk-estimator-doc-link:hover {\n",
       "  /* unfitted */\n",
       "  background-color: var(--sklearn-color-unfitted-level-3);\n",
       "  color: var(--sklearn-color-background);\n",
       "  text-decoration: none;\n",
       "}\n",
       "\n",
       "div.sk-estimator.fitted:hover .sk-estimator-doc-link.fitted:hover,\n",
       ".sk-estimator-doc-link.fitted:hover,\n",
       "div.sk-label-container:hover .sk-estimator-doc-link.fitted:hover,\n",
       ".sk-estimator-doc-link.fitted:hover {\n",
       "  /* fitted */\n",
       "  background-color: var(--sklearn-color-fitted-level-3);\n",
       "  color: var(--sklearn-color-background);\n",
       "  text-decoration: none;\n",
       "}\n",
       "\n",
       "/* Span, style for the box shown on hovering the info icon */\n",
       ".sk-estimator-doc-link span {\n",
       "  display: none;\n",
       "  z-index: 9999;\n",
       "  position: relative;\n",
       "  font-weight: normal;\n",
       "  right: .2ex;\n",
       "  padding: .5ex;\n",
       "  margin: .5ex;\n",
       "  width: min-content;\n",
       "  min-width: 20ex;\n",
       "  max-width: 50ex;\n",
       "  color: var(--sklearn-color-text);\n",
       "  box-shadow: 2pt 2pt 4pt #999;\n",
       "  /* unfitted */\n",
       "  background: var(--sklearn-color-unfitted-level-0);\n",
       "  border: .5pt solid var(--sklearn-color-unfitted-level-3);\n",
       "}\n",
       "\n",
       ".sk-estimator-doc-link.fitted span {\n",
       "  /* fitted */\n",
       "  background: var(--sklearn-color-fitted-level-0);\n",
       "  border: var(--sklearn-color-fitted-level-3);\n",
       "}\n",
       "\n",
       ".sk-estimator-doc-link:hover span {\n",
       "  display: block;\n",
       "}\n",
       "\n",
       "/* \"?\"-specific style due to the `<a>` HTML tag */\n",
       "\n",
       "#sk-container-id-4 a.estimator_doc_link {\n",
       "  float: right;\n",
       "  font-size: 1rem;\n",
       "  line-height: 1em;\n",
       "  font-family: monospace;\n",
       "  background-color: var(--sklearn-color-background);\n",
       "  border-radius: 1rem;\n",
       "  height: 1rem;\n",
       "  width: 1rem;\n",
       "  text-decoration: none;\n",
       "  /* unfitted */\n",
       "  color: var(--sklearn-color-unfitted-level-1);\n",
       "  border: var(--sklearn-color-unfitted-level-1) 1pt solid;\n",
       "}\n",
       "\n",
       "#sk-container-id-4 a.estimator_doc_link.fitted {\n",
       "  /* fitted */\n",
       "  border: var(--sklearn-color-fitted-level-1) 1pt solid;\n",
       "  color: var(--sklearn-color-fitted-level-1);\n",
       "}\n",
       "\n",
       "/* On hover */\n",
       "#sk-container-id-4 a.estimator_doc_link:hover {\n",
       "  /* unfitted */\n",
       "  background-color: var(--sklearn-color-unfitted-level-3);\n",
       "  color: var(--sklearn-color-background);\n",
       "  text-decoration: none;\n",
       "}\n",
       "\n",
       "#sk-container-id-4 a.estimator_doc_link.fitted:hover {\n",
       "  /* fitted */\n",
       "  background-color: var(--sklearn-color-fitted-level-3);\n",
       "}\n",
       "</style><div id=\"sk-container-id-4\" class=\"sk-top-container\"><div class=\"sk-text-repr-fallback\"><pre>StandardScaler()</pre><b>In a Jupyter environment, please rerun this cell to show the HTML representation or trust the notebook. <br />On GitHub, the HTML representation is unable to render, please try loading this page with nbviewer.org.</b></div><div class=\"sk-container\" hidden><div class=\"sk-item\"><div class=\"sk-estimator fitted sk-toggleable\"><input class=\"sk-toggleable__control sk-hidden--visually\" id=\"sk-estimator-id-4\" type=\"checkbox\" checked><label for=\"sk-estimator-id-4\" class=\"sk-toggleable__label fitted sk-toggleable__label-arrow fitted\">&nbsp;&nbsp;StandardScaler<a class=\"sk-estimator-doc-link fitted\" rel=\"noreferrer\" target=\"_blank\" href=\"https://scikit-learn.org/1.5/modules/generated/sklearn.preprocessing.StandardScaler.html\">?<span>Documentation for StandardScaler</span></a><span class=\"sk-estimator-doc-link fitted\">i<span>Fitted</span></span></label><div class=\"sk-toggleable__content fitted\"><pre>StandardScaler()</pre></div> </div></div></div></div>"
      ],
      "text/plain": [
       "StandardScaler()"
      ]
     },
     "execution_count": 175,
     "metadata": {},
     "output_type": "execute_result"
    }
   ],
   "source": [
    "scaler = StandardScaler()\n",
    "oversample = SMOTE()\n",
    "scaler.fit(x_train)"
   ]
  },
  {
   "cell_type": "code",
   "execution_count": 176,
   "metadata": {},
   "outputs": [
    {
     "name": "stdout",
     "output_type": "stream",
     "text": [
      "(array([0, 1], dtype=int64), array([31635, 31635], dtype=int64))\n"
     ]
    }
   ],
   "source": [
    "X_train_oversampled, y_train_oversampled = oversample.fit_resample(x_train, y_train)\n",
    "X_train_scaled_oversampled = scaler.transform(X_train_oversampled)\n",
    "X_test_scaled = scaler.transform(x_test)\n",
    "\n",
    "X_train = X_train_scaled_oversampled\n",
    "X_test = X_test_scaled\n",
    "y_train = y_train_oversampled\n",
    "\n",
    "print(np.unique(y_train, return_counts=True))"
   ]
  },
  {
   "cell_type": "code",
   "execution_count": 232,
   "metadata": {},
   "outputs": [],
   "source": [
    "X_train_scaled = scaler.transform(x_train)\n",
    "X_test_scaled = scaler.transform(x_test)"
   ]
  },
  {
   "cell_type": "markdown",
   "metadata": {},
   "source": [
    "Бачимо що тепер кількість данних для обох класів в тренувальній вибірці однакова"
   ]
  },
  {
   "cell_type": "code",
   "execution_count": 178,
   "metadata": {},
   "outputs": [
    {
     "name": "stdout",
     "output_type": "stream",
     "text": [
      "train X (63270, 10)\n",
      "train y (63270,)\n",
      "test X (13952, 10)\n",
      "test y (13952,)\n"
     ]
    }
   ],
   "source": [
    "print('train X', X_train.shape)\n",
    "print('train y', y_train.shape)\n",
    "print('test X', X_test.shape)\n",
    "print('test y', y_test.shape)"
   ]
  },
  {
   "cell_type": "markdown",
   "metadata": {},
   "source": [
    "Збережемо SCALER в файл для можливості подальшого використання"
   ]
  },
  {
   "cell_type": "code",
   "execution_count": 181,
   "metadata": {},
   "outputs": [
    {
     "data": {
      "text/plain": [
       "['../scalers/scaler_1_Serhii.pkl']"
      ]
     },
     "execution_count": 181,
     "metadata": {},
     "output_type": "execute_result"
    }
   ],
   "source": [
    "joblib.dump(scaler,'../scalers/scaler_Serhii.pkl')"
   ]
  },
  {
   "cell_type": "markdown",
   "metadata": {},
   "source": [
    "----"
   ]
  },
  {
   "cell_type": "markdown",
   "metadata": {},
   "source": [
    "## Побудова моделей  \n",
    "Наша задача - спрогнозувати потенційно втраченого клієнта, тобто 1  \n",
    "Якщо модель спрогнозує 1 а клієнт насправді 0, то для нас це не критично.  \n",
    "Але, якщо модель спрогнозує 0 замість 1, то це бде критична помилка та втрата клієнта.  \n",
    "Тому при тренуванні спробуємо вказати, щоб модель більш точно прогнозувала саме 1, тобто втрату клієнта.  \n",
    "вкажемо це за допомогою:  <b>'class_weight': [{0:0.3, 1:0.7}]</b>\n",
    "https://scikit-learn.org/1.5/modules/svm.html#unbalanced-problems  \n",
    "таким чином зменшуючи вагу 0 класу, ми даємо можливсть моделі більш точно передбачити клас 1."
   ]
  },
  {
   "cell_type": "markdown",
   "metadata": {},
   "source": [
    "Для оцінки точності моделі будемо використовувати точність прогнозування класу 1"
   ]
  },
  {
   "cell_type": "code",
   "execution_count": 182,
   "metadata": {},
   "outputs": [],
   "source": [
    "recall_1 = make_scorer(recall_score, pos_label=1)"
   ]
  },
  {
   "cell_type": "markdown",
   "metadata": {},
   "source": [
    "##### Функція аналізу роботи моделей"
   ]
  },
  {
   "cell_type": "code",
   "execution_count": 183,
   "metadata": {},
   "outputs": [],
   "source": [
    "def model_info(y_test, y_pred):\n",
    "    precision1 = precision_score(y_test, y_pred, pos_label=1)*100\n",
    "    recall = recall_score(y_test, y_pred, pos_label=1)*100\n",
    "    print(f'Модель прогнозує 1 у {precision1:.2f}% випадках')\n",
    "    print(f'На тестувальних данних правильно {recall:.2f}%  класу 1')\n",
    "    print('\\n','-'*50)\n",
    "    print('Classification report:')\n",
    "    print(classification_report(y_test, y_pred))\n",
    "    print('\\n','-'*50)\n",
    "    cm = confusion_matrix(y_test, y_pred)\n",
    "\n",
    "    plt.figure(figsize=(3, 3))\n",
    "    sns.heatmap(cm, square=True, annot=True, fmt='d', cbar=False, cmap='coolwarm', vmin=900, vmax=6000)\n",
    "    plt.title('Confusion matrix')\n",
    "    plt.ylabel('Real')\n",
    "    plt.xlabel('Predicted')\n",
    "    plt.show()"
   ]
  },
  {
   "cell_type": "markdown",
   "metadata": {},
   "source": [
    "Підбирати найкращі гіперпараметри будемо за допомогою GridSearchCV"
   ]
  },
  {
   "cell_type": "markdown",
   "metadata": {},
   "source": [
    "### Logistic regression"
   ]
  },
  {
   "cell_type": "code",
   "execution_count": null,
   "metadata": {},
   "outputs": [],
   "source": [
    "LR = LogisticRegression()\n",
    "param_grid = {'penalty':[None, 'l1', 'l2'],\n",
    "              'C': [10, 1, 0,1, 0.01], \n",
    "              'max_iter':[10, 50, 100, 200], \n",
    "              'solver': ['lbfgs', 'liblinear'],\n",
    "              'class_weight': [{0:0.3, 1:0.7}, {0:0.6, 1:0.4}]\n",
    "              }\n",
    "\n",
    "logisticRegression = GridSearchCV(LR, param_grid, cv = 2, scoring=recall_1, verbose=0, n_jobs=-1)\n",
    "logisticRegression.fit(X_train, y_train)\n",
    "\n",
    "lr_model = logisticRegression.best_estimator_\n",
    "\n",
    "lr_start_time = time.time()\n",
    "lr_model.fit(X_train, y_train)\n",
    "lr_end_time = time.time()-lr_start_time\n",
    "\n",
    "y_pred_lr = lr_model.predict(X_test)\n",
    "recall_lr = recall_score(y_test, y_pred_lr, pos_label=1)\n",
    "precision_lr = precision_score(y_test, y_pred_lr, pos_label=1)"
   ]
  },
  {
   "cell_type": "markdown",
   "metadata": {},
   "source": [
    "##### Найкращі параметри для LogisticRegression та час тренування моделі"
   ]
  },
  {
   "cell_type": "code",
   "execution_count": 185,
   "metadata": {},
   "outputs": [
    {
     "name": "stdout",
     "output_type": "stream",
     "text": [
      "Build Logistic Regression model time: 0.12 secs\n",
      "Logistic Regression best parameters: {'C': 0.01, 'class_weight': {0: 0.3, 1: 0.7}, 'max_iter': 10, 'penalty': 'l2', 'solver': 'lbfgs'}\n"
     ]
    }
   ],
   "source": [
    "print(f'Build Logistic Regression model time: {lr_end_time:.2f} secs')\n",
    "print(f'Logistic Regression best parameters: {logisticRegression.best_params_}')"
   ]
  },
  {
   "cell_type": "markdown",
   "metadata": {},
   "source": [
    "##### Статистика роботи моделі LogisticRegression на тестувальних данних "
   ]
  },
  {
   "cell_type": "code",
   "execution_count": 186,
   "metadata": {},
   "outputs": [
    {
     "name": "stdout",
     "output_type": "stream",
     "text": [
      "Модель прогнозує 1 у 82.68% випадках\n",
      "На тестувальних данних правильно 94.10%  класу 1\n",
      "\n",
      " --------------------------------------------------\n",
      "Classification report:\n",
      "              precision    recall  f1-score   support\n",
      "\n",
      "           0       0.91      0.74      0.82      6058\n",
      "           1       0.83      0.94      0.88      7894\n",
      "\n",
      "    accuracy                           0.86     13952\n",
      "   macro avg       0.87      0.84      0.85     13952\n",
      "weighted avg       0.86      0.86      0.85     13952\n",
      "\n",
      "\n",
      " --------------------------------------------------\n"
     ]
    },
    {
     "data": {
      "image/png": "[encoded data removed]",
      "text/plain": [
       "<Figure size 300x300 with 1 Axes>"
      ]
     },
     "metadata": {},
     "output_type": "display_data"
    }
   ],
   "source": [
    "model_info(y_test, y_pred_lr)"
   ]
  },
  {
   "cell_type": "code",
   "execution_count": 230,
   "metadata": {},
   "outputs": [
    {
     "data": {
      "text/plain": [
       "['../models/LR_model_Serhii.pkl']"
      ]
     },
     "execution_count": 230,
     "metadata": {},
     "output_type": "execute_result"
    }
   ],
   "source": [
    "joblib.dump(lr_model,'../models/LR_model_Serhii.pkl')"
   ]
  },
  {
   "cell_type": "markdown",
   "metadata": {},
   "source": [
    "### LinearSVC"
   ]
  },
  {
   "cell_type": "code",
   "execution_count": null,
   "metadata": {},
   "outputs": [],
   "source": [
    "svc = LinearSVC(random_state=42)\n",
    "\n",
    "svc_start_time = time.time()\n",
    "param_grid = {\n",
    "    'C': [1, 0.1, 0.01, 0.001, 0.0001], \n",
    "    'tol':[1e-3, 1e-4], \n",
    "    'max_iter':[25, 30, 35, 50], \n",
    "    'class_weight':[{0:0.3, 1:0.7}, {0:0.4, 1:0.6}],\n",
    "    'loss':['hinge','squared_hinge'],\n",
    "    'penalty':['l1', 'l2']\n",
    "    }\n",
    "linearSVC = GridSearchCV(svc, param_grid, cv=2, scoring=recall_1, verbose=0, n_jobs=-1)\n",
    "\n",
    "linearSVC.fit(X_train, y_train)\n",
    "\n",
    "svc_model = linearSVC.best_estimator_\n",
    "svc_model.fit(X_train, y_train)\n",
    "\n",
    "y_pred_svc = svc_model.predict(X_test)\n",
    "recall_svc = recall_score(y_test, y_pred_svc, pos_label=1)\n",
    "precision_svc = precision_score(y_test, y_pred_svc, pos_label=1)\n",
    "\n",
    "svc_end_time = time.time()-svc_start_time"
   ]
  },
  {
   "cell_type": "code",
   "execution_count": 189,
   "metadata": {},
   "outputs": [
    {
     "name": "stdout",
     "output_type": "stream",
     "text": [
      "LinearSVC best parameters: {'C': 0.0001, 'class_weight': {0: 0.3, 1: 0.7}, 'loss': 'hinge', 'max_iter': 25, 'penalty': 'l2', 'tol': 0.001}\n",
      "Build LinearSVC model time: 26.94 secs\n"
     ]
    }
   ],
   "source": [
    "print(f'LinearSVC best parameters: {linearSVC.best_params_}')\n",
    "print(f'Build LinearSVC model time: {svc_end_time:.2f} secs')"
   ]
  },
  {
   "cell_type": "code",
   "execution_count": 190,
   "metadata": {},
   "outputs": [
    {
     "name": "stdout",
     "output_type": "stream",
     "text": [
      "Модель прогнозує 1 у 79.91% випадках\n",
      "На тестувальних данних правильно 94.05%  класу 1\n",
      "\n",
      " --------------------------------------------------\n",
      "Classification report:\n",
      "              precision    recall  f1-score   support\n",
      "\n",
      "           0       0.90      0.69      0.78      6058\n",
      "           1       0.80      0.94      0.86      7894\n",
      "\n",
      "    accuracy                           0.83     13952\n",
      "   macro avg       0.85      0.82      0.82     13952\n",
      "weighted avg       0.84      0.83      0.83     13952\n",
      "\n",
      "\n",
      " --------------------------------------------------\n"
     ]
    },
    {
     "data": {
      "image/png": "[encoded data removed]",
      "text/plain": [
       "<Figure size 300x300 with 1 Axes>"
      ]
     },
     "metadata": {},
     "output_type": "display_data"
    }
   ],
   "source": [
    "model_info(y_test, y_pred_svc)"
   ]
  },
  {
   "cell_type": "code",
   "execution_count": 229,
   "metadata": {},
   "outputs": [
    {
     "data": {
      "text/plain": [
       "['../models/LSVC_model_Serhii.pkl']"
      ]
     },
     "execution_count": 229,
     "metadata": {},
     "output_type": "execute_result"
    }
   ],
   "source": [
    "joblib.dump(lr_model,'../models/LSVC_model_Serhii.pkl')"
   ]
  },
  {
   "cell_type": "markdown",
   "metadata": {},
   "source": [
    "### SVC RBF kernel"
   ]
  },
  {
   "cell_type": "code",
   "execution_count": 192,
   "metadata": {},
   "outputs": [],
   "source": [
    "from sklearn.svm import SVC\n",
    "SVC_rbf = SVC(random_state=42)\n",
    "\n",
    "param_grid = {\n",
    "    'C': [0.01, 0.1, 1, 5],\n",
    "    'kernel':['rbf'], \n",
    "    'class_weight':[{0:0.3, 1:0.7}]\n",
    "    }\n",
    "SVC_rbf = GridSearchCV(SVC_rbf, param_grid, cv=2, scoring=recall_1, n_jobs=-1, verbose=0)\n",
    "\n",
    "SVC_rbf.fit(X_train, y_train)\n",
    "\n",
    "svc_rbf_model = SVC_rbf.best_estimator_\n",
    "svc_rbf_start_time = time.time()\n",
    "svc_rbf_model.fit(X_train, y_train)\n",
    "svc_rbf_end_time = time.time()-svc_rbf_start_time\n",
    "\n",
    "y_pred_svc_rbf = svc_rbf_model.predict(X_test)\n",
    "precision_svc_rbf = precision_score(y_test, y_pred_svc_rbf, pos_label=1)\n",
    "recall_svc_rbf = recall_score(y_test, y_pred_svc_rbf, pos_label=1)"
   ]
  },
  {
   "cell_type": "code",
   "execution_count": 193,
   "metadata": {},
   "outputs": [
    {
     "name": "stdout",
     "output_type": "stream",
     "text": [
      "SVC best parameters: {'C': 0.01, 'class_weight': {0: 0.3, 1: 0.7}, 'kernel': 'rbf'}\n",
      "Build SVC model time: 221.85 secs\n"
     ]
    }
   ],
   "source": [
    "print(f'SVC best parameters: {SVC_rbf.best_params_}')\n",
    "print(f'Build SVC model time: {svc_rbf_end_time:.2f} secs')"
   ]
  },
  {
   "cell_type": "markdown",
   "metadata": {},
   "source": [
    "##### Статистика роботи моделі SVC rbf  на тестувальних данних "
   ]
  },
  {
   "cell_type": "code",
   "execution_count": 194,
   "metadata": {},
   "outputs": [
    {
     "name": "stdout",
     "output_type": "stream",
     "text": [
      "Модель прогнозує 1 у 82.78% випадках\n",
      "На тестувальних данних правильно 94.44%  класу 1\n",
      "\n",
      " --------------------------------------------------\n",
      "Classification report:\n",
      "              precision    recall  f1-score   support\n",
      "\n",
      "           0       0.91      0.74      0.82      6058\n",
      "           1       0.83      0.94      0.88      7894\n",
      "\n",
      "    accuracy                           0.86     13952\n",
      "   macro avg       0.87      0.84      0.85     13952\n",
      "weighted avg       0.86      0.86      0.85     13952\n",
      "\n",
      "\n",
      " --------------------------------------------------\n"
     ]
    },
    {
     "data": {
      "image/png": "[encoded data removed]",
      "text/plain": [
       "<Figure size 300x300 with 1 Axes>"
      ]
     },
     "metadata": {},
     "output_type": "display_data"
    }
   ],
   "source": [
    "model_info(y_test, y_pred_svc_rbf)"
   ]
  },
  {
   "cell_type": "markdown",
   "metadata": {},
   "source": [
    "Гарні результати після 18 хвилин підбору параметрів"
   ]
  },
  {
   "cell_type": "code",
   "execution_count": 228,
   "metadata": {},
   "outputs": [
    {
     "data": {
      "text/plain": [
       "['../models/SVC_rbf_model_Serhii.pkl']"
      ]
     },
     "execution_count": 228,
     "metadata": {},
     "output_type": "execute_result"
    }
   ],
   "source": [
    "joblib.dump(svc_rbf_model,'../models/SVC_rbf_model_Serhii.pkl')"
   ]
  },
  {
   "cell_type": "markdown",
   "metadata": {},
   "source": [
    "----"
   ]
  },
  {
   "cell_type": "markdown",
   "metadata": {},
   "source": [
    "### RandomForest"
   ]
  },
  {
   "cell_type": "code",
   "execution_count": 195,
   "metadata": {},
   "outputs": [
    {
     "name": "stdout",
     "output_type": "stream",
     "text": [
      "Fitting 2 folds for each of 36 candidates, totalling 72 fits\n"
     ]
    }
   ],
   "source": [
    "RF = RandomForestClassifier(random_state=42)\n",
    "\n",
    "param_grid = {\n",
    "    'criterion': ['gini', 'entropy'],\n",
    "    'n_estimators': [100, 200, 300],\n",
    "    'max_features': [0.5, 1, 'sqrt'],\n",
    "    'class_weight':[{0:0.3, 1:0.7}, 'balanced']\n",
    "    }\n",
    "RandomForest = GridSearchCV(estimator=RF, param_grid=param_grid, scoring=recall_1, refit=True, cv=2, n_jobs=-1, verbose=5)\n",
    "RandomForest.fit(X_train, y_train)\n",
    "\n",
    "rf_model = RandomForest.best_estimator_\n",
    "rf_start_time = time.time()\n",
    "rf_model.fit(X_train, y_train)\n",
    "rf_end_time = time.time()-rf_start_time\n",
    "\n",
    "y_pred_rf = rf_model.predict(X_test)\n",
    "recall_rf = recall_score(y_test, y_pred_rf, pos_label=1)\n",
    "precision_rf = precision_score(y_test, y_pred_rf, pos_label=1)\n"
   ]
  },
  {
   "cell_type": "code",
   "execution_count": 211,
   "metadata": {},
   "outputs": [
    {
     "name": "stdout",
     "output_type": "stream",
     "text": [
      "RandomForest best parameters: {'class_weight': 'balanced', 'criterion': 'entropy', 'max_features': 0.5, 'n_estimators': 300}\n",
      "Build RandomForest model time: 63.54 secs\n"
     ]
    }
   ],
   "source": [
    "print(f'RandomForest best parameters: {RandomForest.best_params_}')\n",
    "print(f'Build RandomForest model time: {rf_end_time:.2f} secs')"
   ]
  },
  {
   "cell_type": "markdown",
   "metadata": {},
   "source": [
    "##### Статистика роботи моделі на тестувальних данних"
   ]
  },
  {
   "cell_type": "code",
   "execution_count": 208,
   "metadata": {},
   "outputs": [
    {
     "name": "stdout",
     "output_type": "stream",
     "text": [
      "Модель прогнозує 1 у 95.89% випадках\n",
      "На тестувальних данних правильно 93.70%  класу 1\n",
      "\n",
      " --------------------------------------------------\n",
      "Classification report:\n",
      "              precision    recall  f1-score   support\n",
      "\n",
      "           0       0.92      0.95      0.93      6058\n",
      "           1       0.96      0.94      0.95      7894\n",
      "\n",
      "    accuracy                           0.94     13952\n",
      "   macro avg       0.94      0.94      0.94     13952\n",
      "weighted avg       0.94      0.94      0.94     13952\n",
      "\n",
      "\n",
      " --------------------------------------------------\n"
     ]
    },
    {
     "data": {
      "image/png": "[encoded data removed]",
      "text/plain": [
       "<Figure size 300x300 with 1 Axes>"
      ]
     },
     "metadata": {},
     "output_type": "display_data"
    }
   ],
   "source": [
    "model_info(y_test, y_pred_rf)"
   ]
  },
  {
   "cell_type": "markdown",
   "metadata": {},
   "source": [
    "#### Отримаємо чудовий результат. Мінімальна помилка в обох класах."
   ]
  },
  {
   "cell_type": "code",
   "execution_count": 231,
   "metadata": {},
   "outputs": [
    {
     "data": {
      "text/plain": [
       "['../models/RF_model_Serhii.pkl']"
      ]
     },
     "execution_count": 231,
     "metadata": {},
     "output_type": "execute_result"
    }
   ],
   "source": [
    "joblib.dump(rf_model,'../models/RF_model_Serhii.pkl', compress=3)"
   ]
  },
  {
   "cell_type": "markdown",
   "metadata": {},
   "source": [
    "##### Важливість ознак в датасеті для отриманої моделі"
   ]
  },
  {
   "cell_type": "code",
   "execution_count": 199,
   "metadata": {},
   "outputs": [
    {
     "data": {
      "image/png": "[encoded data removed]",
      "text/plain": [
       "<Figure size 1000x400 with 1 Axes>"
      ]
     },
     "metadata": {},
     "output_type": "display_data"
    }
   ],
   "source": [
    "plt.figure(figsize=(10,4))\n",
    "plt.bar(range(len(rf_model.feature_importances_)), rf_model.feature_importances_)\n",
    "plt.xticks(range(len(df.columns[1:-1])), df.columns[1:-1], rotation=50);"
   ]
  },
  {
   "cell_type": "markdown",
   "metadata": {},
   "source": [
    "----"
   ]
  },
  {
   "cell_type": "markdown",
   "metadata": {},
   "source": [
    "### Basic Neural Network"
   ]
  },
  {
   "cell_type": "markdown",
   "metadata": {},
   "source": [
    "##### Побудуємо просту нейронну мережу.  \n",
    "Розмірність данних змінемо за допомогою MinMaxScaler"
   ]
  },
  {
   "cell_type": "code",
   "execution_count": 200,
   "metadata": {},
   "outputs": [],
   "source": [
    "min_max_scaler = MinMaxScaler()\n",
    "\n",
    "min_max_scaler.fit_transform(x_train)\n",
    "X_train_nn = min_max_scaler.transform(x_train)\n",
    "X_test_nn = min_max_scaler.transform(x_test)"
   ]
  },
  {
   "cell_type": "code",
   "execution_count": 201,
   "metadata": {},
   "outputs": [
    {
     "data": {
      "text/plain": [
       "numpy.ndarray"
      ]
     },
     "execution_count": 201,
     "metadata": {},
     "output_type": "execute_result"
    }
   ],
   "source": [
    "y_train_nn = y_train.to_numpy()\n",
    "y_test_nn = y_test.to_numpy()\n",
    "type(y_train_nn)"
   ]
  },
  {
   "cell_type": "code",
   "execution_count": 202,
   "metadata": {},
   "outputs": [
    {
     "name": "stderr",
     "output_type": "stream",
     "text": [
      "c:\\Users\\serge\\AppData\\Local\\Programs\\Python\\Python312\\Lib\\site-packages\\keras\\src\\layers\\core\\dense.py:87: UserWarning: Do not pass an `input_shape`/`input_dim` argument to a layer. When using Sequential models, prefer using an `Input(shape)` object as the first layer in the model instead.\n",
      "  super().__init__(activity_regularizer=activity_regularizer, **kwargs)\n"
     ]
    },
    {
     "data": {
      "text/html": [
       "<pre style=\"white-space:pre;overflow-x:auto;line-height:normal;font-family:Menlo,'DejaVu Sans Mono',consolas,'Courier New',monospace\"><span style=\"font-weight: bold\">Model: \"sequential_1\"</span>\n",
       "</pre>\n"
      ],
      "text/plain": [
       "\u001b[1mModel: \"sequential_1\"\u001b[0m\n"
      ]
     },
     "metadata": {},
     "output_type": "display_data"
    },
    {
     "data": {
      "text/html": [
       "<pre style=\"white-space:pre;overflow-x:auto;line-height:normal;font-family:Menlo,'DejaVu Sans Mono',consolas,'Courier New',monospace\">┏━━━━━━━━━━━━━━━━━━━━━━━━━━━━━━━━━┳━━━━━━━━━━━━━━━━━━━━━━━━┳━━━━━━━━━━━━━━━┓\n",
       "┃<span style=\"font-weight: bold\"> Layer (type)                    </span>┃<span style=\"font-weight: bold\"> Output Shape           </span>┃<span style=\"font-weight: bold\">       Param # </span>┃\n",
       "┡━━━━━━━━━━━━━━━━━━━━━━━━━━━━━━━━━╇━━━━━━━━━━━━━━━━━━━━━━━━╇━━━━━━━━━━━━━━━┩\n",
       "│ dense_3 (<span style=\"color: #0087ff; text-decoration-color: #0087ff\">Dense</span>)                 │ (<span style=\"color: #00d7ff; text-decoration-color: #00d7ff\">None</span>, <span style=\"color: #00af00; text-decoration-color: #00af00\">128</span>)            │         <span style=\"color: #00af00; text-decoration-color: #00af00\">1,408</span> │\n",
       "├─────────────────────────────────┼────────────────────────┼───────────────┤\n",
       "│ batch_normalization_2           │ (<span style=\"color: #00d7ff; text-decoration-color: #00d7ff\">None</span>, <span style=\"color: #00af00; text-decoration-color: #00af00\">128</span>)            │           <span style=\"color: #00af00; text-decoration-color: #00af00\">512</span> │\n",
       "│ (<span style=\"color: #0087ff; text-decoration-color: #0087ff\">BatchNormalization</span>)            │                        │               │\n",
       "├─────────────────────────────────┼────────────────────────┼───────────────┤\n",
       "│ dropout_2 (<span style=\"color: #0087ff; text-decoration-color: #0087ff\">Dropout</span>)             │ (<span style=\"color: #00d7ff; text-decoration-color: #00d7ff\">None</span>, <span style=\"color: #00af00; text-decoration-color: #00af00\">128</span>)            │             <span style=\"color: #00af00; text-decoration-color: #00af00\">0</span> │\n",
       "├─────────────────────────────────┼────────────────────────┼───────────────┤\n",
       "│ dense_4 (<span style=\"color: #0087ff; text-decoration-color: #0087ff\">Dense</span>)                 │ (<span style=\"color: #00d7ff; text-decoration-color: #00d7ff\">None</span>, <span style=\"color: #00af00; text-decoration-color: #00af00\">64</span>)             │         <span style=\"color: #00af00; text-decoration-color: #00af00\">8,256</span> │\n",
       "├─────────────────────────────────┼────────────────────────┼───────────────┤\n",
       "│ batch_normalization_3           │ (<span style=\"color: #00d7ff; text-decoration-color: #00d7ff\">None</span>, <span style=\"color: #00af00; text-decoration-color: #00af00\">64</span>)             │           <span style=\"color: #00af00; text-decoration-color: #00af00\">256</span> │\n",
       "│ (<span style=\"color: #0087ff; text-decoration-color: #0087ff\">BatchNormalization</span>)            │                        │               │\n",
       "├─────────────────────────────────┼────────────────────────┼───────────────┤\n",
       "│ dropout_3 (<span style=\"color: #0087ff; text-decoration-color: #0087ff\">Dropout</span>)             │ (<span style=\"color: #00d7ff; text-decoration-color: #00d7ff\">None</span>, <span style=\"color: #00af00; text-decoration-color: #00af00\">64</span>)             │             <span style=\"color: #00af00; text-decoration-color: #00af00\">0</span> │\n",
       "├─────────────────────────────────┼────────────────────────┼───────────────┤\n",
       "│ dense_5 (<span style=\"color: #0087ff; text-decoration-color: #0087ff\">Dense</span>)                 │ (<span style=\"color: #00d7ff; text-decoration-color: #00d7ff\">None</span>, <span style=\"color: #00af00; text-decoration-color: #00af00\">1</span>)              │            <span style=\"color: #00af00; text-decoration-color: #00af00\">65</span> │\n",
       "└─────────────────────────────────┴────────────────────────┴───────────────┘\n",
       "</pre>\n"
      ],
      "text/plain": [
       "┏━━━━━━━━━━━━━━━━━━━━━━━━━━━━━━━━━┳━━━━━━━━━━━━━━━━━━━━━━━━┳━━━━━━━━━━━━━━━┓\n",
       "┃\u001b[1m \u001b[0m\u001b[1mLayer (type)                   \u001b[0m\u001b[1m \u001b[0m┃\u001b[1m \u001b[0m\u001b[1mOutput Shape          \u001b[0m\u001b[1m \u001b[0m┃\u001b[1m \u001b[0m\u001b[1m      Param #\u001b[0m\u001b[1m \u001b[0m┃\n",
       "┡━━━━━━━━━━━━━━━━━━━━━━━━━━━━━━━━━╇━━━━━━━━━━━━━━━━━━━━━━━━╇━━━━━━━━━━━━━━━┩\n",
       "│ dense_3 (\u001b[38;5;33mDense\u001b[0m)                 │ (\u001b[38;5;45mNone\u001b[0m, \u001b[38;5;34m128\u001b[0m)            │         \u001b[38;5;34m1,408\u001b[0m │\n",
       "├─────────────────────────────────┼────────────────────────┼───────────────┤\n",
       "│ batch_normalization_2           │ (\u001b[38;5;45mNone\u001b[0m, \u001b[38;5;34m128\u001b[0m)            │           \u001b[38;5;34m512\u001b[0m │\n",
       "│ (\u001b[38;5;33mBatchNormalization\u001b[0m)            │                        │               │\n",
       "├─────────────────────────────────┼────────────────────────┼───────────────┤\n",
       "│ dropout_2 (\u001b[38;5;33mDropout\u001b[0m)             │ (\u001b[38;5;45mNone\u001b[0m, \u001b[38;5;34m128\u001b[0m)            │             \u001b[38;5;34m0\u001b[0m │\n",
       "├─────────────────────────────────┼────────────────────────┼───────────────┤\n",
       "│ dense_4 (\u001b[38;5;33mDense\u001b[0m)                 │ (\u001b[38;5;45mNone\u001b[0m, \u001b[38;5;34m64\u001b[0m)             │         \u001b[38;5;34m8,256\u001b[0m │\n",
       "├─────────────────────────────────┼────────────────────────┼───────────────┤\n",
       "│ batch_normalization_3           │ (\u001b[38;5;45mNone\u001b[0m, \u001b[38;5;34m64\u001b[0m)             │           \u001b[38;5;34m256\u001b[0m │\n",
       "│ (\u001b[38;5;33mBatchNormalization\u001b[0m)            │                        │               │\n",
       "├─────────────────────────────────┼────────────────────────┼───────────────┤\n",
       "│ dropout_3 (\u001b[38;5;33mDropout\u001b[0m)             │ (\u001b[38;5;45mNone\u001b[0m, \u001b[38;5;34m64\u001b[0m)             │             \u001b[38;5;34m0\u001b[0m │\n",
       "├─────────────────────────────────┼────────────────────────┼───────────────┤\n",
       "│ dense_5 (\u001b[38;5;33mDense\u001b[0m)                 │ (\u001b[38;5;45mNone\u001b[0m, \u001b[38;5;34m1\u001b[0m)              │            \u001b[38;5;34m65\u001b[0m │\n",
       "└─────────────────────────────────┴────────────────────────┴───────────────┘\n"
      ]
     },
     "metadata": {},
     "output_type": "display_data"
    },
    {
     "data": {
      "text/html": [
       "<pre style=\"white-space:pre;overflow-x:auto;line-height:normal;font-family:Menlo,'DejaVu Sans Mono',consolas,'Courier New',monospace\"><span style=\"font-weight: bold\"> Total params: </span><span style=\"color: #00af00; text-decoration-color: #00af00\">10,497</span> (41.00 KB)\n",
       "</pre>\n"
      ],
      "text/plain": [
       "\u001b[1m Total params: \u001b[0m\u001b[38;5;34m10,497\u001b[0m (41.00 KB)\n"
      ]
     },
     "metadata": {},
     "output_type": "display_data"
    },
    {
     "data": {
      "text/html": [
       "<pre style=\"white-space:pre;overflow-x:auto;line-height:normal;font-family:Menlo,'DejaVu Sans Mono',consolas,'Courier New',monospace\"><span style=\"font-weight: bold\"> Trainable params: </span><span style=\"color: #00af00; text-decoration-color: #00af00\">10,113</span> (39.50 KB)\n",
       "</pre>\n"
      ],
      "text/plain": [
       "\u001b[1m Trainable params: \u001b[0m\u001b[38;5;34m10,113\u001b[0m (39.50 KB)\n"
      ]
     },
     "metadata": {},
     "output_type": "display_data"
    },
    {
     "data": {
      "text/html": [
       "<pre style=\"white-space:pre;overflow-x:auto;line-height:normal;font-family:Menlo,'DejaVu Sans Mono',consolas,'Courier New',monospace\"><span style=\"font-weight: bold\"> Non-trainable params: </span><span style=\"color: #00af00; text-decoration-color: #00af00\">384</span> (1.50 KB)\n",
       "</pre>\n"
      ],
      "text/plain": [
       "\u001b[1m Non-trainable params: \u001b[0m\u001b[38;5;34m384\u001b[0m (1.50 KB)\n"
      ]
     },
     "metadata": {},
     "output_type": "display_data"
    },
    {
     "name": "stdout",
     "output_type": "stream",
     "text": [
      "Epoch 1/40\n",
      "\u001b[1m785/785\u001b[0m \u001b[32m━━━━━━━━━━━━━━━━━━━━\u001b[0m\u001b[37m\u001b[0m \u001b[1m8s\u001b[0m 5ms/step - loss: 0.1715 - recall_nn: 0.9034 - val_loss: 0.2593 - val_recall_nn: 0.9349\n",
      "Epoch 2/40\n",
      "\u001b[1m785/785\u001b[0m \u001b[32m━━━━━━━━━━━━━━━━━━━━\u001b[0m\u001b[37m\u001b[0m \u001b[1m4s\u001b[0m 4ms/step - loss: 0.1181 - recall_nn: 0.9330 - val_loss: 0.2353 - val_recall_nn: 0.9349\n",
      "Epoch 3/40\n",
      "\u001b[1m785/785\u001b[0m \u001b[32m━━━━━━━━━━━━━━━━━━━━\u001b[0m\u001b[37m\u001b[0m \u001b[1m3s\u001b[0m 4ms/step - loss: 0.1123 - recall_nn: 0.9291 - val_loss: 0.2328 - val_recall_nn: 0.9367\n",
      "Epoch 4/40\n",
      "\u001b[1m785/785\u001b[0m \u001b[32m━━━━━━━━━━━━━━━━━━━━\u001b[0m\u001b[37m\u001b[0m \u001b[1m5s\u001b[0m 4ms/step - loss: 0.1091 - recall_nn: 0.9292 - val_loss: 0.2280 - val_recall_nn: 0.9361\n",
      "Epoch 5/40\n",
      "\u001b[1m785/785\u001b[0m \u001b[32m━━━━━━━━━━━━━━━━━━━━\u001b[0m\u001b[37m\u001b[0m \u001b[1m3s\u001b[0m 4ms/step - loss: 0.1082 - recall_nn: 0.9289 - val_loss: 0.2309 - val_recall_nn: 0.9364\n",
      "Epoch 6/40\n",
      "\u001b[1m785/785\u001b[0m \u001b[32m━━━━━━━━━━━━━━━━━━━━\u001b[0m\u001b[37m\u001b[0m \u001b[1m3s\u001b[0m 4ms/step - loss: 0.1061 - recall_nn: 0.9312 - val_loss: 0.2400 - val_recall_nn: 0.9373\n",
      "Epoch 7/40\n",
      "\u001b[1m785/785\u001b[0m \u001b[32m━━━━━━━━━━━━━━━━━━━━\u001b[0m\u001b[37m\u001b[0m \u001b[1m3s\u001b[0m 4ms/step - loss: 0.1052 - recall_nn: 0.9311 - val_loss: 0.2346 - val_recall_nn: 0.9392\n",
      "Epoch 8/40\n",
      "\u001b[1m785/785\u001b[0m \u001b[32m━━━━━━━━━━━━━━━━━━━━\u001b[0m\u001b[37m\u001b[0m \u001b[1m3s\u001b[0m 4ms/step - loss: 0.1045 - recall_nn: 0.9338 - val_loss: 0.2289 - val_recall_nn: 0.9376\n",
      "Epoch 9/40\n",
      "\u001b[1m785/785\u001b[0m \u001b[32m━━━━━━━━━━━━━━━━━━━━\u001b[0m\u001b[37m\u001b[0m \u001b[1m3s\u001b[0m 4ms/step - loss: 0.1037 - recall_nn: 0.9336 - val_loss: 0.2183 - val_recall_nn: 0.9364\n",
      "Epoch 10/40\n",
      "\u001b[1m785/785\u001b[0m \u001b[32m━━━━━━━━━━━━━━━━━━━━\u001b[0m\u001b[37m\u001b[0m \u001b[1m6s\u001b[0m 4ms/step - loss: 0.1042 - recall_nn: 0.9319 - val_loss: 0.2163 - val_recall_nn: 0.9336\n",
      "Epoch 11/40\n",
      "\u001b[1m785/785\u001b[0m \u001b[32m━━━━━━━━━━━━━━━━━━━━\u001b[0m\u001b[37m\u001b[0m \u001b[1m3s\u001b[0m 4ms/step - loss: 0.1048 - recall_nn: 0.9309 - val_loss: 0.2108 - val_recall_nn: 0.9349\n",
      "Epoch 12/40\n",
      "\u001b[1m785/785\u001b[0m \u001b[32m━━━━━━━━━━━━━━━━━━━━\u001b[0m\u001b[37m\u001b[0m \u001b[1m4s\u001b[0m 4ms/step - loss: 0.1056 - recall_nn: 0.9305 - val_loss: 0.2209 - val_recall_nn: 0.9281\n",
      "Epoch 13/40\n",
      "\u001b[1m785/785\u001b[0m \u001b[32m━━━━━━━━━━━━━━━━━━━━\u001b[0m\u001b[37m\u001b[0m \u001b[1m3s\u001b[0m 4ms/step - loss: 0.1057 - recall_nn: 0.9319 - val_loss: 0.2326 - val_recall_nn: 0.9398\n",
      "Epoch 14/40\n",
      "\u001b[1m785/785\u001b[0m \u001b[32m━━━━━━━━━━━━━━━━━━━━\u001b[0m\u001b[37m\u001b[0m \u001b[1m3s\u001b[0m 4ms/step - loss: 0.1042 - recall_nn: 0.9319 - val_loss: 0.2162 - val_recall_nn: 0.9342\n",
      "Epoch 15/40\n",
      "\u001b[1m785/785\u001b[0m \u001b[32m━━━━━━━━━━━━━━━━━━━━\u001b[0m\u001b[37m\u001b[0m \u001b[1m3s\u001b[0m 4ms/step - loss: 0.1027 - recall_nn: 0.9318 - val_loss: 0.2144 - val_recall_nn: 0.9370\n",
      "Epoch 16/40\n",
      "\u001b[1m785/785\u001b[0m \u001b[32m━━━━━━━━━━━━━━━━━━━━\u001b[0m\u001b[37m\u001b[0m \u001b[1m3s\u001b[0m 4ms/step - loss: 0.1031 - recall_nn: 0.9331 - val_loss: 0.2154 - val_recall_nn: 0.9379\n",
      "Epoch 17/40\n",
      "\u001b[1m785/785\u001b[0m \u001b[32m━━━━━━━━━━━━━━━━━━━━\u001b[0m\u001b[37m\u001b[0m \u001b[1m3s\u001b[0m 4ms/step - loss: 0.1026 - recall_nn: 0.9339 - val_loss: 0.2145 - val_recall_nn: 0.9364\n",
      "Epoch 18/40\n",
      "\u001b[1m785/785\u001b[0m \u001b[32m━━━━━━━━━━━━━━━━━━━━\u001b[0m\u001b[37m\u001b[0m \u001b[1m3s\u001b[0m 4ms/step - loss: 0.1020 - recall_nn: 0.9314 - val_loss: 0.2088 - val_recall_nn: 0.9367\n",
      "Epoch 19/40\n",
      "\u001b[1m785/785\u001b[0m \u001b[32m━━━━━━━━━━━━━━━━━━━━\u001b[0m\u001b[37m\u001b[0m \u001b[1m5s\u001b[0m 4ms/step - loss: 0.1019 - recall_nn: 0.9344 - val_loss: 0.2261 - val_recall_nn: 0.9373\n",
      "Epoch 20/40\n",
      "\u001b[1m785/785\u001b[0m \u001b[32m━━━━━━━━━━━━━━━━━━━━\u001b[0m\u001b[37m\u001b[0m \u001b[1m3s\u001b[0m 4ms/step - loss: 0.1024 - recall_nn: 0.9331 - val_loss: 0.2092 - val_recall_nn: 0.9358\n",
      "Epoch 21/40\n",
      "\u001b[1m785/785\u001b[0m \u001b[32m━━━━━━━━━━━━━━━━━━━━\u001b[0m\u001b[37m\u001b[0m \u001b[1m3s\u001b[0m 4ms/step - loss: 0.0996 - recall_nn: 0.9349 - val_loss: 0.2169 - val_recall_nn: 0.9392\n",
      "Epoch 22/40\n",
      "\u001b[1m785/785\u001b[0m \u001b[32m━━━━━━━━━━━━━━━━━━━━\u001b[0m\u001b[37m\u001b[0m \u001b[1m5s\u001b[0m 4ms/step - loss: 0.1008 - recall_nn: 0.9352 - val_loss: 0.2124 - val_recall_nn: 0.9407\n",
      "Epoch 23/40\n",
      "\u001b[1m785/785\u001b[0m \u001b[32m━━━━━━━━━━━━━━━━━━━━\u001b[0m\u001b[37m\u001b[0m \u001b[1m3s\u001b[0m 4ms/step - loss: 0.0988 - recall_nn: 0.9375 - val_loss: 0.2168 - val_recall_nn: 0.9358\n",
      "Epoch 24/40\n",
      "\u001b[1m785/785\u001b[0m \u001b[32m━━━━━━━━━━━━━━━━━━━━\u001b[0m\u001b[37m\u001b[0m \u001b[1m3s\u001b[0m 4ms/step - loss: 0.0998 - recall_nn: 0.9350 - val_loss: 0.2097 - val_recall_nn: 0.9367\n",
      "Epoch 25/40\n",
      "\u001b[1m785/785\u001b[0m \u001b[32m━━━━━━━━━━━━━━━━━━━━\u001b[0m\u001b[37m\u001b[0m \u001b[1m5s\u001b[0m 4ms/step - loss: 0.1022 - recall_nn: 0.9349 - val_loss: 0.2072 - val_recall_nn: 0.9383\n",
      "Epoch 26/40\n",
      "\u001b[1m785/785\u001b[0m \u001b[32m━━━━━━━━━━━━━━━━━━━━\u001b[0m\u001b[37m\u001b[0m \u001b[1m3s\u001b[0m 4ms/step - loss: 0.0998 - recall_nn: 0.9359 - val_loss: 0.2170 - val_recall_nn: 0.9407\n",
      "Epoch 27/40\n",
      "\u001b[1m785/785\u001b[0m \u001b[32m━━━━━━━━━━━━━━━━━━━━\u001b[0m\u001b[37m\u001b[0m \u001b[1m3s\u001b[0m 4ms/step - loss: 0.1008 - recall_nn: 0.9354 - val_loss: 0.2174 - val_recall_nn: 0.9370\n",
      "Epoch 28/40\n",
      "\u001b[1m785/785\u001b[0m \u001b[32m━━━━━━━━━━━━━━━━━━━━\u001b[0m\u001b[37m\u001b[0m \u001b[1m3s\u001b[0m 4ms/step - loss: 0.1017 - recall_nn: 0.9341 - val_loss: 0.2118 - val_recall_nn: 0.9401\n",
      "Epoch 29/40\n",
      "\u001b[1m785/785\u001b[0m \u001b[32m━━━━━━━━━━━━━━━━━━━━\u001b[0m\u001b[37m\u001b[0m \u001b[1m5s\u001b[0m 4ms/step - loss: 0.1002 - recall_nn: 0.9342 - val_loss: 0.2152 - val_recall_nn: 0.9407\n",
      "Epoch 30/40\n",
      "\u001b[1m785/785\u001b[0m \u001b[32m━━━━━━━━━━━━━━━━━━━━\u001b[0m\u001b[37m\u001b[0m \u001b[1m5s\u001b[0m 4ms/step - loss: 0.0989 - recall_nn: 0.9365 - val_loss: 0.2113 - val_recall_nn: 0.9386\n",
      "Epoch 31/40\n",
      "\u001b[1m785/785\u001b[0m \u001b[32m━━━━━━━━━━━━━━━━━━━━\u001b[0m\u001b[37m\u001b[0m \u001b[1m3s\u001b[0m 4ms/step - loss: 0.0968 - recall_nn: 0.9374 - val_loss: 0.2048 - val_recall_nn: 0.9389\n",
      "Epoch 32/40\n",
      "\u001b[1m785/785\u001b[0m \u001b[32m━━━━━━━━━━━━━━━━━━━━\u001b[0m\u001b[37m\u001b[0m \u001b[1m3s\u001b[0m 4ms/step - loss: 0.0989 - recall_nn: 0.9360 - val_loss: 0.2045 - val_recall_nn: 0.9361\n",
      "Epoch 33/40\n",
      "\u001b[1m785/785\u001b[0m \u001b[32m━━━━━━━━━━━━━━━━━━━━\u001b[0m\u001b[37m\u001b[0m \u001b[1m3s\u001b[0m 3ms/step - loss: 0.0972 - recall_nn: 0.9361 - val_loss: 0.2191 - val_recall_nn: 0.9441\n",
      "Epoch 34/40\n",
      "\u001b[1m785/785\u001b[0m \u001b[32m━━━━━━━━━━━━━━━━━━━━\u001b[0m\u001b[37m\u001b[0m \u001b[1m3s\u001b[0m 4ms/step - loss: 0.0977 - recall_nn: 0.9384 - val_loss: 0.2234 - val_recall_nn: 0.9444\n",
      "Epoch 35/40\n",
      "\u001b[1m785/785\u001b[0m \u001b[32m━━━━━━━━━━━━━━━━━━━━\u001b[0m\u001b[37m\u001b[0m \u001b[1m3s\u001b[0m 4ms/step - loss: 0.0989 - recall_nn: 0.9362 - val_loss: 0.2013 - val_recall_nn: 0.9392\n",
      "Epoch 36/40\n",
      "\u001b[1m785/785\u001b[0m \u001b[32m━━━━━━━━━━━━━━━━━━━━\u001b[0m\u001b[37m\u001b[0m \u001b[1m3s\u001b[0m 4ms/step - loss: 0.0983 - recall_nn: 0.9375 - val_loss: 0.2086 - val_recall_nn: 0.9404\n",
      "Epoch 37/40\n",
      "\u001b[1m785/785\u001b[0m \u001b[32m━━━━━━━━━━━━━━━━━━━━\u001b[0m\u001b[37m\u001b[0m \u001b[1m5s\u001b[0m 4ms/step - loss: 0.0967 - recall_nn: 0.9380 - val_loss: 0.2110 - val_recall_nn: 0.9413\n",
      "Epoch 38/40\n",
      "\u001b[1m785/785\u001b[0m \u001b[32m━━━━━━━━━━━━━━━━━━━━\u001b[0m\u001b[37m\u001b[0m \u001b[1m3s\u001b[0m 4ms/step - loss: 0.1001 - recall_nn: 0.9371 - val_loss: 0.2032 - val_recall_nn: 0.9373\n",
      "Epoch 39/40\n",
      "\u001b[1m785/785\u001b[0m \u001b[32m━━━━━━━━━━━━━━━━━━━━\u001b[0m\u001b[37m\u001b[0m \u001b[1m5s\u001b[0m 4ms/step - loss: 0.0993 - recall_nn: 0.9370 - val_loss: 0.2117 - val_recall_nn: 0.9444\n",
      "Epoch 40/40\n",
      "\u001b[1m785/785\u001b[0m \u001b[32m━━━━━━━━━━━━━━━━━━━━\u001b[0m\u001b[37m\u001b[0m \u001b[1m5s\u001b[0m 4ms/step - loss: 0.0978 - recall_nn: 0.9378 - val_loss: 0.2039 - val_recall_nn: 0.9432\n",
      "\u001b[1m436/436\u001b[0m \u001b[32m━━━━━━━━━━━━━━━━━━━━\u001b[0m\u001b[37m\u001b[0m \u001b[1m1s\u001b[0m 2ms/step\n"
     ]
    }
   ],
   "source": [
    "model_NN = Sequential()\n",
    "model_NN.add(Dense(128, input_dim=10, activation='relu'))\n",
    "model_NN.add(BatchNormalization())\n",
    "model_NN.add(Dropout(0.25))\n",
    "model_NN.add(Dense(64, activation='relu'))\n",
    "model_NN.add(BatchNormalization())\n",
    "model_NN.add(Dropout(0.25))\n",
    "model_NN.add(Dense(1, activation='sigmoid'))\n",
    "\n",
    "model_NN.compile(optimizer='adam',\n",
    "              loss=tf.keras.losses.BinaryCrossentropy(from_logits=False),\n",
    "              metrics=[tf.keras.metrics.Recall(name='recall_nn')])\n",
    "model_NN.summary()\n",
    "\n",
    "nn_start_time = time.time()\n",
    "# early_stopping = EarlyStopping(monitor='val_recall_nn', patience=5)\n",
    "history = model_NN.fit(X_train_nn, y_train_nn, epochs=40, batch_size=64, validation_split=0.1, class_weight={0:0.3, 1:0.7})\n",
    "\n",
    "score = model_NN.evaluate(X_test_nn, y_test_nn, verbose=0)\n",
    "\n",
    "y_pred_nn = model_NN.predict(X_test_nn)\n",
    "\n",
    "nn_end_time = time.time()-nn_start_time"
   ]
  },
  {
   "cell_type": "code",
   "execution_count": 203,
   "metadata": {},
   "outputs": [
    {
     "data": {
      "image/png": "[encoded data removed]",
      "text/plain": [
       "<Figure size 1400x500 with 2 Axes>"
      ]
     },
     "metadata": {},
     "output_type": "display_data"
    }
   ],
   "source": [
    "plt.figure(figsize=(14, 5))\n",
    "plt.subplot(1, 2, 1)\n",
    "plt.plot(history.history['recall_nn'], label='recall')\n",
    "plt.plot(history.history['val_recall_nn'], label='val_recall')\n",
    "plt.xlabel('Epoch')\n",
    "plt.ylabel('Recall class 1')\n",
    "plt.legend()\n",
    "\n",
    "plt.subplot(1, 2, 2)\n",
    "plt.plot(history.history['loss'], label='loss')\n",
    "plt.plot(history.history['val_loss'], label='val_loss')\n",
    "plt.xlabel('Epoch')\n",
    "plt.ylabel('Loss')\n",
    "plt.legend()\n",
    "\n",
    "plt.tight_layout()\n",
    "plt.show()"
   ]
  },
  {
   "cell_type": "markdown",
   "metadata": {},
   "source": [
    "##### Статистика роботи моделі на тестувальних данних"
   ]
  },
  {
   "cell_type": "code",
   "execution_count": 204,
   "metadata": {},
   "outputs": [
    {
     "name": "stdout",
     "output_type": "stream",
     "text": [
      "Модель прогнозує 1 у 93.76% випадках\n",
      "На тестувальних данних правильно 94.21%  класу 1\n",
      "\n",
      " --------------------------------------------------\n",
      "Classification report:\n",
      "              precision    recall  f1-score   support\n",
      "\n",
      "           0       0.92      0.92      0.92      6058\n",
      "           1       0.94      0.94      0.94      7894\n",
      "\n",
      "    accuracy                           0.93     13952\n",
      "   macro avg       0.93      0.93      0.93     13952\n",
      "weighted avg       0.93      0.93      0.93     13952\n",
      "\n",
      "\n",
      " --------------------------------------------------\n"
     ]
    },
    {
     "data": {
      "image/png": "[encoded data removed]",
      "text/plain": [
       "<Figure size 300x300 with 1 Axes>"
      ]
     },
     "metadata": {},
     "output_type": "display_data"
    }
   ],
   "source": [
    "binary_predictions = [1 if p > 0.5 else 0 for p in y_pred_nn]\n",
    "recall_nn = recall_score(y_test_nn, binary_predictions, pos_label=1)\n",
    "precision_nn = precision_score(y_test_nn, binary_predictions, pos_label=1)\n",
    "model_info(y_test, binary_predictions)"
   ]
  },
  {
   "cell_type": "markdown",
   "metadata": {},
   "source": [
    "Збережемо модель та скейлер"
   ]
  },
  {
   "cell_type": "code",
   "execution_count": 226,
   "metadata": {},
   "outputs": [
    {
     "data": {
      "text/plain": [
       "['../scalers/NN_scaler_Serhii.pkl']"
      ]
     },
     "execution_count": 226,
     "metadata": {},
     "output_type": "execute_result"
    }
   ],
   "source": [
    "joblib.dump(model_NN,'../models/NN_model_Serhii.pkl')\n",
    "joblib.dump(min_max_scaler,'../scalers/NN_scaler_Serhii.pkl')"
   ]
  },
  {
   "cell_type": "markdown",
   "metadata": {},
   "source": [
    "### Порівняємо роботу різних моделей"
   ]
  },
  {
   "cell_type": "code",
   "execution_count": 225,
   "metadata": {},
   "outputs": [
    {
     "data": {
      "image/png": "[encoded data removed]",
      "text/plain": [
       "<Figure size 2000x400 with 3 Axes>"
      ]
     },
     "metadata": {},
     "output_type": "display_data"
    },
    {
     "data": {
      "image/png": "[encoded data removed]",
      "text/plain": [
       "<Figure size 2000x300 with 5 Axes>"
      ]
     },
     "metadata": {},
     "output_type": "display_data"
    }
   ],
   "source": [
    "data = {'model':['LogisticRegression','LinearSVC', 'SVC_rbf', 'RandomForest', 'NN'],\n",
    "        'analyze_time':[lr_end_time, lr_end_time, svc_rbf_end_time, rf_end_time ,nn_end_time],\n",
    "        'recall':[recall_lr*100, recall_svc*100, recall_svc_rbf*100, recall_rf*100, recall_nn*100],\n",
    "        'precision':[precision_lr*100, precision_svc*100, precision_svc_rbf*100, precision_rf*100, precision_nn*100],\n",
    "        'y_pred':[y_pred_lr, y_pred_svc, y_pred_svc_rbf, y_pred_rf, binary_predictions]\n",
    "        }\n",
    "\n",
    "df_results = pd.DataFrame(data)\n",
    "\n",
    "fig, ax= plt.subplots(figsize=(20, 4))\n",
    "ax2 = ax.twinx()\n",
    "ax3 = ax.twinx()\n",
    "width = 0.3\n",
    "\n",
    "x = np.array([i for i,_ in enumerate(df_results['model'])])\n",
    "\n",
    "ax.bar(x + width, df_results['analyze_time'], color='r', alpha=0.7, width=width)\n",
    "ax2.bar(x - width, df_results['recall'], color='b', alpha=0.7, width=width)\n",
    "ax3.bar(x, df_results['precision'], color='g', alpha=0.7, width=width)\n",
    "\n",
    "plt.xticks(range(len(df_results['model'])), df_results['model'], rotation=0);\n",
    "\n",
    "ax.set_ylabel('Time for training model (s)', color='r')\n",
    "ax2.set_ylabel('Recall class 1 (%)', color='b')\n",
    "ax3.set_ylabel('\\nPrecision class 1 (%)', color='g')\n",
    "\n",
    "ax3.set_ylim([0, 100])\n",
    "ax2.set_ylim([0, 100])\n",
    "ax.grid(False)\n",
    "ax2.grid(False)\n",
    "ax3.grid(False)\n",
    "\n",
    "for i, v in enumerate(df_results['analyze_time'].round()):\n",
    "    ax.text(i+0.3, v, str(v)+' s', ha='center', va='bottom')\n",
    "\n",
    "for i, v in enumerate(df_results['recall'].round(2)):\n",
    "    ax2.text(i-0.3, v, str(v)+'%', ha='center', va='bottom')\n",
    "\n",
    "for i, v in enumerate(df_results['precision'].round(2)):\n",
    "    ax3.text(i, v, str(v)+'%', ha='center', va='bottom')\n",
    "\n",
    "plt.show()\n",
    "\n",
    "\n",
    "plt.figure(figsize=(20, 3))\n",
    "for i, (m, p) in enumerate(zip(df_results['model'], df_results['y_pred'])):\n",
    "    cm = confusion_matrix(y_test, p)\n",
    "    plt.subplot(1, 5, i+1)\n",
    "    sns.heatmap(cm, square=True, annot=True, fmt='d', cbar=False, cmap='coolwarm', vmin=0, vmax=4200, annot_kws={\"size\": 16})\n",
    "    plt.title(m)\n",
    "    plt.ylabel('Real')\n",
    "    plt.xlabel('Predicted')\n",
    "plt.show()"
   ]
  }
 ],
 "metadata": {
  "kernelspec": {
   "display_name": "Python 3",
   "language": "python",
   "name": "python3"
  },
  "language_info": {
   "codemirror_mode": {
    "name": "ipython",
    "version": 3
   },
   "file_extension": ".py",
   "mimetype": "text/x-python",
   "name": "python",
   "nbconvert_exporter": "python",
   "pygments_lexer": "ipython3",
   "version": "3.12.0"
  }
 },
 "nbformat": 4,
 "nbformat_minor": 2
}
