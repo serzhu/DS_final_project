{
 "cells": [
  {
   "cell_type": "code",
   "execution_count": 194,
   "metadata": {},
   "outputs": [],
   "source": [
    "import pandas as pd\n",
    "import numpy as np\n",
    "import matplotlib.pyplot as plt\n",
    "import seaborn as sns\n",
    "\n",
    "from tensorflow.keras.models import Sequential\n",
    "from tensorflow.keras.layers import Dense, Dropout, Embedding, LSTM, GRU, SimpleRNN\n",
    "from tensorflow.keras.callbacks import EarlyStopping\n",
    "\n",
    "from sklearn.svm import LinearSVC\n",
    "from sklearn.linear_model import LogisticRegression\n",
    "from sklearn.preprocessing import StandardScaler, MinMaxScaler\n",
    "from sklearn.model_selection import GridSearchCV, train_test_split\n",
    "from sklearn.metrics import accuracy_score, classification_report, confusion_matrix\n",
    "from sklearn.ensemble import RandomForestClassifier\n",
    "\n",
    "from imblearn.over_sampling import SMOTE\n",
    "\n",
    "import joblib\n",
    "import logging\n",
    "import time\n",
    "from pathlib import Path\n",
    "\n",
    "\n",
    "logging.basicConfig(level=logging.DEBUG)\n",
    "logger = logging.getLogger(__name__)\n",
    "sns.set_style('darkgrid')"
   ]
  },
  {
   "cell_type": "code",
   "execution_count": 226,
   "metadata": {},
   "outputs": [
    {
     "data": {
      "text/html": [
       "<div>\n",
       "<style scoped>\n",
       "    .dataframe tbody tr th:only-of-type {\n",
       "        vertical-align: middle;\n",
       "    }\n",
       "\n",
       "    .dataframe tbody tr th {\n",
       "        vertical-align: top;\n",
       "    }\n",
       "\n",
       "    .dataframe thead th {\n",
       "        text-align: right;\n",
       "    }\n",
       "</style>\n",
       "<table border=\"1\" class=\"dataframe\">\n",
       "  <thead>\n",
       "    <tr style=\"text-align: right;\">\n",
       "      <th></th>\n",
       "      <th>id</th>\n",
       "      <th>is_tv_subscriber</th>\n",
       "      <th>is_movie_package_subscriber</th>\n",
       "      <th>subscription_age</th>\n",
       "      <th>bill_avg</th>\n",
       "      <th>reamining_contract</th>\n",
       "      <th>service_failure_count</th>\n",
       "      <th>download_avg</th>\n",
       "      <th>upload_avg</th>\n",
       "      <th>download_over_limit</th>\n",
       "      <th>churn</th>\n",
       "    </tr>\n",
       "  </thead>\n",
       "  <tbody>\n",
       "    <tr>\n",
       "      <th>0</th>\n",
       "      <td>15</td>\n",
       "      <td>1</td>\n",
       "      <td>0</td>\n",
       "      <td>11.95</td>\n",
       "      <td>25</td>\n",
       "      <td>0.14</td>\n",
       "      <td>0</td>\n",
       "      <td>8.4</td>\n",
       "      <td>2.3</td>\n",
       "      <td>0</td>\n",
       "      <td>0</td>\n",
       "    </tr>\n",
       "    <tr>\n",
       "      <th>1</th>\n",
       "      <td>18</td>\n",
       "      <td>0</td>\n",
       "      <td>0</td>\n",
       "      <td>8.22</td>\n",
       "      <td>0</td>\n",
       "      <td>NaN</td>\n",
       "      <td>0</td>\n",
       "      <td>0.0</td>\n",
       "      <td>0.0</td>\n",
       "      <td>0</td>\n",
       "      <td>1</td>\n",
       "    </tr>\n",
       "    <tr>\n",
       "      <th>2</th>\n",
       "      <td>23</td>\n",
       "      <td>1</td>\n",
       "      <td>0</td>\n",
       "      <td>8.91</td>\n",
       "      <td>16</td>\n",
       "      <td>0.00</td>\n",
       "      <td>0</td>\n",
       "      <td>13.7</td>\n",
       "      <td>0.9</td>\n",
       "      <td>0</td>\n",
       "      <td>1</td>\n",
       "    </tr>\n",
       "    <tr>\n",
       "      <th>3</th>\n",
       "      <td>27</td>\n",
       "      <td>0</td>\n",
       "      <td>0</td>\n",
       "      <td>6.87</td>\n",
       "      <td>21</td>\n",
       "      <td>NaN</td>\n",
       "      <td>1</td>\n",
       "      <td>0.0</td>\n",
       "      <td>0.0</td>\n",
       "      <td>0</td>\n",
       "      <td>1</td>\n",
       "    </tr>\n",
       "    <tr>\n",
       "      <th>4</th>\n",
       "      <td>34</td>\n",
       "      <td>0</td>\n",
       "      <td>0</td>\n",
       "      <td>6.39</td>\n",
       "      <td>0</td>\n",
       "      <td>NaN</td>\n",
       "      <td>0</td>\n",
       "      <td>0.0</td>\n",
       "      <td>0.0</td>\n",
       "      <td>0</td>\n",
       "      <td>1</td>\n",
       "    </tr>\n",
       "    <tr>\n",
       "      <th>...</th>\n",
       "      <td>...</td>\n",
       "      <td>...</td>\n",
       "      <td>...</td>\n",
       "      <td>...</td>\n",
       "      <td>...</td>\n",
       "      <td>...</td>\n",
       "      <td>...</td>\n",
       "      <td>...</td>\n",
       "      <td>...</td>\n",
       "      <td>...</td>\n",
       "      <td>...</td>\n",
       "    </tr>\n",
       "    <tr>\n",
       "      <th>72269</th>\n",
       "      <td>1689648</td>\n",
       "      <td>1</td>\n",
       "      <td>1</td>\n",
       "      <td>0.09</td>\n",
       "      <td>0</td>\n",
       "      <td>1.25</td>\n",
       "      <td>0</td>\n",
       "      <td>0.0</td>\n",
       "      <td>0.0</td>\n",
       "      <td>0</td>\n",
       "      <td>1</td>\n",
       "    </tr>\n",
       "    <tr>\n",
       "      <th>72270</th>\n",
       "      <td>1689676</td>\n",
       "      <td>1</td>\n",
       "      <td>0</td>\n",
       "      <td>0.06</td>\n",
       "      <td>1</td>\n",
       "      <td>1.63</td>\n",
       "      <td>0</td>\n",
       "      <td>0.8</td>\n",
       "      <td>0.0</td>\n",
       "      <td>0</td>\n",
       "      <td>1</td>\n",
       "    </tr>\n",
       "    <tr>\n",
       "      <th>72271</th>\n",
       "      <td>1689679</td>\n",
       "      <td>1</td>\n",
       "      <td>0</td>\n",
       "      <td>0.02</td>\n",
       "      <td>0</td>\n",
       "      <td>2.19</td>\n",
       "      <td>0</td>\n",
       "      <td>1.5</td>\n",
       "      <td>0.2</td>\n",
       "      <td>0</td>\n",
       "      <td>1</td>\n",
       "    </tr>\n",
       "    <tr>\n",
       "      <th>72272</th>\n",
       "      <td>1689733</td>\n",
       "      <td>0</td>\n",
       "      <td>0</td>\n",
       "      <td>0.01</td>\n",
       "      <td>0</td>\n",
       "      <td>0.72</td>\n",
       "      <td>0</td>\n",
       "      <td>0.0</td>\n",
       "      <td>0.0</td>\n",
       "      <td>0</td>\n",
       "      <td>1</td>\n",
       "    </tr>\n",
       "    <tr>\n",
       "      <th>72273</th>\n",
       "      <td>1689744</td>\n",
       "      <td>1</td>\n",
       "      <td>1</td>\n",
       "      <td>0.01</td>\n",
       "      <td>0</td>\n",
       "      <td>0.82</td>\n",
       "      <td>0</td>\n",
       "      <td>0.0</td>\n",
       "      <td>0.0</td>\n",
       "      <td>0</td>\n",
       "      <td>1</td>\n",
       "    </tr>\n",
       "  </tbody>\n",
       "</table>\n",
       "<p>72274 rows × 11 columns</p>\n",
       "</div>"
      ],
      "text/plain": [
       "            id  is_tv_subscriber  is_movie_package_subscriber  \\\n",
       "0           15                 1                            0   \n",
       "1           18                 0                            0   \n",
       "2           23                 1                            0   \n",
       "3           27                 0                            0   \n",
       "4           34                 0                            0   \n",
       "...        ...               ...                          ...   \n",
       "72269  1689648                 1                            1   \n",
       "72270  1689676                 1                            0   \n",
       "72271  1689679                 1                            0   \n",
       "72272  1689733                 0                            0   \n",
       "72273  1689744                 1                            1   \n",
       "\n",
       "       subscription_age  bill_avg  reamining_contract  service_failure_count  \\\n",
       "0                 11.95        25                0.14                      0   \n",
       "1                  8.22         0                 NaN                      0   \n",
       "2                  8.91        16                0.00                      0   \n",
       "3                  6.87        21                 NaN                      1   \n",
       "4                  6.39         0                 NaN                      0   \n",
       "...                 ...       ...                 ...                    ...   \n",
       "72269              0.09         0                1.25                      0   \n",
       "72270              0.06         1                1.63                      0   \n",
       "72271              0.02         0                2.19                      0   \n",
       "72272              0.01         0                0.72                      0   \n",
       "72273              0.01         0                0.82                      0   \n",
       "\n",
       "       download_avg  upload_avg  download_over_limit  churn  \n",
       "0               8.4         2.3                    0      0  \n",
       "1               0.0         0.0                    0      1  \n",
       "2              13.7         0.9                    0      1  \n",
       "3               0.0         0.0                    0      1  \n",
       "4               0.0         0.0                    0      1  \n",
       "...             ...         ...                  ...    ...  \n",
       "72269           0.0         0.0                    0      1  \n",
       "72270           0.8         0.0                    0      1  \n",
       "72271           1.5         0.2                    0      1  \n",
       "72272           0.0         0.0                    0      1  \n",
       "72273           0.0         0.0                    0      1  \n",
       "\n",
       "[72274 rows x 11 columns]"
      ]
     },
     "execution_count": 226,
     "metadata": {},
     "output_type": "execute_result"
    }
   ],
   "source": [
    "data_folder = Path('../data')\n",
    "df = pd.read_csv(data_folder / 'internet_service_churn.csv')\n",
    "df"
   ]
  },
  {
   "cell_type": "markdown",
   "metadata": {},
   "source": [
    "Загальна інформація  по датасету"
   ]
  },
  {
   "cell_type": "code",
   "execution_count": 32,
   "metadata": {},
   "outputs": [
    {
     "name": "stdout",
     "output_type": "stream",
     "text": [
      "<class 'pandas.core.frame.DataFrame'>\n",
      "RangeIndex: 72274 entries, 0 to 72273\n",
      "Data columns (total 11 columns):\n",
      " #   Column                       Non-Null Count  Dtype  \n",
      "---  ------                       --------------  -----  \n",
      " 0   id                           72274 non-null  int64  \n",
      " 1   is_tv_subscriber             72274 non-null  int64  \n",
      " 2   is_movie_package_subscriber  72274 non-null  int64  \n",
      " 3   subscription_age             72274 non-null  float64\n",
      " 4   bill_avg                     72274 non-null  int64  \n",
      " 5   reamining_contract           50702 non-null  float64\n",
      " 6   service_failure_count        72274 non-null  int64  \n",
      " 7   download_avg                 71893 non-null  float64\n",
      " 8   upload_avg                   71893 non-null  float64\n",
      " 9   download_over_limit          72274 non-null  int64  \n",
      " 10  churn                        72274 non-null  int64  \n",
      "dtypes: float64(4), int64(7)\n",
      "memory usage: 6.1 MB\n"
     ]
    }
   ],
   "source": [
    "df.info()"
   ]
  },
  {
   "cell_type": "markdown",
   "metadata": {},
   "source": [
    "Бачимо що в деякіх колонках відсутні значення.  \n",
    "5 ствбчик, що означає час до закінчення контракту та 7 і 8 стовбчики  - містить NaN значення."
   ]
  },
  {
   "cell_type": "markdown",
   "metadata": {},
   "source": [
    "Подивимось на іх кількість"
   ]
  },
  {
   "cell_type": "code",
   "execution_count": 33,
   "metadata": {},
   "outputs": [
    {
     "data": {
      "text/plain": [
       "id                                 0\n",
       "is_tv_subscriber                   0\n",
       "is_movie_package_subscriber        0\n",
       "subscription_age                   0\n",
       "bill_avg                           0\n",
       "reamining_contract             21572\n",
       "service_failure_count              0\n",
       "download_avg                     381\n",
       "upload_avg                       381\n",
       "download_over_limit                0\n",
       "churn                              0\n",
       "dtype: int64"
      ]
     },
     "execution_count": 33,
     "metadata": {},
     "output_type": "execute_result"
    }
   ],
   "source": [
    "df.isna().sum()"
   ]
  },
  {
   "cell_type": "markdown",
   "metadata": {},
   "source": [
    "Значення NaN в 5 стовбчику означає, що клієнт не укладав контракту з компанією.  \n",
    "Додамо новий стовбчик 'contract', в якому позначимо - мав клієнт контракт (1) чи ні (0)"
   ]
  },
  {
   "cell_type": "code",
   "execution_count": 227,
   "metadata": {},
   "outputs": [],
   "source": [
    "df['contract'] = df['reamining_contract'].apply(lambda x: 0 if pd.isna(x) else 1)\n",
    "df.insert(5, 'contract', df.pop('contract'))\n",
    "df['reamining_contract'] = df['reamining_contract'].fillna(0)"
   ]
  },
  {
   "cell_type": "markdown",
   "metadata": {},
   "source": [
    "Кількість значеннь NaN в стовбчиках 'download_avg' та 'upload_avg' становить менш ніж 0,5% від усіх значень.  \n",
    "Видалимо  рядки з NaN значеннями - це не вплине суттєво на  загальні данні "
   ]
  },
  {
   "cell_type": "code",
   "execution_count": 228,
   "metadata": {},
   "outputs": [],
   "source": [
    "df.dropna(subset=['download_avg', 'upload_avg'], inplace=True, ignore_index=True)"
   ]
  },
  {
   "cell_type": "markdown",
   "metadata": {},
   "source": [
    "Датасет виглядяє наступним чином:"
   ]
  },
  {
   "cell_type": "code",
   "execution_count": 36,
   "metadata": {},
   "outputs": [
    {
     "name": "stdout",
     "output_type": "stream",
     "text": [
      "<class 'pandas.core.frame.DataFrame'>\n",
      "RangeIndex: 71893 entries, 0 to 71892\n",
      "Data columns (total 12 columns):\n",
      " #   Column                       Non-Null Count  Dtype  \n",
      "---  ------                       --------------  -----  \n",
      " 0   id                           71893 non-null  int64  \n",
      " 1   is_tv_subscriber             71893 non-null  int64  \n",
      " 2   is_movie_package_subscriber  71893 non-null  int64  \n",
      " 3   subscription_age             71893 non-null  float64\n",
      " 4   bill_avg                     71893 non-null  int64  \n",
      " 5   contract                     71893 non-null  int64  \n",
      " 6   reamining_contract           71893 non-null  float64\n",
      " 7   service_failure_count        71893 non-null  int64  \n",
      " 8   download_avg                 71893 non-null  float64\n",
      " 9   upload_avg                   71893 non-null  float64\n",
      " 10  download_over_limit          71893 non-null  int64  \n",
      " 11  churn                        71893 non-null  int64  \n",
      "dtypes: float64(4), int64(8)\n",
      "memory usage: 6.6 MB\n"
     ]
    }
   ],
   "source": [
    "df.info()"
   ]
  },
  {
   "cell_type": "markdown",
   "metadata": {},
   "source": [
    "Перевіримо данні на наявність дублікатів"
   ]
  },
  {
   "cell_type": "code",
   "execution_count": 43,
   "metadata": {},
   "outputs": [
    {
     "data": {
      "text/html": [
       "<div>\n",
       "<style scoped>\n",
       "    .dataframe tbody tr th:only-of-type {\n",
       "        vertical-align: middle;\n",
       "    }\n",
       "\n",
       "    .dataframe tbody tr th {\n",
       "        vertical-align: top;\n",
       "    }\n",
       "\n",
       "    .dataframe thead th {\n",
       "        text-align: right;\n",
       "    }\n",
       "</style>\n",
       "<table border=\"1\" class=\"dataframe\">\n",
       "  <thead>\n",
       "    <tr style=\"text-align: right;\">\n",
       "      <th></th>\n",
       "      <th>id</th>\n",
       "      <th>is_tv_subscriber</th>\n",
       "      <th>is_movie_package_subscriber</th>\n",
       "      <th>subscription_age</th>\n",
       "      <th>bill_avg</th>\n",
       "      <th>contract</th>\n",
       "      <th>reamining_contract</th>\n",
       "      <th>service_failure_count</th>\n",
       "      <th>download_avg</th>\n",
       "      <th>upload_avg</th>\n",
       "      <th>download_over_limit</th>\n",
       "      <th>churn</th>\n",
       "    </tr>\n",
       "  </thead>\n",
       "  <tbody>\n",
       "  </tbody>\n",
       "</table>\n",
       "</div>"
      ],
      "text/plain": [
       "Empty DataFrame\n",
       "Columns: [id, is_tv_subscriber, is_movie_package_subscriber, subscription_age, bill_avg, contract, reamining_contract, service_failure_count, download_avg, upload_avg, download_over_limit, churn]\n",
       "Index: []"
      ]
     },
     "execution_count": 43,
     "metadata": {},
     "output_type": "execute_result"
    }
   ],
   "source": [
    "df[df.duplicated()]"
   ]
  },
  {
   "cell_type": "markdown",
   "metadata": {},
   "source": [
    "Подивимось на статистичні данні"
   ]
  },
  {
   "cell_type": "code",
   "execution_count": 44,
   "metadata": {},
   "outputs": [
    {
     "data": {
      "text/html": [
       "<div>\n",
       "<style scoped>\n",
       "    .dataframe tbody tr th:only-of-type {\n",
       "        vertical-align: middle;\n",
       "    }\n",
       "\n",
       "    .dataframe tbody tr th {\n",
       "        vertical-align: top;\n",
       "    }\n",
       "\n",
       "    .dataframe thead th {\n",
       "        text-align: right;\n",
       "    }\n",
       "</style>\n",
       "<table border=\"1\" class=\"dataframe\">\n",
       "  <thead>\n",
       "    <tr style=\"text-align: right;\">\n",
       "      <th></th>\n",
       "      <th>count</th>\n",
       "      <th>mean</th>\n",
       "      <th>std</th>\n",
       "      <th>min</th>\n",
       "      <th>25%</th>\n",
       "      <th>50%</th>\n",
       "      <th>75%</th>\n",
       "      <th>max</th>\n",
       "    </tr>\n",
       "  </thead>\n",
       "  <tbody>\n",
       "    <tr>\n",
       "      <th>is_tv_subscriber</th>\n",
       "      <td>71893.0</td>\n",
       "      <td>0.815225</td>\n",
       "      <td>0.388117</td>\n",
       "      <td>0.00</td>\n",
       "      <td>1.00</td>\n",
       "      <td>1.00</td>\n",
       "      <td>1.00</td>\n",
       "      <td>1.00</td>\n",
       "    </tr>\n",
       "    <tr>\n",
       "      <th>is_movie_package_subscriber</th>\n",
       "      <td>71893.0</td>\n",
       "      <td>0.334066</td>\n",
       "      <td>0.471666</td>\n",
       "      <td>0.00</td>\n",
       "      <td>0.00</td>\n",
       "      <td>0.00</td>\n",
       "      <td>1.00</td>\n",
       "      <td>1.00</td>\n",
       "    </tr>\n",
       "    <tr>\n",
       "      <th>subscription_age</th>\n",
       "      <td>71893.0</td>\n",
       "      <td>2.455486</td>\n",
       "      <td>2.026856</td>\n",
       "      <td>-0.02</td>\n",
       "      <td>0.94</td>\n",
       "      <td>1.98</td>\n",
       "      <td>3.30</td>\n",
       "      <td>12.80</td>\n",
       "    </tr>\n",
       "    <tr>\n",
       "      <th>bill_avg</th>\n",
       "      <td>71893.0</td>\n",
       "      <td>19.016844</td>\n",
       "      <td>13.188541</td>\n",
       "      <td>0.00</td>\n",
       "      <td>13.00</td>\n",
       "      <td>19.00</td>\n",
       "      <td>22.00</td>\n",
       "      <td>406.00</td>\n",
       "    </tr>\n",
       "    <tr>\n",
       "      <th>contract</th>\n",
       "      <td>71893.0</td>\n",
       "      <td>0.700694</td>\n",
       "      <td>0.457957</td>\n",
       "      <td>0.00</td>\n",
       "      <td>0.00</td>\n",
       "      <td>1.00</td>\n",
       "      <td>1.00</td>\n",
       "      <td>1.00</td>\n",
       "    </tr>\n",
       "    <tr>\n",
       "      <th>reamining_contract</th>\n",
       "      <td>71893.0</td>\n",
       "      <td>0.497612</td>\n",
       "      <td>0.665755</td>\n",
       "      <td>0.00</td>\n",
       "      <td>0.00</td>\n",
       "      <td>0.00</td>\n",
       "      <td>1.03</td>\n",
       "      <td>2.92</td>\n",
       "    </tr>\n",
       "    <tr>\n",
       "      <th>service_failure_count</th>\n",
       "      <td>71893.0</td>\n",
       "      <td>0.275674</td>\n",
       "      <td>0.818533</td>\n",
       "      <td>0.00</td>\n",
       "      <td>0.00</td>\n",
       "      <td>0.00</td>\n",
       "      <td>0.00</td>\n",
       "      <td>19.00</td>\n",
       "    </tr>\n",
       "    <tr>\n",
       "      <th>download_avg</th>\n",
       "      <td>71893.0</td>\n",
       "      <td>43.689911</td>\n",
       "      <td>63.405963</td>\n",
       "      <td>0.00</td>\n",
       "      <td>6.70</td>\n",
       "      <td>27.80</td>\n",
       "      <td>60.50</td>\n",
       "      <td>4415.20</td>\n",
       "    </tr>\n",
       "    <tr>\n",
       "      <th>upload_avg</th>\n",
       "      <td>71893.0</td>\n",
       "      <td>4.192076</td>\n",
       "      <td>9.818896</td>\n",
       "      <td>0.00</td>\n",
       "      <td>0.50</td>\n",
       "      <td>2.10</td>\n",
       "      <td>4.80</td>\n",
       "      <td>453.30</td>\n",
       "    </tr>\n",
       "    <tr>\n",
       "      <th>download_over_limit</th>\n",
       "      <td>71893.0</td>\n",
       "      <td>0.208713</td>\n",
       "      <td>0.999647</td>\n",
       "      <td>0.00</td>\n",
       "      <td>0.00</td>\n",
       "      <td>0.00</td>\n",
       "      <td>0.00</td>\n",
       "      <td>7.00</td>\n",
       "    </tr>\n",
       "    <tr>\n",
       "      <th>churn</th>\n",
       "      <td>71893.0</td>\n",
       "      <td>0.557078</td>\n",
       "      <td>0.496735</td>\n",
       "      <td>0.00</td>\n",
       "      <td>0.00</td>\n",
       "      <td>1.00</td>\n",
       "      <td>1.00</td>\n",
       "      <td>1.00</td>\n",
       "    </tr>\n",
       "  </tbody>\n",
       "</table>\n",
       "</div>"
      ],
      "text/plain": [
       "                               count       mean        std   min    25%  \\\n",
       "is_tv_subscriber             71893.0   0.815225   0.388117  0.00   1.00   \n",
       "is_movie_package_subscriber  71893.0   0.334066   0.471666  0.00   0.00   \n",
       "subscription_age             71893.0   2.455486   2.026856 -0.02   0.94   \n",
       "bill_avg                     71893.0  19.016844  13.188541  0.00  13.00   \n",
       "contract                     71893.0   0.700694   0.457957  0.00   0.00   \n",
       "reamining_contract           71893.0   0.497612   0.665755  0.00   0.00   \n",
       "service_failure_count        71893.0   0.275674   0.818533  0.00   0.00   \n",
       "download_avg                 71893.0  43.689911  63.405963  0.00   6.70   \n",
       "upload_avg                   71893.0   4.192076   9.818896  0.00   0.50   \n",
       "download_over_limit          71893.0   0.208713   0.999647  0.00   0.00   \n",
       "churn                        71893.0   0.557078   0.496735  0.00   0.00   \n",
       "\n",
       "                               50%    75%      max  \n",
       "is_tv_subscriber              1.00   1.00     1.00  \n",
       "is_movie_package_subscriber   0.00   1.00     1.00  \n",
       "subscription_age              1.98   3.30    12.80  \n",
       "bill_avg                     19.00  22.00   406.00  \n",
       "contract                      1.00   1.00     1.00  \n",
       "reamining_contract            0.00   1.03     2.92  \n",
       "service_failure_count         0.00   0.00    19.00  \n",
       "download_avg                 27.80  60.50  4415.20  \n",
       "upload_avg                    2.10   4.80   453.30  \n",
       "download_over_limit           0.00   0.00     7.00  \n",
       "churn                         1.00   1.00     1.00  "
      ]
     },
     "execution_count": 44,
     "metadata": {},
     "output_type": "execute_result"
    }
   ],
   "source": [
    "df.iloc[:, 1:].describe().transpose()"
   ]
  },
  {
   "cell_type": "markdown",
   "metadata": {},
   "source": [
    "Данні портібно буде стандартизовувати оскільки присутня розбіжніжсь числових значень"
   ]
  },
  {
   "cell_type": "markdown",
   "metadata": {},
   "source": [
    "----"
   ]
  },
  {
   "cell_type": "markdown",
   "metadata": {},
   "source": [
    "Розділемо датасет на 2 частини:  \n",
    "* одна для фінального тстування - 500 рядків \n",
    "* з іншої виділимо ознаки(features) та цільову ознаку(target)"
   ]
  },
  {
   "cell_type": "code",
   "execution_count": 229,
   "metadata": {},
   "outputs": [],
   "source": [
    "df_final_test = df[:500]\n",
    "df_final_test.to_csv(data_folder / 'test_internet_service_churn.csv', index=False)\n",
    "df = df[500:]\n",
    "y = df['churn']\n",
    "X = df.drop(columns=['churn','id'])"
   ]
  },
  {
   "cell_type": "markdown",
   "metadata": {},
   "source": [
    "Подивимось на збалансованість данних"
   ]
  },
  {
   "cell_type": "code",
   "execution_count": 46,
   "metadata": {},
   "outputs": [
    {
     "name": "stdout",
     "output_type": "stream",
     "text": [
      "churn\n",
      "1    39669\n",
      "0    31724\n",
      "Name: count, dtype: int64\n"
     ]
    }
   ],
   "source": [
    "print(y.value_counts())"
   ]
  },
  {
   "cell_type": "markdown",
   "metadata": {},
   "source": [
    "Розділемо данні на тренувальну та тестову вибірки.  \n",
    "Враховуючи що є незбалансованість вирішено примінити oversample метод  SMOTE(Synthetic Minority Oversampling Technique)  \n",
    "Для стандартизації данних будемо використовувати метод StandardScaler"
   ]
  },
  {
   "cell_type": "code",
   "execution_count": 140,
   "metadata": {},
   "outputs": [
    {
     "name": "stdout",
     "output_type": "stream",
     "text": [
      "(array([0, 1], dtype=int64), array([39669, 39669], dtype=int64))\n",
      "train X (59503, 10)\n",
      "train y (59503,)\n",
      "test X (19835, 10)\n",
      "test y (19835,)\n"
     ]
    }
   ],
   "source": [
    "oversample = SMOTE()\n",
    "scaler = StandardScaler()\n",
    "\n",
    "X_oversampled, y_oversampled = oversample.fit_resample(X, y)\n",
    "X_scaled_oversampled = scaler.fit_transform(X_oversampled)\n",
    "\n",
    "print(np.unique(y_oversampled, return_counts=True))\n",
    "\n",
    "X_train, X_test, y_train, y_test = train_test_split(X_scaled_oversampled, y_oversampled, test_size=0.25, random_state=42, stratify=y_oversampled)\n",
    "print('train X', X_train.shape)\n",
    "print('train y', y_train.shape)\n",
    "print('test X', X_test.shape)\n",
    "print('test y', y_test.shape)\n"
   ]
  },
  {
   "cell_type": "markdown",
   "metadata": {},
   "source": [
    "Бачимо що тепер кількість данних для обох класів однакова"
   ]
  },
  {
   "cell_type": "markdown",
   "metadata": {},
   "source": [
    "Збережемо SCALER в файл для можливості подальшого використання"
   ]
  },
  {
   "cell_type": "code",
   "execution_count": 213,
   "metadata": {},
   "outputs": [
    {
     "data": {
      "text/plain": [
       "['../models/scaler_Serhii.pkl']"
      ]
     },
     "execution_count": 213,
     "metadata": {},
     "output_type": "execute_result"
    }
   ],
   "source": [
    "joblib.dump(scaler,'../models/scaler_Serhii.pkl')"
   ]
  },
  {
   "cell_type": "markdown",
   "metadata": {},
   "source": [
    "----"
   ]
  },
  {
   "cell_type": "markdown",
   "metadata": {},
   "source": [
    "## Побудова моделей"
   ]
  },
  {
   "cell_type": "markdown",
   "metadata": {},
   "source": [
    "Підбирати найкращі гіперпараметри будемо за допомогою GridSearchCV"
   ]
  },
  {
   "cell_type": "markdown",
   "metadata": {},
   "source": [
    "### Logistic regression"
   ]
  },
  {
   "cell_type": "code",
   "execution_count": null,
   "metadata": {},
   "outputs": [],
   "source": [
    "lr_start_time = time.time()\n",
    "\n",
    "LR = LogisticRegression(random_state=42)\n",
    "param_grid = {'penalty':[None, 'l1', 'l2'],\n",
    "              'C': [0.01, 0.001], \n",
    "              'max_iter':[20, 25, 30], \n",
    "              'solver': ['lbfgs', 'liblinear']\n",
    "              }\n",
    "\n",
    "logisticRegression = GridSearchCV(LR, param_grid, cv=3, refit=True, return_train_score=True, n_jobs=1)\n",
    "logisticRegression.fit(X_train, y_train)\n",
    "print(f'Logistic Regression best parameters: {logisticRegression.best_params_}')\n",
    "\n",
    "lr_model = logisticRegression.best_estimator_\n",
    "# lr_model.fit(X_train, y_train)\n",
    "\n",
    "y_pred_lr = lr_model.predict(X_test)\n",
    "\n",
    "lr_end_time = time.time()-lr_start_time\n",
    "print(f'Build Logistic Regression model time: {lr_end_time:.2f} secs')"
   ]
  },
  {
   "cell_type": "code",
   "execution_count": 173,
   "metadata": {},
   "outputs": [
    {
     "name": "stdout",
     "output_type": "stream",
     "text": [
      "Logistic Regression best parameters: {'C': 0.001, 'max_iter': 20, 'penalty': 'l2', 'solver': 'lbfgs'}\n"
     ]
    }
   ],
   "source": [
    "print(f'Logistic Regression best parameters: {logisticRegression.best_params_}')"
   ]
  },
  {
   "cell_type": "markdown",
   "metadata": {},
   "source": [
    "Статистика роботи моделі LogisticRegression на тестувальних данних "
   ]
  },
  {
   "cell_type": "code",
   "execution_count": 172,
   "metadata": {},
   "outputs": [
    {
     "name": "stdout",
     "output_type": "stream",
     "text": [
      "Accuracy of SVC : 0.8822283841693975\n",
      "\n",
      " --------------------------------------------------\n",
      "Classification report:\n",
      "              precision    recall  f1-score   support\n",
      "\n",
      "           0       0.89      0.87      0.88      9918\n",
      "           1       0.87      0.90      0.88      9917\n",
      "\n",
      "    accuracy                           0.88     19835\n",
      "   macro avg       0.88      0.88      0.88     19835\n",
      "weighted avg       0.88      0.88      0.88     19835\n",
      "\n",
      "\n",
      " --------------------------------------------------\n"
     ]
    },
    {
     "data": {
      "image/png": "[encoded data removed]",
      "text/plain": [
       "<Figure size 300x300 with 1 Axes>"
      ]
     },
     "metadata": {},
     "output_type": "display_data"
    }
   ],
   "source": [
    "accuracy_lr = accuracy_score(y_test, y_pred_lr)\n",
    "print(f\"Accuracy of SVC : {accuracy_lr}\")\n",
    "print('\\n','-'*50)\n",
    "print('Classification report:')\n",
    "print(classification_report(y_test, y_pred_lr))\n",
    "print('\\n','-'*50)\n",
    "cm = confusion_matrix(y_test, y_pred_lr)\n",
    "\n",
    "plt.figure(figsize=(3, 3))\n",
    "sns.heatmap(cm, square=True, annot=True, fmt='d', cbar=False, cmap='coolwarm', vmin=900, vmax=6000)\n",
    "plt.title('Confusion matrix')\n",
    "plt.ylabel('Real')\n",
    "plt.xlabel('Predicted');"
   ]
  },
  {
   "cell_type": "markdown",
   "metadata": {},
   "source": [
    "### LinearSVC"
   ]
  },
  {
   "cell_type": "code",
   "execution_count": 159,
   "metadata": {},
   "outputs": [
    {
     "name": "stdout",
     "output_type": "stream",
     "text": [
      "LinearSVC best parameters: {'C': 0.01, 'max_iter': 1000, 'tol': 0.0001}\n",
      "Build LinearSVC model time: 4.29 secs\n"
     ]
    }
   ],
   "source": [
    "SVC = LinearSVC(random_state=42)\n",
    "\n",
    "svc_start_time = time.time()\n",
    "param_grid = {'C': [0.01, 0.1, 1], 'tol':[1e-4, 1e-05], 'max_iter':[1000, 10000]}\n",
    "linearSVC = GridSearchCV(SVC, param_grid, cv=3, return_train_score=True, n_jobs=1)\n",
    "\n",
    "linearSVC.fit(X_train, y_train)\n",
    "print(f'LinearSVC best parameters: {linearSVC.best_params_}')\n",
    "\n",
    "svc_model = linearSVC.best_estimator_\n",
    "y_pred_svc = svc_model.predict(X_test)\n",
    "\n",
    "svc_end_time = time.time()-svc_start_time\n",
    "print(f'Build LinearSVC model time: {svc_end_time:.2f} secs')"
   ]
  },
  {
   "cell_type": "markdown",
   "metadata": {},
   "source": [
    "Статистика роботи моделі LinearSVC на тестувальних данних "
   ]
  },
  {
   "cell_type": "code",
   "execution_count": 160,
   "metadata": {},
   "outputs": [
    {
     "name": "stdout",
     "output_type": "stream",
     "text": [
      "Accuracy of SVC : 0.8786488530375599\n",
      "\n",
      " --------------------------------------------------\n",
      "Classification report:\n",
      "              precision    recall  f1-score   support\n",
      "\n",
      "           0       0.90      0.85      0.88      9918\n",
      "           1       0.86      0.90      0.88      9917\n",
      "\n",
      "    accuracy                           0.88     19835\n",
      "   macro avg       0.88      0.88      0.88     19835\n",
      "weighted avg       0.88      0.88      0.88     19835\n",
      "\n",
      "\n",
      " --------------------------------------------------\n"
     ]
    },
    {
     "data": {
      "image/png": "[encoded data removed]",
      "text/plain": [
       "<Figure size 300x300 with 1 Axes>"
      ]
     },
     "metadata": {},
     "output_type": "display_data"
    }
   ],
   "source": [
    "accuracy_svc = accuracy_score(y_test, y_pred_svc)\n",
    "print(f\"Accuracy of SVC : {accuracy_svc}\")\n",
    "print('\\n','-'*50)\n",
    "print('Classification report:')\n",
    "print(classification_report(y_test, y_pred_svc))\n",
    "print('\\n','-'*50)\n",
    "cm = confusion_matrix(y_test, y_pred_svc)\n",
    "\n",
    "plt.figure(figsize=(3, 3))\n",
    "sns.heatmap(cm, square=True, annot=True, fmt='d', cbar=False, cmap='coolwarm', vmin=900, vmax=6000)\n",
    "plt.title('Confusion matrix')\n",
    "plt.ylabel('Real')\n",
    "plt.xlabel('Predicted');"
   ]
  },
  {
   "cell_type": "markdown",
   "metadata": {},
   "source": [
    "Точність 88% не дуже гарний результат, але швидкість 6 секунд для всього процесу аналізу. Збережемо модель."
   ]
  },
  {
   "cell_type": "code",
   "execution_count": 209,
   "metadata": {},
   "outputs": [
    {
     "data": {
      "text/plain": [
       "['../models/SVC_model_Serhii.pkl']"
      ]
     },
     "execution_count": 209,
     "metadata": {},
     "output_type": "execute_result"
    }
   ],
   "source": [
    "joblib.dump(svc_model,'../models/SVC_model_Serhii.pkl')"
   ]
  },
  {
   "cell_type": "markdown",
   "metadata": {},
   "source": [
    "----"
   ]
  },
  {
   "cell_type": "markdown",
   "metadata": {},
   "source": [
    "### RandomForest"
   ]
  },
  {
   "cell_type": "code",
   "execution_count": 174,
   "metadata": {},
   "outputs": [
    {
     "name": "stdout",
     "output_type": "stream",
     "text": [
      "Fitting 2 folds for each of 6 candidates, totalling 12 fits\n",
      "[CV 1/2] END max_features=sqrt, n_estimators=50;, score=(train=1.000, test=0.943) total time=   3.4s\n",
      "[CV 2/2] END max_features=sqrt, n_estimators=50;, score=(train=1.000, test=0.942) total time=   2.9s\n",
      "[CV 1/2] END max_features=sqrt, n_estimators=100;, score=(train=1.000, test=0.944) total time=   6.1s\n",
      "[CV 2/2] END max_features=sqrt, n_estimators=100;, score=(train=1.000, test=0.942) total time=   5.8s\n",
      "[CV 1/2] END max_features=sqrt, n_estimators=200;, score=(train=1.000, test=0.944) total time=  12.0s\n",
      "[CV 2/2] END max_features=sqrt, n_estimators=200;, score=(train=1.000, test=0.942) total time=  12.9s\n",
      "[CV 1/2] END max_features=log2, n_estimators=50;, score=(train=1.000, test=0.943) total time=   3.6s\n",
      "[CV 2/2] END max_features=log2, n_estimators=50;, score=(train=1.000, test=0.942) total time=   3.7s\n",
      "[CV 1/2] END max_features=log2, n_estimators=100;, score=(train=1.000, test=0.944) total time=   6.5s\n",
      "[CV 2/2] END max_features=log2, n_estimators=100;, score=(train=1.000, test=0.942) total time=   5.9s\n",
      "[CV 1/2] END max_features=log2, n_estimators=200;, score=(train=1.000, test=0.944) total time=  14.0s\n",
      "[CV 2/2] END max_features=log2, n_estimators=200;, score=(train=1.000, test=0.942) total time=  12.6s\n",
      "RandomForest best parameters: {'max_features': 'sqrt', 'n_estimators': 200}\n",
      "Build RandomForest model time: 121.56 secs\n"
     ]
    }
   ],
   "source": [
    "RF = RandomForestClassifier(random_state=42)\n",
    "\n",
    "rf_start_time = time.time()\n",
    "param_grid = {'n_estimators': [50, 100, 200], 'max_features':['sqrt', 'log2']}\n",
    "RandomForest = GridSearchCV(estimator=RF, param_grid=param_grid, scoring='f1', cv=2, return_train_score=True, n_jobs=1, verbose=3)\n",
    "\n",
    "RandomForest.fit(X_train, y_train)\n",
    "print(f'RandomForest best parameters: {RandomForest.best_params_}')\n",
    "\n",
    "rf_model = RandomForest.best_estimator_\n",
    "y_pred_rf = rf_model.predict(X_test)\n",
    "\n",
    "rf_end_time = time.time()-rf_start_time\n",
    "print(f'Build RandomForest model time: {rf_end_time:.2f} secs')"
   ]
  },
  {
   "cell_type": "markdown",
   "metadata": {},
   "source": [
    "Статистика роботи моделі на тестувальних данних"
   ]
  },
  {
   "cell_type": "code",
   "execution_count": 175,
   "metadata": {},
   "outputs": [
    {
     "name": "stdout",
     "output_type": "stream",
     "text": [
      "Accuracy of RF : 0.9453491303251828\n",
      "\n",
      " --------------------------------------------------\n",
      "Classification report:\n",
      "              precision    recall  f1-score   support\n",
      "\n",
      "           0       0.93      0.96      0.95      9918\n",
      "           1       0.96      0.93      0.94      9917\n",
      "\n",
      "    accuracy                           0.95     19835\n",
      "   macro avg       0.95      0.95      0.95     19835\n",
      "weighted avg       0.95      0.95      0.95     19835\n",
      "\n",
      "\n",
      " --------------------------------------------------\n"
     ]
    },
    {
     "data": {
      "image/png": "[encoded data removed]",
      "text/plain": [
       "<Figure size 300x300 with 1 Axes>"
      ]
     },
     "metadata": {},
     "output_type": "display_data"
    }
   ],
   "source": [
    "accuracy_rf = accuracy_score(y_test, y_pred_rf)\n",
    "print(f\"Accuracy of RF : {accuracy_rf}\")\n",
    "print('\\n','-'*50)\n",
    "print('Classification report:')\n",
    "print(classification_report(y_test, y_pred_rf))\n",
    "print('\\n','-'*50)\n",
    "cm = confusion_matrix(y_test, y_pred_rf)\n",
    "\n",
    "plt.figure(figsize=(3, 3))\n",
    "sns.heatmap(cm, square=True, annot=True, fmt='d', cbar=False, cmap='coolwarm', vmin=600, vmax=1000)\n",
    "plt.title('Confusion matrix')\n",
    "plt.ylabel('Real')\n",
    "plt.xlabel('Predicted');\n"
   ]
  },
  {
   "cell_type": "markdown",
   "metadata": {},
   "source": [
    "Отримаємо чудовий результат майже 95% точності на тестувальній вибірці. Збережемо модель."
   ]
  },
  {
   "cell_type": "code",
   "execution_count": 176,
   "metadata": {},
   "outputs": [
    {
     "data": {
      "text/plain": [
       "['../models/RF_model_Serhii.pkl']"
      ]
     },
     "execution_count": 176,
     "metadata": {},
     "output_type": "execute_result"
    }
   ],
   "source": [
    "joblib.dump(rf_model,'../models/RF_model_Serhii.pkl', compress=3)"
   ]
  },
  {
   "cell_type": "markdown",
   "metadata": {},
   "source": [
    "Важливість ознак в датасеті для отриманої моделі"
   ]
  },
  {
   "cell_type": "code",
   "execution_count": 178,
   "metadata": {},
   "outputs": [
    {
     "data": {
      "image/png": "[encoded data removed]",
      "text/plain": [
       "<Figure size 1000x400 with 1 Axes>"
      ]
     },
     "metadata": {},
     "output_type": "display_data"
    }
   ],
   "source": [
    "plt.figure(figsize=(10,4))\n",
    "plt.bar(range(len(rf_model.feature_importances_)), rf_model.feature_importances_)\n",
    "plt.xticks(range(len(df.columns[1:-1])), df.columns[1:-1], rotation=50);"
   ]
  },
  {
   "cell_type": "markdown",
   "metadata": {},
   "source": [
    "----"
   ]
  },
  {
   "cell_type": "markdown",
   "metadata": {},
   "source": [
    "### Basic Neural Network"
   ]
  },
  {
   "cell_type": "markdown",
   "metadata": {},
   "source": [
    "Побудуємо просту нейронну мережу.  \n",
    "Розмірність данних змінемо за допомогою MinMaxScaler"
   ]
  },
  {
   "cell_type": "code",
   "execution_count": 179,
   "metadata": {},
   "outputs": [],
   "source": [
    "min_max_scaler = MinMaxScaler()\n",
    "X_scaled = min_max_scaler.fit_transform(X)\n",
    "\n",
    "X_train, X_test, y_train, y_test = train_test_split(X_scaled, y, test_size=0.25, random_state=42, stratify=y)"
   ]
  },
  {
   "cell_type": "code",
   "execution_count": 180,
   "metadata": {},
   "outputs": [
    {
     "name": "stderr",
     "output_type": "stream",
     "text": [
      "c:\\Users\\serge\\AppData\\Local\\Programs\\Python\\Python312\\Lib\\site-packages\\keras\\src\\layers\\core\\dense.py:87: UserWarning: Do not pass an `input_shape`/`input_dim` argument to a layer. When using Sequential models, prefer using an `Input(shape)` object as the first layer in the model instead.\n",
      "  super().__init__(activity_regularizer=activity_regularizer, **kwargs)\n"
     ]
    },
    {
     "data": {
      "text/html": [
       "<pre style=\"white-space:pre;overflow-x:auto;line-height:normal;font-family:Menlo,'DejaVu Sans Mono',consolas,'Courier New',monospace\"><span style=\"font-weight: bold\">Model: \"sequential_4\"</span>\n",
       "</pre>\n"
      ],
      "text/plain": [
       "\u001b[1mModel: \"sequential_4\"\u001b[0m\n"
      ]
     },
     "metadata": {},
     "output_type": "display_data"
    },
    {
     "data": {
      "text/html": [
       "<pre style=\"white-space:pre;overflow-x:auto;line-height:normal;font-family:Menlo,'DejaVu Sans Mono',consolas,'Courier New',monospace\">┏━━━━━━━━━━━━━━━━━━━━━━━━━━━━━━━━━┳━━━━━━━━━━━━━━━━━━━━━━━━┳━━━━━━━━━━━━━━━┓\n",
       "┃<span style=\"font-weight: bold\"> Layer (type)                    </span>┃<span style=\"font-weight: bold\"> Output Shape           </span>┃<span style=\"font-weight: bold\">       Param # </span>┃\n",
       "┡━━━━━━━━━━━━━━━━━━━━━━━━━━━━━━━━━╇━━━━━━━━━━━━━━━━━━━━━━━━╇━━━━━━━━━━━━━━━┩\n",
       "│ dense_12 (<span style=\"color: #0087ff; text-decoration-color: #0087ff\">Dense</span>)                │ (<span style=\"color: #00d7ff; text-decoration-color: #00d7ff\">None</span>, <span style=\"color: #00af00; text-decoration-color: #00af00\">128</span>)            │         <span style=\"color: #00af00; text-decoration-color: #00af00\">1,408</span> │\n",
       "├─────────────────────────────────┼────────────────────────┼───────────────┤\n",
       "│ dropout_8 (<span style=\"color: #0087ff; text-decoration-color: #0087ff\">Dropout</span>)             │ (<span style=\"color: #00d7ff; text-decoration-color: #00d7ff\">None</span>, <span style=\"color: #00af00; text-decoration-color: #00af00\">128</span>)            │             <span style=\"color: #00af00; text-decoration-color: #00af00\">0</span> │\n",
       "├─────────────────────────────────┼────────────────────────┼───────────────┤\n",
       "│ dense_13 (<span style=\"color: #0087ff; text-decoration-color: #0087ff\">Dense</span>)                │ (<span style=\"color: #00d7ff; text-decoration-color: #00d7ff\">None</span>, <span style=\"color: #00af00; text-decoration-color: #00af00\">64</span>)             │         <span style=\"color: #00af00; text-decoration-color: #00af00\">8,256</span> │\n",
       "├─────────────────────────────────┼────────────────────────┼───────────────┤\n",
       "│ dropout_9 (<span style=\"color: #0087ff; text-decoration-color: #0087ff\">Dropout</span>)             │ (<span style=\"color: #00d7ff; text-decoration-color: #00d7ff\">None</span>, <span style=\"color: #00af00; text-decoration-color: #00af00\">64</span>)             │             <span style=\"color: #00af00; text-decoration-color: #00af00\">0</span> │\n",
       "├─────────────────────────────────┼────────────────────────┼───────────────┤\n",
       "│ dense_14 (<span style=\"color: #0087ff; text-decoration-color: #0087ff\">Dense</span>)                │ (<span style=\"color: #00d7ff; text-decoration-color: #00d7ff\">None</span>, <span style=\"color: #00af00; text-decoration-color: #00af00\">1</span>)              │            <span style=\"color: #00af00; text-decoration-color: #00af00\">65</span> │\n",
       "└─────────────────────────────────┴────────────────────────┴───────────────┘\n",
       "</pre>\n"
      ],
      "text/plain": [
       "┏━━━━━━━━━━━━━━━━━━━━━━━━━━━━━━━━━┳━━━━━━━━━━━━━━━━━━━━━━━━┳━━━━━━━━━━━━━━━┓\n",
       "┃\u001b[1m \u001b[0m\u001b[1mLayer (type)                   \u001b[0m\u001b[1m \u001b[0m┃\u001b[1m \u001b[0m\u001b[1mOutput Shape          \u001b[0m\u001b[1m \u001b[0m┃\u001b[1m \u001b[0m\u001b[1m      Param #\u001b[0m\u001b[1m \u001b[0m┃\n",
       "┡━━━━━━━━━━━━━━━━━━━━━━━━━━━━━━━━━╇━━━━━━━━━━━━━━━━━━━━━━━━╇━━━━━━━━━━━━━━━┩\n",
       "│ dense_12 (\u001b[38;5;33mDense\u001b[0m)                │ (\u001b[38;5;45mNone\u001b[0m, \u001b[38;5;34m128\u001b[0m)            │         \u001b[38;5;34m1,408\u001b[0m │\n",
       "├─────────────────────────────────┼────────────────────────┼───────────────┤\n",
       "│ dropout_8 (\u001b[38;5;33mDropout\u001b[0m)             │ (\u001b[38;5;45mNone\u001b[0m, \u001b[38;5;34m128\u001b[0m)            │             \u001b[38;5;34m0\u001b[0m │\n",
       "├─────────────────────────────────┼────────────────────────┼───────────────┤\n",
       "│ dense_13 (\u001b[38;5;33mDense\u001b[0m)                │ (\u001b[38;5;45mNone\u001b[0m, \u001b[38;5;34m64\u001b[0m)             │         \u001b[38;5;34m8,256\u001b[0m │\n",
       "├─────────────────────────────────┼────────────────────────┼───────────────┤\n",
       "│ dropout_9 (\u001b[38;5;33mDropout\u001b[0m)             │ (\u001b[38;5;45mNone\u001b[0m, \u001b[38;5;34m64\u001b[0m)             │             \u001b[38;5;34m0\u001b[0m │\n",
       "├─────────────────────────────────┼────────────────────────┼───────────────┤\n",
       "│ dense_14 (\u001b[38;5;33mDense\u001b[0m)                │ (\u001b[38;5;45mNone\u001b[0m, \u001b[38;5;34m1\u001b[0m)              │            \u001b[38;5;34m65\u001b[0m │\n",
       "└─────────────────────────────────┴────────────────────────┴───────────────┘\n"
      ]
     },
     "metadata": {},
     "output_type": "display_data"
    },
    {
     "data": {
      "text/html": [
       "<pre style=\"white-space:pre;overflow-x:auto;line-height:normal;font-family:Menlo,'DejaVu Sans Mono',consolas,'Courier New',monospace\"><span style=\"font-weight: bold\"> Total params: </span><span style=\"color: #00af00; text-decoration-color: #00af00\">9,729</span> (38.00 KB)\n",
       "</pre>\n"
      ],
      "text/plain": [
       "\u001b[1m Total params: \u001b[0m\u001b[38;5;34m9,729\u001b[0m (38.00 KB)\n"
      ]
     },
     "metadata": {},
     "output_type": "display_data"
    },
    {
     "data": {
      "text/html": [
       "<pre style=\"white-space:pre;overflow-x:auto;line-height:normal;font-family:Menlo,'DejaVu Sans Mono',consolas,'Courier New',monospace\"><span style=\"font-weight: bold\"> Trainable params: </span><span style=\"color: #00af00; text-decoration-color: #00af00\">9,729</span> (38.00 KB)\n",
       "</pre>\n"
      ],
      "text/plain": [
       "\u001b[1m Trainable params: \u001b[0m\u001b[38;5;34m9,729\u001b[0m (38.00 KB)\n"
      ]
     },
     "metadata": {},
     "output_type": "display_data"
    },
    {
     "data": {
      "text/html": [
       "<pre style=\"white-space:pre;overflow-x:auto;line-height:normal;font-family:Menlo,'DejaVu Sans Mono',consolas,'Courier New',monospace\"><span style=\"font-weight: bold\"> Non-trainable params: </span><span style=\"color: #00af00; text-decoration-color: #00af00\">0</span> (0.00 B)\n",
       "</pre>\n"
      ],
      "text/plain": [
       "\u001b[1m Non-trainable params: \u001b[0m\u001b[38;5;34m0\u001b[0m (0.00 B)\n"
      ]
     },
     "metadata": {},
     "output_type": "display_data"
    },
    {
     "name": "stdout",
     "output_type": "stream",
     "text": [
      "Epoch 1/20\n",
      "\u001b[1m753/753\u001b[0m \u001b[32m━━━━━━━━━━━━━━━━━━━━\u001b[0m\u001b[37m\u001b[0m \u001b[1m4s\u001b[0m 3ms/step - accuracy: 0.8435 - loss: 0.3984 - val_accuracy: 0.8943 - val_loss: 0.2913\n",
      "Epoch 2/20\n",
      "\u001b[1m753/753\u001b[0m \u001b[32m━━━━━━━━━━━━━━━━━━━━\u001b[0m\u001b[37m\u001b[0m \u001b[1m2s\u001b[0m 2ms/step - accuracy: 0.9065 - loss: 0.2748 - val_accuracy: 0.9089 - val_loss: 0.2654\n",
      "Epoch 3/20\n",
      "\u001b[1m753/753\u001b[0m \u001b[32m━━━━━━━━━━━━━━━━━━━━\u001b[0m\u001b[37m\u001b[0m \u001b[1m2s\u001b[0m 2ms/step - accuracy: 0.9131 - loss: 0.2590 - val_accuracy: 0.9158 - val_loss: 0.2502\n",
      "Epoch 4/20\n",
      "\u001b[1m753/753\u001b[0m \u001b[32m━━━━━━━━━━━━━━━━━━━━\u001b[0m\u001b[37m\u001b[0m \u001b[1m2s\u001b[0m 3ms/step - accuracy: 0.9196 - loss: 0.2454 - val_accuracy: 0.9163 - val_loss: 0.2451\n",
      "Epoch 5/20\n",
      "\u001b[1m753/753\u001b[0m \u001b[32m━━━━━━━━━━━━━━━━━━━━\u001b[0m\u001b[37m\u001b[0m \u001b[1m2s\u001b[0m 2ms/step - accuracy: 0.9218 - loss: 0.2371 - val_accuracy: 0.9190 - val_loss: 0.2373\n",
      "Epoch 6/20\n",
      "\u001b[1m753/753\u001b[0m \u001b[32m━━━━━━━━━━━━━━━━━━━━\u001b[0m\u001b[37m\u001b[0m \u001b[1m2s\u001b[0m 3ms/step - accuracy: 0.9251 - loss: 0.2308 - val_accuracy: 0.9199 - val_loss: 0.2363\n",
      "Epoch 7/20\n",
      "\u001b[1m753/753\u001b[0m \u001b[32m━━━━━━━━━━━━━━━━━━━━\u001b[0m\u001b[37m\u001b[0m \u001b[1m3s\u001b[0m 3ms/step - accuracy: 0.9260 - loss: 0.2285 - val_accuracy: 0.9219 - val_loss: 0.2280\n",
      "Epoch 8/20\n",
      "\u001b[1m753/753\u001b[0m \u001b[32m━━━━━━━━━━━━━━━━━━━━\u001b[0m\u001b[37m\u001b[0m \u001b[1m2s\u001b[0m 3ms/step - accuracy: 0.9252 - loss: 0.2269 - val_accuracy: 0.9221 - val_loss: 0.2249\n",
      "Epoch 9/20\n",
      "\u001b[1m753/753\u001b[0m \u001b[32m━━━━━━━━━━━━━━━━━━━━\u001b[0m\u001b[37m\u001b[0m \u001b[1m2s\u001b[0m 3ms/step - accuracy: 0.9272 - loss: 0.2213 - val_accuracy: 0.9232 - val_loss: 0.2302\n",
      "Epoch 10/20\n",
      "\u001b[1m753/753\u001b[0m \u001b[32m━━━━━━━━━━━━━━━━━━━━\u001b[0m\u001b[37m\u001b[0m \u001b[1m2s\u001b[0m 3ms/step - accuracy: 0.9284 - loss: 0.2202 - val_accuracy: 0.9223 - val_loss: 0.2251\n",
      "Epoch 11/20\n",
      "\u001b[1m753/753\u001b[0m \u001b[32m━━━━━━━━━━━━━━━━━━━━\u001b[0m\u001b[37m\u001b[0m \u001b[1m2s\u001b[0m 3ms/step - accuracy: 0.9271 - loss: 0.2216 - val_accuracy: 0.9247 - val_loss: 0.2241\n",
      "Epoch 12/20\n",
      "\u001b[1m753/753\u001b[0m \u001b[32m━━━━━━━━━━━━━━━━━━━━\u001b[0m\u001b[37m\u001b[0m \u001b[1m2s\u001b[0m 3ms/step - accuracy: 0.9260 - loss: 0.2251 - val_accuracy: 0.9257 - val_loss: 0.2180\n",
      "Epoch 13/20\n",
      "\u001b[1m753/753\u001b[0m \u001b[32m━━━━━━━━━━━━━━━━━━━━\u001b[0m\u001b[37m\u001b[0m \u001b[1m2s\u001b[0m 3ms/step - accuracy: 0.9308 - loss: 0.2150 - val_accuracy: 0.9266 - val_loss: 0.2176\n",
      "Epoch 14/20\n",
      "\u001b[1m753/753\u001b[0m \u001b[32m━━━━━━━━━━━━━━━━━━━━\u001b[0m\u001b[37m\u001b[0m \u001b[1m2s\u001b[0m 3ms/step - accuracy: 0.9293 - loss: 0.2181 - val_accuracy: 0.9257 - val_loss: 0.2211\n",
      "Epoch 15/20\n",
      "\u001b[1m753/753\u001b[0m \u001b[32m━━━━━━━━━━━━━━━━━━━━\u001b[0m\u001b[37m\u001b[0m \u001b[1m2s\u001b[0m 3ms/step - accuracy: 0.9299 - loss: 0.2134 - val_accuracy: 0.9264 - val_loss: 0.2182\n",
      "Epoch 16/20\n",
      "\u001b[1m753/753\u001b[0m \u001b[32m━━━━━━━━━━━━━━━━━━━━\u001b[0m\u001b[37m\u001b[0m \u001b[1m2s\u001b[0m 3ms/step - accuracy: 0.9321 - loss: 0.2086 - val_accuracy: 0.9257 - val_loss: 0.2186\n",
      "\u001b[1m558/558\u001b[0m \u001b[32m━━━━━━━━━━━━━━━━━━━━\u001b[0m\u001b[37m\u001b[0m \u001b[1m1s\u001b[0m 2ms/step\n",
      "Build NN model time: 38.27 secs\n"
     ]
    }
   ],
   "source": [
    "model_NN = Sequential()\n",
    "model_NN.add(Dense(128, input_dim=10, activation='relu'))\n",
    "model_NN.add(Dropout(0.2))\n",
    "model_NN.add(Dense(64, activation='relu'))\n",
    "model_NN.add(Dropout(0.2))\n",
    "model_NN.add(Dense(1, activation='sigmoid'))\n",
    "\n",
    "model_NN.compile(loss='binary_crossentropy', optimizer='adam', metrics=['accuracy'])\n",
    "model_NN.summary()\n",
    "\n",
    "nn_start_time = time.time()\n",
    "early_stopping = EarlyStopping(monitor='val_loss', patience=3)\n",
    "history = model_NN.fit(X_train, y_train, epochs=20, batch_size=64, validation_split=0.1, callbacks=[early_stopping])\n",
    "\n",
    "score = model_NN.evaluate(X_test, y_test, verbose=0)\n",
    "\n",
    "pred = model_NN.predict(X_test)\n",
    "\n",
    "nn_end_time = time.time()-nn_start_time\n",
    "print(f'Build NN model time: {nn_end_time:.2f} secs')"
   ]
  },
  {
   "cell_type": "code",
   "execution_count": 181,
   "metadata": {},
   "outputs": [
    {
     "data": {
      "image/png": "[encoded data removed]",
      "text/plain": [
       "<Figure size 1400x500 with 2 Axes>"
      ]
     },
     "metadata": {},
     "output_type": "display_data"
    }
   ],
   "source": [
    "plt.figure(figsize=(14, 5))\n",
    "plt.subplot(1, 2, 1)\n",
    "plt.plot(history.history['accuracy'], label='accuracy')\n",
    "plt.plot(history.history['val_accuracy'], label='val_accuracy')\n",
    "plt.xlabel('Epoch')\n",
    "plt.ylabel('Accuracy')\n",
    "plt.legend()\n",
    "\n",
    "plt.subplot(1, 2, 2)\n",
    "plt.plot(history.history['loss'], label='loss')\n",
    "plt.plot(history.history['val_loss'], label='val_loss')\n",
    "plt.xlabel('Epoch')\n",
    "plt.ylabel('Loss')\n",
    "plt.legend()\n",
    "\n",
    "plt.tight_layout()\n",
    "plt.show()"
   ]
  },
  {
   "cell_type": "markdown",
   "metadata": {},
   "source": [
    "Статистика роботи моделі на тестувальних данних"
   ]
  },
  {
   "cell_type": "code",
   "execution_count": 182,
   "metadata": {},
   "outputs": [
    {
     "name": "stdout",
     "output_type": "stream",
     "text": [
      "--------------------------------------------------\n",
      "Test loss: 0.21083727478981018\n",
      "Test accuracy: 0.9289596080780029\n",
      "--------------------------------------------------\n",
      "Classification report:\n",
      "              precision    recall  f1-score   support\n",
      "\n",
      "           0       0.91      0.94      0.92      7931\n",
      "           1       0.95      0.92      0.94      9918\n",
      "\n",
      "    accuracy                           0.93     17849\n",
      "   macro avg       0.93      0.93      0.93     17849\n",
      "weighted avg       0.93      0.93      0.93     17849\n",
      "\n"
     ]
    },
    {
     "data": {
      "image/png": "[encoded data removed]",
      "text/plain": [
       "<Figure size 300x300 with 1 Axes>"
      ]
     },
     "metadata": {},
     "output_type": "display_data"
    }
   ],
   "source": [
    "binary_predictions = [1 if p > 0.5 else 0 for p in pred]\n",
    "\n",
    "print('-'*50)\n",
    "print('Test loss:', score[0])\n",
    "print('Test accuracy:', score[1])\n",
    "print('-'*50)\n",
    "print('Classification report:')\n",
    "print(classification_report(y_test, binary_predictions))\n",
    "\n",
    "cm = confusion_matrix(y_test, binary_predictions)\n",
    "\n",
    "plt.figure(figsize=(3, 3))\n",
    "sns.heatmap(cm, square=True, annot=True, fmt='d', cbar=False, cmap='coolwarm', vmin=600, vmax=1000)\n",
    "plt.title('Confusion matrix')\n",
    "plt.ylabel('Real')\n",
    "plt.xlabel('Predicted');"
   ]
  },
  {
   "cell_type": "markdown",
   "metadata": {},
   "source": [
    "Збережемо модель та скейлер"
   ]
  },
  {
   "cell_type": "code",
   "execution_count": 183,
   "metadata": {},
   "outputs": [
    {
     "data": {
      "text/plain": [
       "['../models/NN_scaler_Serhii.pkl']"
      ]
     },
     "execution_count": 183,
     "metadata": {},
     "output_type": "execute_result"
    }
   ],
   "source": [
    "joblib.dump(model_NN,'../models/NN_model_Serhii.pkl')\n",
    "joblib.dump(min_max_scaler,'../models/NN_scaler_Serhii.pkl')"
   ]
  },
  {
   "cell_type": "markdown",
   "metadata": {},
   "source": [
    "### Порівняємо роботу різних моделей"
   ]
  },
  {
   "cell_type": "code",
   "execution_count": 219,
   "metadata": {},
   "outputs": [
    {
     "data": {
      "image/png": "[encoded data removed]",
      "text/plain": [
       "<Figure size 640x480 with 2 Axes>"
      ]
     },
     "metadata": {},
     "output_type": "display_data"
    }
   ],
   "source": [
    "data = {'model':['LogisticRegression','LinearSVC', 'RandomForest', 'NN'],\n",
    "        'analyze_time':[lr_end_time, svc_end_time, rf_end_time, nn_end_time],\n",
    "        'accuracy':[accuracy_lr*100, accuracy_svc*100, accuracy_rf*100 ,score[1]*100]}\n",
    "\n",
    "df_results = pd.DataFrame(data)\n",
    "\n",
    "fig, ax= plt.subplots()\n",
    "ax2 = ax.twinx()\n",
    "width = 0.4\n",
    "\n",
    "x = np.array([i for i,_ in enumerate(df_results['model'])])\n",
    "\n",
    "ax.bar(x - width/2, df_results['accuracy'], color='b', alpha=0.7, width=width)\n",
    "ax2.bar(x + width/2, df_results['analyze_time'], color='r', alpha=0.7, width=width)\n",
    "\n",
    "plt.xticks(range(len(df_results['model'])), df_results['model'], rotation=0);\n",
    "ax.set_ylabel('Accuracy (%)', color='b')\n",
    "ax2.set_ylabel('Time for get params and training model (s)', color='r')\n",
    "\n",
    "for i, v in enumerate(df_results['accuracy'].round(2)):\n",
    "    ax.text(i-0.2, v, str(v)+'%', ha='center', va='bottom')\n",
    "\n",
    "for i, v in enumerate(df_results['analyze_time'].round()):\n",
    "    ax2.text(i+0.2, v, str(v)+' s', ha='center', va='bottom')\n",
    "\n",
    "plt.grid()\n",
    "plt.show()"
   ]
  },
  {
   "cell_type": "markdown",
   "metadata": {},
   "source": [
    "Зробимо фінальне тестування"
   ]
  },
  {
   "cell_type": "code",
   "execution_count": 189,
   "metadata": {},
   "outputs": [
    {
     "name": "stdout",
     "output_type": "stream",
     "text": [
      "\u001b[1m16/16\u001b[0m \u001b[32m━━━━━━━━━━━━━━━━━━━━\u001b[0m\u001b[37m\u001b[0m \u001b[1m0s\u001b[0m 3ms/step \n"
     ]
    },
    {
     "data": {
      "image/png": "[encoded data removed]",
      "text/plain": [
       "<Figure size 1500x300 with 4 Axes>"
      ]
     },
     "metadata": {},
     "output_type": "display_data"
    }
   ],
   "source": [
    "data = df_final_test.drop(columns=['churn'])\n",
    "features = data.drop(columns=['id'])\n",
    "target = df_final_test['churn']\n",
    "ids = data['id']\n",
    "y_pred_lr = lr_model.predict(scaler.transform(features))\n",
    "y_pred_svc = svc_model.predict(scaler.transform(features))\n",
    "y_pred_rf = rf_model.predict(scaler.transform(features))\n",
    "y_pred_nn =[1 if p > 0.5 else 0 for p in model_NN.predict(min_max_scaler.transform(features))]\n",
    "\n",
    "pred = {'LR':y_pred_lr, 'SVC':y_pred_svc, 'RF':y_pred_rf, 'NN':y_pred_nn}\n",
    "\n",
    "plt.figure(figsize=(15, 3))\n",
    "for i, (m, p) in enumerate(pred.items()):\n",
    "    cm = confusion_matrix(target, p)\n",
    "    plt.subplot(1, 4, i+1)\n",
    "    sns.heatmap(cm, square=True, annot=True, fmt='d', cbar=False, cmap='coolwarm', vmin=0, vmax=100)\n",
    "    plt.title(f'Confusion matrix for {m} model')\n",
    "    plt.ylabel('Real')\n",
    "    plt.xlabel('Predicted');"
   ]
  },
  {
   "cell_type": "markdown",
   "metadata": {},
   "source": [
    "Отримаємо ID клієнтов які скоіш за все припинять користуватись послугами"
   ]
  },
  {
   "cell_type": "code",
   "execution_count": 281,
   "metadata": {},
   "outputs": [],
   "source": [
    "def get_potential_lose_customer(data, model):\n",
    "    features = data.drop(columns=['id'])\n",
    "    ids = data['id']\n",
    "    pred = model.predict(features)\n",
    "    if len(np.unique(pred)) > 2:\n",
    "        pred = [1 if p > 0.5 else 0 for p in pred]\n",
    "    customers = [ids[i] for i in range(len(ids)) if pred[i] == 1]\n",
    "    return customers"
   ]
  },
  {
   "cell_type": "code",
   "execution_count": 285,
   "metadata": {},
   "outputs": [
    {
     "name": "stdout",
     "output_type": "stream",
     "text": [
      "\u001b[1m16/16\u001b[0m \u001b[32m━━━━━━━━━━━━━━━━━━━━\u001b[0m\u001b[37m\u001b[0m \u001b[1m0s\u001b[0m 541us/step\n",
      "Client ID: 18\n",
      "Client ID: 23\n",
      "Client ID: 27\n",
      "Client ID: 34\n",
      "Client ID: 71\n",
      "Client ID: 84\n",
      "Client ID: 94\n",
      "Client ID: 112\n",
      "Client ID: 166\n",
      "Client ID: 213\n",
      "Client ID: 222\n",
      "Client ID: 270\n",
      "Client ID: 291\n",
      "Client ID: 417\n",
      "Client ID: 475\n",
      "Client ID: 530\n",
      "Client ID: 550\n",
      "Client ID: 608\n",
      "Client ID: 642\n",
      "Client ID: 644\n",
      "Client ID: 680\n",
      "Client ID: 682\n",
      "Client ID: 683\n",
      "Client ID: 730\n",
      "Client ID: 734\n",
      "Client ID: 831\n",
      "Client ID: 848\n",
      "Client ID: 905\n",
      "Client ID: 921\n",
      "Client ID: 928\n",
      "Client ID: 933\n",
      "Client ID: 945\n",
      "Client ID: 999\n",
      "Client ID: 1006\n",
      "Client ID: 1038\n",
      "Client ID: 1048\n",
      "Client ID: 1051\n",
      "Client ID: 1061\n",
      "Client ID: 1201\n",
      "Client ID: 1206\n",
      "Client ID: 1226\n",
      "Client ID: 1281\n",
      "Client ID: 1296\n",
      "Client ID: 1311\n",
      "Client ID: 1327\n",
      "Client ID: 1414\n",
      "Client ID: 1416\n",
      "Client ID: 1455\n",
      "Client ID: 1457\n",
      "Client ID: 1568\n",
      "Client ID: 1664\n",
      "Client ID: 1684\n",
      "Client ID: 1693\n",
      "Client ID: 1694\n",
      "Client ID: 1709\n",
      "Client ID: 1717\n",
      "Client ID: 1733\n",
      "Client ID: 1744\n",
      "Client ID: 1746\n",
      "Client ID: 1778\n",
      "Client ID: 1844\n",
      "Client ID: 1893\n",
      "Client ID: 1901\n",
      "Client ID: 1915\n",
      "Client ID: 1934\n",
      "Client ID: 1947\n",
      "Client ID: 1965\n",
      "Client ID: 1966\n",
      "Client ID: 1977\n",
      "Client ID: 2005\n",
      "Client ID: 2017\n",
      "Client ID: 2047\n",
      "Client ID: 2097\n",
      "Client ID: 2110\n",
      "Client ID: 2116\n",
      "Client ID: 2122\n",
      "Client ID: 2135\n",
      "Client ID: 2142\n",
      "Client ID: 2202\n",
      "Client ID: 2203\n",
      "Client ID: 2238\n",
      "Client ID: 2252\n",
      "Client ID: 2290\n",
      "Client ID: 2334\n",
      "Client ID: 2371\n",
      "Client ID: 2416\n",
      "Client ID: 2499\n",
      "Client ID: 2538\n",
      "Client ID: 2581\n",
      "Client ID: 2587\n",
      "Client ID: 2684\n",
      "Client ID: 2705\n",
      "Client ID: 2760\n",
      "Client ID: 2790\n",
      "Client ID: 2796\n",
      "Client ID: 2858\n",
      "Client ID: 2882\n",
      "Client ID: 2945\n",
      "Client ID: 2997\n",
      "Client ID: 3017\n",
      "Client ID: 3033\n",
      "Client ID: 3061\n",
      "Client ID: 3121\n",
      "Client ID: 3175\n",
      "Client ID: 3191\n",
      "Client ID: 3196\n",
      "Client ID: 3199\n",
      "Client ID: 3226\n",
      "Client ID: 3233\n",
      "Client ID: 3252\n",
      "Client ID: 3267\n",
      "Client ID: 3274\n",
      "Client ID: 3288\n",
      "Client ID: 3329\n",
      "Client ID: 3374\n",
      "Client ID: 3388\n",
      "Client ID: 3433\n",
      "Client ID: 3448\n",
      "Client ID: 3473\n",
      "Client ID: 3475\n",
      "Client ID: 3476\n",
      "Client ID: 3477\n",
      "Client ID: 3521\n",
      "Client ID: 3531\n",
      "Client ID: 3547\n",
      "Client ID: 3634\n",
      "Client ID: 3649\n",
      "Client ID: 3707\n",
      "Client ID: 3714\n",
      "Client ID: 3733\n",
      "Client ID: 3793\n",
      "Client ID: 3861\n",
      "Client ID: 3926\n",
      "Client ID: 3964\n",
      "Client ID: 4024\n",
      "Client ID: 4032\n",
      "Client ID: 4045\n",
      "Client ID: 4082\n",
      "Client ID: 4158\n",
      "Client ID: 4259\n",
      "Client ID: 4263\n",
      "Client ID: 4297\n",
      "Client ID: 4347\n",
      "Client ID: 4424\n",
      "Client ID: 4434\n",
      "Client ID: 4448\n",
      "Client ID: 4479\n",
      "Client ID: 4518\n",
      "Client ID: 4521\n",
      "Client ID: 4522\n",
      "Client ID: 4526\n",
      "Client ID: 4537\n",
      "Client ID: 4544\n",
      "Client ID: 4556\n",
      "Client ID: 4579\n",
      "Client ID: 4612\n",
      "Client ID: 4645\n",
      "Client ID: 4667\n",
      "Client ID: 4674\n",
      "Client ID: 4692\n",
      "Client ID: 4700\n",
      "Client ID: 4711\n",
      "Client ID: 4782\n",
      "Client ID: 4785\n",
      "Client ID: 4819\n",
      "Client ID: 4828\n",
      "Client ID: 4843\n",
      "Client ID: 4877\n",
      "Client ID: 4897\n",
      "Client ID: 4941\n",
      "Client ID: 4950\n",
      "Client ID: 4967\n",
      "Client ID: 4973\n",
      "Client ID: 4985\n",
      "Client ID: 5110\n",
      "Client ID: 5182\n",
      "Client ID: 5194\n",
      "Client ID: 5198\n",
      "Client ID: 5248\n",
      "Client ID: 5292\n",
      "Client ID: 5325\n",
      "Client ID: 5347\n",
      "Client ID: 5449\n",
      "Client ID: 5510\n",
      "Client ID: 5516\n",
      "Client ID: 5636\n",
      "Client ID: 5660\n",
      "Client ID: 5680\n",
      "Client ID: 5684\n",
      "Client ID: 5746\n",
      "Client ID: 5754\n",
      "Client ID: 5767\n",
      "Client ID: 5780\n",
      "Client ID: 5793\n",
      "Client ID: 5960\n",
      "Client ID: 5969\n",
      "Client ID: 6003\n",
      "Client ID: 6009\n",
      "Client ID: 6016\n",
      "Client ID: 6034\n",
      "Client ID: 6115\n",
      "Client ID: 6147\n",
      "Client ID: 6191\n",
      "Client ID: 6192\n",
      "Client ID: 6202\n",
      "Client ID: 6219\n",
      "Client ID: 6222\n",
      "Client ID: 6270\n",
      "Client ID: 6277\n",
      "Client ID: 6303\n",
      "Client ID: 6330\n",
      "Client ID: 6372\n",
      "Client ID: 6424\n",
      "Client ID: 6492\n",
      "Client ID: 6505\n",
      "Client ID: 6517\n",
      "Client ID: 6518\n",
      "Client ID: 6556\n",
      "Client ID: 6558\n",
      "Client ID: 6572\n",
      "Client ID: 6597\n",
      "Client ID: 6614\n",
      "Client ID: 6617\n",
      "Client ID: 6689\n",
      "Client ID: 6691\n",
      "Client ID: 6727\n",
      "Client ID: 6777\n",
      "Client ID: 6787\n",
      "Client ID: 6848\n",
      "Client ID: 6861\n",
      "Client ID: 6862\n",
      "Client ID: 6864\n",
      "Client ID: 6891\n",
      "Client ID: 6956\n",
      "Client ID: 6993\n",
      "Client ID: 7001\n",
      "Client ID: 7003\n",
      "Client ID: 7014\n",
      "Client ID: 7027\n",
      "Client ID: 7041\n",
      "Client ID: 7083\n",
      "Client ID: 7100\n",
      "Client ID: 7150\n",
      "Client ID: 7155\n",
      "Client ID: 7166\n",
      "Client ID: 7203\n",
      "Client ID: 7245\n",
      "Client ID: 7302\n",
      "Client ID: 7352\n",
      "Client ID: 7369\n",
      "Client ID: 7452\n",
      "Client ID: 7465\n",
      "Client ID: 7495\n",
      "Client ID: 7502\n",
      "Client ID: 7537\n",
      "Client ID: 7568\n",
      "Client ID: 7592\n",
      "Client ID: 7607\n",
      "Client ID: 7650\n",
      "Client ID: 7674\n",
      "Client ID: 7690\n",
      "Client ID: 7696\n",
      "Client ID: 7778\n",
      "Client ID: 7813\n",
      "Client ID: 7829\n",
      "Client ID: 7830\n",
      "Client ID: 7877\n",
      "Client ID: 7884\n",
      "Client ID: 7916\n",
      "Client ID: 7953\n",
      "Client ID: 7967\n",
      "Client ID: 7992\n",
      "Client ID: 8034\n",
      "Client ID: 8036\n",
      "Client ID: 8037\n",
      "Client ID: 8134\n",
      "Client ID: 8195\n",
      "Client ID: 8255\n",
      "Client ID: 8338\n",
      "Client ID: 8373\n",
      "Client ID: 8404\n",
      "Client ID: 8435\n",
      "Client ID: 8444\n",
      "Client ID: 8451\n",
      "Client ID: 8461\n",
      "Client ID: 8468\n",
      "Client ID: 8483\n",
      "Client ID: 8582\n",
      "Client ID: 8589\n",
      "Client ID: 8596\n",
      "Client ID: 8607\n",
      "Client ID: 8668\n",
      "Client ID: 8673\n",
      "Client ID: 8688\n",
      "Client ID: 8704\n",
      "Client ID: 8713\n",
      "Client ID: 8763\n",
      "Client ID: 8767\n",
      "Client ID: 8770\n",
      "Client ID: 8922\n",
      "Client ID: 8929\n",
      "Client ID: 8983\n",
      "Client ID: 8993\n",
      "Client ID: 9018\n",
      "Client ID: 9069\n",
      "Client ID: 9112\n",
      "Client ID: 9145\n",
      "Client ID: 9185\n",
      "Client ID: 9192\n",
      "Client ID: 9210\n",
      "Client ID: 9225\n",
      "Client ID: 9260\n",
      "Client ID: 9269\n",
      "Client ID: 9291\n",
      "Client ID: 9388\n",
      "Client ID: 9393\n",
      "Client ID: 9493\n",
      "Client ID: 9564\n",
      "Client ID: 9591\n",
      "Client ID: 9607\n",
      "Client ID: 9706\n",
      "Client ID: 9752\n",
      "Client ID: 9759\n",
      "Client ID: 9771\n",
      "Client ID: 9777\n",
      "Client ID: 9791\n",
      "Client ID: 9821\n",
      "Client ID: 9914\n",
      "Client ID: 9928\n",
      "Client ID: 9948\n",
      "Client ID: 9963\n",
      "Client ID: 9980\n",
      "Client ID: 9984\n",
      "Client ID: 10112\n",
      "Client ID: 10122\n",
      "Client ID: 10157\n",
      "Client ID: 10160\n",
      "Client ID: 10181\n",
      "Client ID: 10195\n",
      "Client ID: 10224\n",
      "Client ID: 10238\n",
      "Client ID: 10301\n",
      "Client ID: 10308\n",
      "Client ID: 10331\n",
      "Client ID: 10341\n",
      "Client ID: 10415\n",
      "Client ID: 10441\n",
      "Client ID: 10468\n",
      "Client ID: 10526\n",
      "Client ID: 10541\n",
      "Client ID: 10554\n",
      "Client ID: 10568\n",
      "Client ID: 10584\n",
      "Client ID: 10625\n",
      "Client ID: 10652\n",
      "Client ID: 10713\n",
      "Client ID: 10762\n",
      "Client ID: 10766\n",
      "Client ID: 10807\n",
      "Client ID: 10847\n",
      "Client ID: 10904\n",
      "Client ID: 11108\n",
      "Client ID: 11120\n",
      "Client ID: 11138\n",
      "Client ID: 11159\n",
      "Client ID: 11164\n",
      "Client ID: 11370\n",
      "Client ID: 11387\n",
      "Client ID: 11470\n",
      "Client ID: 11480\n",
      "Client ID: 11502\n",
      "Client ID: 11543\n",
      "Client ID: 11667\n"
     ]
    }
   ],
   "source": [
    "result = get_potential_lose_customer(df_final_test.drop(columns=['churn']), model_NN)\n",
    "for id in result:\n",
    "    print(f'Client ID: {id}')"
   ]
  }
 ],
 "metadata": {
  "kernelspec": {
   "display_name": "Python 3",
   "language": "python",
   "name": "python3"
  },
  "language_info": {
   "codemirror_mode": {
    "name": "ipython",
    "version": 3
   },
   "file_extension": ".py",
   "mimetype": "text/x-python",
   "name": "python",
   "nbconvert_exporter": "python",
   "pygments_lexer": "ipython3",
   "version": "3.12.0"
  }
 },
 "nbformat": 4,
 "nbformat_minor": 2
}
