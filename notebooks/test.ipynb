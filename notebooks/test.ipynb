{
 "cells": [
  {
   "cell_type": "code",
   "execution_count": null,
   "metadata": {},
   "outputs": [],
   "source": [
    "# read all data from csv\n",
    "df_final_test = pd.read_csv(data_folder / 'test_data_100_clients.csv')\n",
    "df = pd.read_csv(data_folder / 'train_test_data.csv')\n",
    "df.rename(columns = {'is_movie_package_subscriber':'is_vod_subscriber', 'reamining_contract':'remaining_contract'}, inplace = True)"
   ]
  },
  {
   "cell_type": "code",
   "execution_count": null,
   "metadata": {},
   "outputs": [],
   "source": [
    "# Check if rows of df1 are in df2\n",
    "print(df.shape)\n",
    "mask = df.isin(df_final_test.to_dict(orient='list')).all(axis=1)\n",
    "df = df[~mask]\n",
    "print(df.shape)"
   ]
  },
  {
   "cell_type": "code",
   "execution_count": null,
   "metadata": {},
   "outputs": [],
   "source": [
    "# rotate columns lables 90\"\n",
    "styles = [dict(selector=\"th\", props=[('width', '40px')]),\n",
    "            dict(selector=\"th.col_heading\",\n",
    "                props=[(\"writing-mode\", \"vertical-rl\"),\n",
    "                        ('transform', 'rotateZ(180deg)'),\n",
    "                        ('vertical-align', 'middle'),\n",
    "                        ('text-align', 'left')\n",
    "                        ])]\n",
    "df_corr_styled = df_corr.set_table_styles(styles)"
   ]
  }
 ],
 "metadata": {
  "kernelspec": {
   "display_name": "Python 3",
   "language": "python",
   "name": "python3"
  },
  "language_info": {
   "name": "python",
   "version": "3.12.0"
  }
 },
 "nbformat": 4,
 "nbformat_minor": 2
}
