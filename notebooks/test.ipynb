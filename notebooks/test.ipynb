{
 "cells": [
  {
   "cell_type": "code",
   "execution_count": null,
   "metadata": {},
   "outputs": [],
   "source": [
    "# Check if rows of df1 are in df2\n",
    "train_test_data = pd.read_csv(data_folder / 'train_test_data.csv')\n",
    "print(train_test_data.shape)\n",
    "mask = train_test_data.isin(df_final_test.to_dict(orient='list')).all(axis=1)\n",
    "\n",
    "train_test_data = train_test_data[~mask]\n",
    "print(train_test_data.shape)\n",
    "train_test_data.to_csv(data_folder / 'train_test_data.csv', index=False)"
   ]
  }
 ],
 "metadata": {
  "kernelspec": {
   "display_name": "Python 3",
   "language": "python",
   "name": "python3"
  },
  "language_info": {
   "name": "python",
   "version": "3.12.0"
  }
 },
 "nbformat": 4,
 "nbformat_minor": 2
}
